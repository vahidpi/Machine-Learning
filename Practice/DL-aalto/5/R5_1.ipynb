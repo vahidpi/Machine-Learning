{
 "cells": [
  {
   "cell_type": "code",
   "execution_count": 1,
   "metadata": {},
   "outputs": [],
   "source": [
    "import os\n",
    "import random\n",
    "import numpy as np\n",
    "\n",
    "import torch\n",
    "import torch.nn as nn\n",
    "import torch.optim as optim\n",
    "import torch.nn.functional as F\n",
    "from torch.nn.utils.rnn import pack_padded_sequence, pad_packed_sequence\n",
    "from torch.utils.data import DataLoader\n",
    "\n",
    "import tools\n",
    "import tests"
   ]
  },
  {
   "cell_type": "code",
   "execution_count": 4,
   "metadata": {},
   "outputs": [
    {
     "name": "stdout",
     "output_type": "stream",
     "text": [
      "The data directory is ../data\n"
     ]
    }
   ],
   "source": [
    "data_dir = tools.select_data_dir()"
   ]
  },
  {
   "cell_type": "code",
   "execution_count": 5,
   "metadata": {},
   "outputs": [],
   "source": [
    "device = torch.device('cpu')"
   ]
  },
  {
   "cell_type": "code",
   "execution_count": 6,
   "metadata": {},
   "outputs": [],
   "source": [
    "from data import TranslationDataset, MAX_LENGTH, SOS_token, EOS_token\n",
    "\n",
    "trainset = TranslationDataset(data_dir, train=True)"
   ]
  },
  {
   "cell_type": "code",
   "execution_count": 7,
   "metadata": {},
   "outputs": [
    {
     "name": "stdout",
     "output_type": "stream",
     "text": [
      "Source sentence: \"elle est tres mignonne . EOS\"\n",
      "Sentence as tensor of word indices:\n",
      "tensor([ 119,   25,  121, 1314,    5,    1])\n",
      "Target sentence: \"she is very pretty . EOS\"\n",
      "Sentence as tensor of word indices:\n",
      "tensor([ 75,  40, 304, 458,   4,   1])\n"
     ]
    }
   ],
   "source": [
    "src_sentence, tgt_sentence = trainset[np.random.choice(len(trainset))]\n",
    "print('Source sentence: \"%s\"' % ' '.join(trainset.input_lang.index2word[i.item()] for i in src_sentence))\n",
    "print('Sentence as tensor of word indices:')\n",
    "print(src_sentence)\n",
    "\n",
    "print('Target sentence: \"%s\"' % ' '.join(trainset.output_lang.index2word[i.item()] for i in tgt_sentence))\n",
    "print('Sentence as tensor of word indices:')\n",
    "print(tgt_sentence)"
   ]
  },
  {
   "cell_type": "code",
   "execution_count": 8,
   "metadata": {},
   "outputs": [
    {
     "name": "stdout",
     "output_type": "stream",
     "text": [
      "Number of source-target pairs in the training set:  8682\n"
     ]
    }
   ],
   "source": [
    "print('Number of source-target pairs in the training set: ', len(trainset))"
   ]
  },
  {
   "cell_type": "code",
   "execution_count": 35,
   "metadata": {},
   "outputs": [],
   "source": []
  },
  {
   "cell_type": "code",
   "execution_count": 43,
   "metadata": {},
   "outputs": [
    {
     "data": {
      "text/plain": [
       "'smiled'"
      ]
     },
     "execution_count": 43,
     "metadata": {},
     "output_type": "execute_result"
    }
   ],
   "source": []
  },
  {
   "cell_type": "code",
   "execution_count": null,
   "metadata": {},
   "outputs": [],
   "source": [
    "from torch.nn.utils.rnn import pad_sequence\n",
    "\n",
    "def collate(list_of_samples):\n",
    "    \"\"\"Merges a list of samples to form a mini-batch.\n",
    "\n",
    "    Args:\n",
    "      list_of_samples is a list of tuples (src_seq, tgt_seq):\n",
    "          src_seq is of shape (src_seq_length,)\n",
    "          tgt_seq is of shape (tgt_seq_length,)\n",
    "\n",
    "    Returns:\n",
    "      src_seqs of shape (max_src_seq_length, batch_size): Tensor of padded source sequences.\n",
    "          The sequences should be sorted by length in a decreasing order, that is src_seqs[:,0] should be\n",
    "          the longest sequence, and src_seqs[:,-1] should be the shortest.\n",
    "      src_seq_lengths: List of lengths of source sequences.\n",
    "      tgt_seqs of shape (max_tgt_seq_length, batch_size): Tensor of padded target sequences.\n",
    "    \"\"\"\n",
    "    # YOUR CODE HERE"
   ]
  },
  {
   "cell_type": "code",
   "execution_count": null,
   "metadata": {},
   "outputs": [],
   "source": []
  }
 ],
 "metadata": {
  "kernelspec": {
   "display_name": "Python 3",
   "language": "python",
   "name": "python3"
  },
  "language_info": {
   "codemirror_mode": {
    "name": "ipython",
    "version": 3
   },
   "file_extension": ".py",
   "mimetype": "text/x-python",
   "name": "python",
   "nbconvert_exporter": "python",
   "pygments_lexer": "ipython3",
   "version": "3.8.5"
  }
 },
 "nbformat": 4,
 "nbformat_minor": 4
}
