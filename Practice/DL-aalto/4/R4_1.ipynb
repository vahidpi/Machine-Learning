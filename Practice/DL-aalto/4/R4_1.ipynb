{
 "cells": [
  {
   "cell_type": "code",
   "execution_count": 14,
   "metadata": {},
   "outputs": [],
   "source": [
    "import numpy as np\n",
    "import matplotlib.pyplot as plt\n",
    "\n",
    "import torch\n",
    "import torch.nn as nn\n",
    "import torch.nn.functional as F\n",
    "from torch.optim.lr_scheduler import StepLR\n",
    "\n",
    "import tools"
   ]
  },
  {
   "cell_type": "code",
   "execution_count": 15,
   "metadata": {},
   "outputs": [],
   "source": [
    "device = torch.device(\"cpu\")"
   ]
  },
  {
   "cell_type": "code",
   "execution_count": 16,
   "metadata": {},
   "outputs": [],
   "source": [
    "np.random.seed(1)\n",
    "n = 80\n",
    "x = np.random.rand(n, 1)-0.5\n",
    "\n",
    "def fun(x):\n",
    "    y = np.cos(2* np.pi * x)\n",
    "    y += 0.3 * np.random.randn(*x.shape)\n",
    "    return y\n",
    "\n",
    "y = fun(x)\n",
    "\n",
    "# Convert to PyTorch tensors\n",
    "x = torch.tensor(x).float()\n",
    "y = torch.tensor(y).float()"
   ]
  },
  {
   "cell_type": "code",
   "execution_count": 17,
   "metadata": {},
   "outputs": [],
   "source": [
    "# Split the data into training and test sets\n",
    "torch.manual_seed(2)\n",
    "rp = torch.randperm(x.size(0))\n",
    "\n",
    "n_train = int(x.size(0) * 0.8)\n",
    "x_train, y_train = x[rp[:n_train]], y[rp[:n_train]]\n",
    "x_test, y_test = x[rp[n_train:]], y[rp[n_train:]]"
   ]
  },
  {
   "cell_type": "code",
   "execution_count": 18,
   "metadata": {},
   "outputs": [
    {
     "data": {
      "text/plain": [
       "[<matplotlib.lines.Line2D at 0x7fb7b0ddf070>]"
      ]
     },
     "execution_count": 18,
     "metadata": {},
     "output_type": "execute_result"
    },
    {
     "data": {
      "image/png": "[encoded data removed]",
      "text/plain": [
       "<Figure size 432x288 with 1 Axes>"
      ]
     },
     "metadata": {
      "needs_background": "light"
     },
     "output_type": "display_data"
    }
   ],
   "source": [
    "# Plot the data\n",
    "fix, ax = plt.subplots(1)\n",
    "ax.plot(x_train, y_train, 'b.')\n",
    "ax.plot(x_test, y_test, 'r.')"
   ]
  },
  {
   "cell_type": "markdown",
   "metadata": {},
   "source": [
    "## Define a multi-layer perceptron (MLP) network with two hidden layers\n",
    "\n",
    "In the code below, we define a neural network architecture with:\n",
    "* input dimension 1\n",
    "* one hidden layer with 100 units with tanh nonlinearity\n",
    "* one hidden layer with 100 units with tanh nonlinearity\n",
    "* linear output layer with output dimension 1"
   ]
  },
  {
   "cell_type": "code",
   "execution_count": 23,
   "metadata": {},
   "outputs": [],
   "source": [
    "class MLP(nn.Module):\n",
    "    def __init__(self):\n",
    "        # YOUR CODE HERE\n",
    "        super().__init__()\n",
    "        self.fc1=nn.Linear(1, 100)\n",
    "        self.fc2=nn.Linear(100, 100)\n",
    "        self.fc3=nn.Linear(100, 1)\n",
    "    def forward(self, x):\n",
    "        # YOUR CODE HERE\n",
    "        x=F.tanh(self.fc1(x))\n",
    "        x=F.tanh(self.fc2(x))\n",
    "        x=self.fc3(x)\n",
    "        \n",
    "        return x"
   ]
  },
  {
   "cell_type": "code",
   "execution_count": 24,
   "metadata": {},
   "outputs": [
    {
     "data": {
      "text/plain": [
       "MLP(\n",
       "  (fc1): Linear(in_features=1, out_features=100, bias=True)\n",
       "  (fc2): Linear(in_features=100, out_features=100, bias=True)\n",
       "  (fc3): Linear(in_features=100, out_features=1, bias=True)\n",
       ")"
      ]
     },
     "execution_count": 24,
     "metadata": {},
     "output_type": "execute_result"
    }
   ],
   "source": [
    "# Create an MLP network\n",
    "mlp = MLP()\n",
    "mlp.to(device)"
   ]
  },
  {
   "cell_type": "code",
   "execution_count": 25,
   "metadata": {},
   "outputs": [],
   "source": [
    "# This visualizes the function implemented by an MLP\n",
    "def plot_fit(mlp, x_train, y_train):\n",
    "    fig, ax = plt.subplots(1)\n",
    "    ax.plot(x_train, y_train, '.')\n",
    "    x_np = np.linspace(-0.5, 0.5, 100).reshape((-1, 1))\n",
    "    x = torch.tensor(x_np, device=device, dtype=torch.float)\n",
    "    pred = mlp.forward(x).cpu().data.numpy()\n",
    "    ax.plot(x_np, pred)"
   ]
  },
  {
   "cell_type": "code",
   "execution_count": 26,
   "metadata": {},
   "outputs": [
    {
     "name": "stderr",
     "output_type": "stream",
     "text": [
      "/Users/piroova/opt/anaconda3/lib/python3.8/site-packages/torch/nn/functional.py:1628: UserWarning: nn.functional.tanh is deprecated. Use torch.tanh instead.\n",
      "  warnings.warn(\"nn.functional.tanh is deprecated. Use torch.tanh instead.\")\n"
     ]
    },
    {
     "data": {
      "image/png": "[encoded data removed]",
      "text/plain": [
       "<Figure size 432x288 with 1 Axes>"
      ]
     },
     "metadata": {
      "needs_background": "light"
     },
     "output_type": "display_data"
    }
   ],
   "source": [
    "# Plot the function implemented by the MLP\n",
    "plot_fit(mlp, x_train, y_train)"
   ]
  },
  {
   "cell_type": "code",
   "execution_count": 27,
   "metadata": {},
   "outputs": [],
   "source": [
    "# This is the function to compute the loss:\n",
    "def compute_loss(mlp, x, y):\n",
    "    mlp.eval()\n",
    "    with torch.no_grad():\n",
    "        outputs = mlp.forward(x)\n",
    "        loss = F.mse_loss(outputs, y)\n",
    "        return loss.cpu().numpy()\n",
    "\n",
    "# This is the function to print the progress during training\n",
    "def print_progress(epoch, train_error, val_error):\n",
    "    print('Epoch {}: Train error: {:.4f}, Test error: {:.4f}'.format(\n",
    "        epoch, train_error, val_error))"
   ]
  },
  {
   "cell_type": "code",
   "execution_count": 28,
   "metadata": {},
   "outputs": [],
   "source": [
    "mlp = MLP()\n",
    "mlp.to(device)\n",
    "optimizer = torch.optim.Adam(mlp.parameters(), lr=0.01)"
   ]
  },
  {
   "cell_type": "code",
   "execution_count": 30,
   "metadata": {},
   "outputs": [
    {
     "name": "stderr",
     "output_type": "stream",
     "text": [
      "/Users/piroova/opt/anaconda3/lib/python3.8/site-packages/torch/nn/functional.py:1628: UserWarning: nn.functional.tanh is deprecated. Use torch.tanh instead.\n",
      "  warnings.warn(\"nn.functional.tanh is deprecated. Use torch.tanh instead.\")\n"
     ]
    },
    {
     "name": "stdout",
     "output_type": "stream",
     "text": [
      "Epoch 499: Train error: 0.0564, Test error: 0.0693\n",
      "Epoch 999: Train error: 0.0480, Test error: 0.0729\n",
      "Epoch 1499: Train error: 0.0338, Test error: 0.1042\n",
      "Epoch 1999: Train error: 0.0280, Test error: 0.1170\n",
      "Epoch 2499: Train error: 0.0254, Test error: 0.1290\n",
      "Epoch 2999: Train error: 0.0232, Test error: 0.1322\n",
      "Epoch 3499: Train error: 0.0216, Test error: 0.1426\n",
      "Epoch 3999: Train error: 0.0194, Test error: 0.1413\n",
      "Epoch 4499: Train error: 0.0196, Test error: 0.1320\n",
      "Epoch 4999: Train error: 0.0165, Test error: 0.1168\n",
      "Epoch 5499: Train error: 0.0169, Test error: 0.1145\n",
      "Epoch 5999: Train error: 0.0160, Test error: 0.1144\n",
      "Epoch 6499: Train error: 0.0159, Test error: 0.1149\n",
      "Epoch 6999: Train error: 0.0156, Test error: 0.1160\n",
      "Epoch 7499: Train error: 0.0248, Test error: 0.1588\n",
      "Epoch 7999: Train error: 0.0193, Test error: 0.1223\n",
      "Epoch 8499: Train error: 0.0164, Test error: 0.1292\n",
      "Epoch 8999: Train error: 0.0141, Test error: 0.1221\n",
      "Epoch 9499: Train error: 0.0139, Test error: 0.1252\n",
      "Epoch 9999: Train error: 0.0144, Test error: 0.1324\n",
      "Model saved to mlp_noreg.pth.\n"
     ]
    }
   ],
   "source": [
    "\n",
    "n_epochs = 10000\n",
    "train_errors = []  # Keep track of the training data\n",
    "val_errors = []  # Keep track of the validation data\n",
    "x = x_train.to(device)\n",
    "y = y_train.to(device)\n",
    "for epoch in range(n_epochs):\n",
    "\n",
    "    optimizer.zero_grad()\n",
    "    outputs = mlp.forward(x)\n",
    "    loss = F.mse_loss(outputs, y)\n",
    "    loss.backward()\n",
    "    optimizer.step()\n",
    "\n",
    "    if (epoch+1) % 500 == 0:\n",
    "        train_errors.append(compute_loss(mlp, x_train, y_train))\n",
    "        val_errors.append(compute_loss(mlp, x_test, y_test))\n",
    "        print_progress(epoch, train_errors[-1], val_errors[-1])\n",
    "\n",
    "# Save the model to disk (the pth-files will be submitted automatically together with your notebook)\n",
    "tools.save_model(mlp, 'mlp_noreg.pth', confirm=False)\n"
   ]
  },
  {
   "cell_type": "code",
   "execution_count": 31,
   "metadata": {},
   "outputs": [
    {
     "name": "stderr",
     "output_type": "stream",
     "text": [
      "/Users/piroova/opt/anaconda3/lib/python3.8/site-packages/torch/nn/functional.py:1628: UserWarning: nn.functional.tanh is deprecated. Use torch.tanh instead.\n",
      "  warnings.warn(\"nn.functional.tanh is deprecated. Use torch.tanh instead.\")\n"
     ]
    },
    {
     "data": {
      "image/png": "[encoded data removed]",
      "text/plain": [
       "<Figure size 432x288 with 1 Axes>"
      ]
     },
     "metadata": {
      "needs_background": "light"
     },
     "output_type": "display_data"
    }
   ],
   "source": [
    "# Plot the final fit\n",
    "plot_fit(mlp, x_train, y_train)"
   ]
  },
  {
   "cell_type": "code",
   "execution_count": 32,
   "metadata": {},
   "outputs": [
    {
     "name": "stdout",
     "output_type": "stream",
     "text": [
      "Test loss without regularization: 0.13240\n"
     ]
    },
    {
     "name": "stderr",
     "output_type": "stream",
     "text": [
      "/Users/piroova/opt/anaconda3/lib/python3.8/site-packages/torch/nn/functional.py:1628: UserWarning: nn.functional.tanh is deprecated. Use torch.tanh instead.\n",
      "  warnings.warn(\"nn.functional.tanh is deprecated. Use torch.tanh instead.\")\n"
     ]
    }
   ],
   "source": [
    "test_loss_no_regularization = compute_loss(mlp, x_test, y_test)\n",
    "print(\"Test loss without regularization: %.5f\" % test_loss_no_regularization)"
   ]
  },
  {
   "cell_type": "code",
   "execution_count": 33,
   "metadata": {},
   "outputs": [
    {
     "data": {
      "text/plain": [
       "[<matplotlib.lines.Line2D at 0x7fb7a2472f70>]"
      ]
     },
     "execution_count": 33,
     "metadata": {},
     "output_type": "execute_result"
    },
    {
     "data": {
      "image/png": "[encoded data removed]",
      "text/plain": [
       "<Figure size 432x288 with 1 Axes>"
      ]
     },
     "metadata": {
      "needs_background": "light"
     },
     "output_type": "display_data"
    }
   ],
   "source": [
    "fig, ax = plt.subplots(1)\n",
    "ax.loglog(train_errors)\n",
    "ax.loglog(val_errors)"
   ]
  },
  {
   "cell_type": "code",
   "execution_count": 34,
   "metadata": {},
   "outputs": [],
   "source": [
    "# Early stopping\n",
    "class EarlyStopping:\n",
    "    def __init__(self, tolerance, patience):\n",
    "        \"\"\"\n",
    "        Args:\n",
    "          patience (int):    Maximum number of epochs with unsuccessful updates.\n",
    "          tolerance (float): We assume that the update is unsuccessful if the validation error is larger\n",
    "                              than the best validation error so far plus this tolerance.\n",
    "        \"\"\"\n",
    "        self.tolerance = tolerance\n",
    "        self.patience = patience\n",
    "    \n",
    "    def stop_criterion(self, val_errors):\n",
    "        \"\"\"\n",
    "        Args:\n",
    "          val_errors (iterable): Validation errors after every update during training.\n",
    "        \n",
    "        Returns: True if training should be stopped: when the validation error is larger than the best\n",
    "                  validation error obtained so far (with given tolearance) for patience epochs (number of consecutive epochs for which the criterion is satisfied).\n",
    "                 \n",
    "                 Otherwise, False.\n",
    "        \"\"\"\n",
    "        if len(val_errors) <= self.patience:\n",
    "            return False\n",
    "\n",
    "        min_val_error = min(val_errors)\n",
    "        val_errors = np.array(val_errors[-self.patience:])\n",
    "        return all(val_errors > min_val_error + self.tolerance)"
   ]
  },
  {
   "cell_type": "code",
   "execution_count": 35,
   "metadata": {},
   "outputs": [],
   "source": [
    "mlp = MLP()\n",
    "mlp.to(device)\n",
    "optimizer = torch.optim.Adam(mlp.parameters(), lr=0.001)"
   ]
  },
  {
   "cell_type": "code",
   "execution_count": 36,
   "metadata": {},
   "outputs": [
    {
     "name": "stdout",
     "output_type": "stream",
     "text": [
      "Epoch 99: Train error: 0.0920, Test error: 0.0713\n",
      "Epoch 199: Train error: 0.0665, Test error: 0.0585\n",
      "Epoch 299: Train error: 0.0662, Test error: 0.0598\n",
      "Epoch 399: Train error: 0.0661, Test error: 0.0596\n",
      "Epoch 499: Train error: 0.0660, Test error: 0.0598\n",
      "Epoch 599: Train error: 0.0658, Test error: 0.0600\n",
      "Epoch 699: Train error: 0.0658, Test error: 0.0603\n",
      "Epoch 799: Train error: 0.0656, Test error: 0.0605\n",
      "Epoch 899: Train error: 0.0655, Test error: 0.0608\n",
      "Epoch 999: Train error: 0.0651, Test error: 0.0609\n",
      "Epoch 1099: Train error: 0.0647, Test error: 0.0610\n",
      "Epoch 1199: Train error: 0.0642, Test error: 0.0611\n",
      "Epoch 1299: Train error: 0.0636, Test error: 0.0612\n",
      "Epoch 1399: Train error: 0.0628, Test error: 0.0614\n",
      "Epoch 1499: Train error: 0.0621, Test error: 0.0618\n",
      "Epoch 1599: Train error: 0.0614, Test error: 0.0619\n",
      "Epoch 1699: Train error: 0.0608, Test error: 0.0620\n",
      "Epoch 1799: Train error: 0.0603, Test error: 0.0623\n",
      "Epoch 1899: Train error: 0.0596, Test error: 0.0627\n",
      "Epoch 1999: Train error: 0.0587, Test error: 0.0635\n",
      "Epoch 2099: Train error: 0.0575, Test error: 0.0647\n",
      "Epoch 2199: Train error: 0.0562, Test error: 0.0664\n",
      "0.06654703\n",
      "Stop after 2223 epochs\n",
      "Model saved to mlp_early.pth.\n"
     ]
    }
   ],
   "source": [
    "# Train the network with early stopping\n",
    "n_epochs = 10000\n",
    "train_errors = []  # Keep track of the training error\n",
    "val_errors = []  # Keep track of the validation error\n",
    "early_stop = EarlyStopping(tolerance=0.01, patience=20)\n",
    "\n",
    "x = x_train.to(device)\n",
    "y = y_train.to(device)\n",
    "\n",
    "for epoch in range(n_epochs):\n",
    "    optimizer.zero_grad()\n",
    "    outputs = mlp.forward(x)\n",
    "    loss = F.mse_loss(outputs, y)\n",
    "    loss.backward()\n",
    "    optimizer.step()\n",
    "\n",
    "    train_errors.append(compute_loss(mlp, x_train, y_train))\n",
    "    val_errors.append(compute_loss(mlp, x_test, y_test))\n",
    "\n",
    "    if early_stop.stop_criterion(val_errors):\n",
    "        print(val_errors[epoch])\n",
    "        print('Stop after %d epochs' % epoch)\n",
    "        break\n",
    "\n",
    "    if (epoch+1) % 100 == 0:\n",
    "        print_progress(epoch, train_errors[epoch], val_errors[epoch])\n",
    "\n",
    "# Save the model to disk (the pth-files will be submitted automatically together with your notebook)\n",
    "tools.save_model(mlp, 'mlp_early.pth', confirm=False)\n",
    "   "
   ]
  },
  {
   "cell_type": "code",
   "execution_count": 38,
   "metadata": {},
   "outputs": [
    {
     "data": {
      "text/plain": [
       "[<matplotlib.lines.Line2D at 0x7fb7a22cd580>]"
      ]
     },
     "execution_count": 38,
     "metadata": {},
     "output_type": "execute_result"
    },
    {
     "data": {
      "image/png": "[encoded data removed]",
      "text/plain": [
       "<Figure size 432x288 with 1 Axes>"
      ]
     },
     "metadata": {
      "needs_background": "light"
     },
     "output_type": "display_data"
    }
   ],
   "source": [
    "# Plot the learning curves\n",
    "fig, ax = plt.subplots(1)\n",
    "ax.loglog(train_errors)\n",
    "ax.loglog(val_errors)"
   ]
  },
  {
   "cell_type": "code",
   "execution_count": 39,
   "metadata": {},
   "outputs": [
    {
     "name": "stderr",
     "output_type": "stream",
     "text": [
      "/Users/piroova/opt/anaconda3/lib/python3.8/site-packages/torch/nn/functional.py:1628: UserWarning: nn.functional.tanh is deprecated. Use torch.tanh instead.\n",
      "  warnings.warn(\"nn.functional.tanh is deprecated. Use torch.tanh instead.\")\n"
     ]
    },
    {
     "data": {
      "image/png": "[encoded data removed]",
      "text/plain": [
       "<Figure size 432x288 with 1 Axes>"
      ]
     },
     "metadata": {
      "needs_background": "light"
     },
     "output_type": "display_data"
    }
   ],
   "source": [
    "# Plot the final fit\n",
    "plot_fit(mlp, x_train, y_train)"
   ]
  },
  {
   "cell_type": "code",
   "execution_count": 40,
   "metadata": {},
   "outputs": [
    {
     "name": "stdout",
     "output_type": "stream",
     "text": [
      "Test loss with early stopping: 0.06655\n"
     ]
    },
    {
     "name": "stderr",
     "output_type": "stream",
     "text": [
      "/Users/piroova/opt/anaconda3/lib/python3.8/site-packages/torch/nn/functional.py:1628: UserWarning: nn.functional.tanh is deprecated. Use torch.tanh instead.\n",
      "  warnings.warn(\"nn.functional.tanh is deprecated. Use torch.tanh instead.\")\n"
     ]
    }
   ],
   "source": [
    "test_loss_early_stopping = compute_loss(mlp, x_test, y_test)\n",
    "print(\"Test loss with early stopping: %.5f\" % test_loss_early_stopping)"
   ]
  },
  {
   "cell_type": "code",
   "execution_count": 43,
   "metadata": {},
   "outputs": [],
   "source": [
    "# Weight-decay regularization\n",
    "# Train an MLP with L2 regularization\n",
    "mlp = MLP()\n",
    "mlp.to(device)\n",
    "\n",
    "# Create an Adam optimizer with learning rate 0.01 and weight decay parameter 0.001\n",
    "# optimizer = ...\n",
    "# YOUR CODE HERE\n",
    "optimizer = torch.optim.Adam(mlp.parameters(), lr=0.001)"
   ]
  },
  {
   "cell_type": "code",
   "execution_count": 45,
   "metadata": {},
   "outputs": [
    {
     "name": "stdout",
     "output_type": "stream",
     "text": [
      "Epoch 99: Train error: 0.2311, Test error: 0.2025\n",
      "Epoch 199: Train error: 0.0667, Test error: 0.0553\n",
      "Epoch 299: Train error: 0.0661, Test error: 0.0581\n",
      "Epoch 399: Train error: 0.0660, Test error: 0.0595\n",
      "Epoch 499: Train error: 0.0659, Test error: 0.0602\n",
      "Epoch 599: Train error: 0.0657, Test error: 0.0605\n",
      "Epoch 699: Train error: 0.0655, Test error: 0.0605\n",
      "Epoch 799: Train error: 0.0652, Test error: 0.0603\n",
      "Epoch 899: Train error: 0.0649, Test error: 0.0599\n",
      "Epoch 999: Train error: 0.0643, Test error: 0.0594\n",
      "Epoch 1099: Train error: 0.0632, Test error: 0.0589\n",
      "Epoch 1199: Train error: 0.0606, Test error: 0.0601\n",
      "Epoch 1299: Train error: 0.0589, Test error: 0.0642\n",
      "Epoch 1399: Train error: 0.0579, Test error: 0.0685\n",
      "Epoch 1499: Train error: 0.0569, Test error: 0.0724\n",
      "Epoch 1599: Train error: 0.0560, Test error: 0.0753\n",
      "Epoch 1699: Train error: 0.0551, Test error: 0.0761\n",
      "Epoch 1799: Train error: 0.0543, Test error: 0.0766\n",
      "Epoch 1899: Train error: 0.0537, Test error: 0.0773\n",
      "Epoch 1999: Train error: 0.0533, Test error: 0.0775\n",
      "Epoch 2099: Train error: 0.0529, Test error: 0.0764\n",
      "Epoch 2199: Train error: 0.0525, Test error: 0.0753\n",
      "Epoch 2299: Train error: 0.0521, Test error: 0.0753\n",
      "Epoch 2399: Train error: 0.0517, Test error: 0.0750\n",
      "Epoch 2499: Train error: 0.0512, Test error: 0.0748\n",
      "Epoch 2599: Train error: 0.0508, Test error: 0.0747\n",
      "Epoch 2699: Train error: 0.0502, Test error: 0.0751\n",
      "Epoch 2799: Train error: 0.0495, Test error: 0.0757\n",
      "Epoch 2899: Train error: 0.0488, Test error: 0.0763\n",
      "Epoch 2999: Train error: 0.0481, Test error: 0.0768\n",
      "Epoch 3099: Train error: 0.0474, Test error: 0.0775\n",
      "Epoch 3199: Train error: 0.0466, Test error: 0.0786\n",
      "Epoch 3299: Train error: 0.0458, Test error: 0.0797\n",
      "Epoch 3399: Train error: 0.0451, Test error: 0.0818\n",
      "Epoch 3499: Train error: 0.0443, Test error: 0.0830\n",
      "Epoch 3599: Train error: 0.0437, Test error: 0.0847\n",
      "Epoch 3699: Train error: 0.0432, Test error: 0.0862\n",
      "Epoch 3799: Train error: 0.0427, Test error: 0.0876\n",
      "Epoch 3899: Train error: 0.0423, Test error: 0.0888\n",
      "Epoch 3999: Train error: 0.0419, Test error: 0.0900\n",
      "Model saved to mlp_wd.pth.\n"
     ]
    }
   ],
   "source": [
    "n_epochs = 4000\n",
    "train_errors = []\n",
    "val_errors = []\n",
    "\n",
    "x = x_train.to(device)\n",
    "y = y_train.to(device)\n",
    "\n",
    "for epoch in range(n_epochs):\n",
    "    optimizer.zero_grad()\n",
    "    outputs = mlp.forward(x)\n",
    "    loss = F.mse_loss(outputs, y)\n",
    "    loss.backward()\n",
    "    optimizer.step()\n",
    "\n",
    "    if (epoch+1) % 100 == 0:\n",
    "        train_errors.append(compute_loss(mlp, x_train, y_train))\n",
    "        val_errors.append(compute_loss(mlp, x_test, y_test))\n",
    "        print_progress(epoch, train_errors[-1], val_errors[-1])\n",
    "\n",
    "# Save the model to disk (the pth-files will be submitted automatically together with your notebook)\n",
    "tools.save_model(mlp, 'mlp_wd.pth', confirm=False)\n",
    " "
   ]
  },
  {
   "cell_type": "code",
   "execution_count": 46,
   "metadata": {},
   "outputs": [
    {
     "name": "stdout",
     "output_type": "stream",
     "text": [
      "Adam (\n",
      "Parameter Group 0\n",
      "    amsgrad: False\n",
      "    betas: (0.9, 0.999)\n",
      "    eps: 1e-08\n",
      "    lr: 0.001\n",
      "    weight_decay: 0\n",
      ")\n"
     ]
    }
   ],
   "source": [
    "print(optimizer)"
   ]
  },
  {
   "cell_type": "code",
   "execution_count": 47,
   "metadata": {},
   "outputs": [
    {
     "data": {
      "text/plain": [
       "[<matplotlib.lines.Line2D at 0x7fb7a2618a60>]"
      ]
     },
     "execution_count": 47,
     "metadata": {},
     "output_type": "execute_result"
    },
    {
     "data": {
      "image/png": "[encoded data removed]",
      "text/plain": [
       "<Figure size 432x288 with 1 Axes>"
      ]
     },
     "metadata": {
      "needs_background": "light"
     },
     "output_type": "display_data"
    }
   ],
   "source": [
    "fig, ax = plt.subplots(1)\n",
    "ax.loglog(train_errors)\n",
    "ax.loglog(val_errors)"
   ]
  },
  {
   "cell_type": "code",
   "execution_count": 48,
   "metadata": {},
   "outputs": [
    {
     "name": "stderr",
     "output_type": "stream",
     "text": [
      "/Users/piroova/opt/anaconda3/lib/python3.8/site-packages/torch/nn/functional.py:1628: UserWarning: nn.functional.tanh is deprecated. Use torch.tanh instead.\n",
      "  warnings.warn(\"nn.functional.tanh is deprecated. Use torch.tanh instead.\")\n"
     ]
    },
    {
     "data": {
      "image/png": "[encoded data removed]",
      "text/plain": [
       "<Figure size 432x288 with 1 Axes>"
      ]
     },
     "metadata": {
      "needs_background": "light"
     },
     "output_type": "display_data"
    }
   ],
   "source": [
    "# Plot the final fit\n",
    "plot_fit(mlp, x_train, y_train)"
   ]
  },
  {
   "cell_type": "code",
   "execution_count": 49,
   "metadata": {},
   "outputs": [
    {
     "name": "stdout",
     "output_type": "stream",
     "text": [
      "Test loss with weight decay: 0.09002\n"
     ]
    },
    {
     "name": "stderr",
     "output_type": "stream",
     "text": [
      "/Users/piroova/opt/anaconda3/lib/python3.8/site-packages/torch/nn/functional.py:1628: UserWarning: nn.functional.tanh is deprecated. Use torch.tanh instead.\n",
      "  warnings.warn(\"nn.functional.tanh is deprecated. Use torch.tanh instead.\")\n"
     ]
    }
   ],
   "source": [
    "test_loss_weight_decay = compute_loss(mlp, x_test, y_test)\n",
    "print(\"Test loss with weight decay: %.5f\" % test_loss_weight_decay)"
   ]
  },
  {
   "cell_type": "code",
   "execution_count": 68,
   "metadata": {},
   "outputs": [],
   "source": [
    "# Injecting noise to inputs\n",
    "def add_noise(x, noise_std):\n",
    "    \"\"\"Add Gaussian noise to a PyTorch tensor.\n",
    "    \n",
    "    Args:\n",
    "      x (tensor): PyTorch tensor of inputs.\n",
    "      noise_std (float): Standard deviation of the Gaussian noise.\n",
    "      \n",
    "    Returns:\n",
    "      x: Tensor with Gaussian noise added.\n",
    "    \"\"\"\n",
    "    # YOUR CODE HERE\n",
    "#     noise = torch.autograd.Variable(x.data.new(x.size()).normal_(mean, stddev))\n",
    "    noise = torch.randn(x.size()) * noise_std \n",
    "    return x + noise"
   ]
  },
  {
   "cell_type": "code",
   "execution_count": 69,
   "metadata": {},
   "outputs": [],
   "source": [
    "# Let's test shapes\n",
    "x = torch.randn(10)\n",
    "x_with_noise = add_noise(x, 0.5)\n",
    "assert x_with_noise.shape == x.shape, f\"Bad x_with_noise.shape: {x_with_noise.shape}\""
   ]
  },
  {
   "cell_type": "code",
   "execution_count": 70,
   "metadata": {},
   "outputs": [],
   "source": [
    "mlp = MLP()\n",
    "mlp.to(device)\n",
    "optimizer = torch.optim.Adam(mlp.parameters(), lr=0.01)"
   ]
  },
  {
   "cell_type": "code",
   "execution_count": 72,
   "metadata": {},
   "outputs": [
    {
     "name": "stderr",
     "output_type": "stream",
     "text": [
      "/Users/piroova/opt/anaconda3/lib/python3.8/site-packages/torch/nn/functional.py:1628: UserWarning: nn.functional.tanh is deprecated. Use torch.tanh instead.\n",
      "  warnings.warn(\"nn.functional.tanh is deprecated. Use torch.tanh instead.\")\n"
     ]
    },
    {
     "name": "stdout",
     "output_type": "stream",
     "text": [
      "Epoch 99: Train error: 0.0852, Test error: 0.0740\n",
      "Epoch 199: Train error: 0.0807, Test error: 0.0736\n",
      "Epoch 299: Train error: 0.0644, Test error: 0.0728\n",
      "Epoch 399: Train error: 0.0656, Test error: 0.0825\n",
      "Epoch 499: Train error: 0.0638, Test error: 0.0783\n",
      "Epoch 599: Train error: 0.0671, Test error: 0.0680\n",
      "Epoch 699: Train error: 0.0650, Test error: 0.0770\n",
      "Epoch 799: Train error: 0.0644, Test error: 0.0657\n",
      "Epoch 899: Train error: 0.0677, Test error: 0.0759\n",
      "Epoch 999: Train error: 0.0657, Test error: 0.0629\n",
      "Epoch 1099: Train error: 0.0637, Test error: 0.0874\n",
      "Epoch 1199: Train error: 0.0788, Test error: 0.1026\n",
      "Epoch 1299: Train error: 0.0672, Test error: 0.0707\n",
      "Epoch 1399: Train error: 0.0621, Test error: 0.0791\n",
      "Epoch 1499: Train error: 0.0629, Test error: 0.0692\n",
      "Epoch 1599: Train error: 0.0623, Test error: 0.0714\n",
      "Epoch 1699: Train error: 0.0623, Test error: 0.0687\n",
      "Epoch 1799: Train error: 0.0651, Test error: 0.0768\n",
      "Epoch 1899: Train error: 0.0659, Test error: 0.0933\n",
      "Epoch 1999: Train error: 0.0656, Test error: 0.0764\n",
      "Epoch 2099: Train error: 0.0648, Test error: 0.0931\n",
      "Epoch 2199: Train error: 0.0717, Test error: 0.0866\n",
      "Epoch 2299: Train error: 0.0639, Test error: 0.0856\n",
      "Epoch 2399: Train error: 0.0649, Test error: 0.0664\n",
      "Epoch 2499: Train error: 0.0641, Test error: 0.0814\n",
      "Epoch 2599: Train error: 0.0642, Test error: 0.0608\n",
      "Epoch 2699: Train error: 0.0686, Test error: 0.0854\n",
      "Epoch 2799: Train error: 0.0663, Test error: 0.0776\n",
      "Epoch 2899: Train error: 0.0633, Test error: 0.0824\n",
      "Epoch 2999: Train error: 0.0669, Test error: 0.0749\n",
      "Epoch 3099: Train error: 0.0673, Test error: 0.0818\n",
      "Epoch 3199: Train error: 0.0694, Test error: 0.0916\n",
      "Epoch 3299: Train error: 0.0641, Test error: 0.0670\n",
      "Epoch 3399: Train error: 0.0699, Test error: 0.0830\n",
      "Epoch 3499: Train error: 0.0789, Test error: 0.1042\n",
      "Epoch 3599: Train error: 0.0655, Test error: 0.0789\n",
      "Epoch 3699: Train error: 0.0656, Test error: 0.0793\n",
      "Epoch 3799: Train error: 0.0632, Test error: 0.0849\n",
      "Epoch 3899: Train error: 0.0618, Test error: 0.0843\n",
      "Epoch 3999: Train error: 0.0655, Test error: 0.0735\n",
      "Model saved to mlp_noiseinj.pth.\n"
     ]
    }
   ],
   "source": [
    "# Train MLP with injecting noise to inputs\n",
    "\n",
    "n_epochs = 4000\n",
    "train_errors = []\n",
    "val_errors = []\n",
    "x = x_train.to(device)\n",
    "y = y_train.to(device)\n",
    "\n",
    "for epoch in range(n_epochs):\n",
    "    optimizer.zero_grad()\n",
    "    outputs = mlp.forward(add_noise(x, noise_std=0.05))\n",
    "    loss = F.mse_loss(outputs, y)\n",
    "    loss.backward()\n",
    "    optimizer.step()\n",
    "\n",
    "    if (epoch+1) % 100 == 0:\n",
    "        train_errors.append(compute_loss(mlp, x_train, y_train))\n",
    "        val_errors.append(compute_loss(mlp, x_test, y_test))\n",
    "        print_progress(epoch, train_errors[-1], val_errors[-1])\n",
    "\n",
    "# Save the model to disk (the pth-files will be submitted automatically together with your notebook)\n",
    "tools.save_model(mlp, 'mlp_noiseinj.pth', confirm=False)\n"
   ]
  },
  {
   "cell_type": "code",
   "execution_count": 74,
   "metadata": {},
   "outputs": [
    {
     "data": {
      "text/plain": [
       "[<matplotlib.lines.Line2D at 0x7fb7a27f62b0>]"
      ]
     },
     "execution_count": 74,
     "metadata": {},
     "output_type": "execute_result"
    },
    {
     "data": {
      "image/png": "[encoded data removed]",
      "text/plain": [
       "<Figure size 432x288 with 1 Axes>"
      ]
     },
     "metadata": {
      "needs_background": "light"
     },
     "output_type": "display_data"
    }
   ],
   "source": [
    "# Plot the learning curves\n",
    "\n",
    "fig, ax = plt.subplots(1)\n",
    "ax.loglog(train_errors)\n",
    "ax.loglog(val_errors)"
   ]
  },
  {
   "cell_type": "code",
   "execution_count": 75,
   "metadata": {},
   "outputs": [
    {
     "name": "stderr",
     "output_type": "stream",
     "text": [
      "/Users/piroova/opt/anaconda3/lib/python3.8/site-packages/torch/nn/functional.py:1628: UserWarning: nn.functional.tanh is deprecated. Use torch.tanh instead.\n",
      "  warnings.warn(\"nn.functional.tanh is deprecated. Use torch.tanh instead.\")\n"
     ]
    },
    {
     "data": {
      "image/png": "[encoded data removed]",
      "text/plain": [
       "<Figure size 432x288 with 1 Axes>"
      ]
     },
     "metadata": {
      "needs_background": "light"
     },
     "output_type": "display_data"
    }
   ],
   "source": [
    "# Plot the final fit\n",
    "plot_fit(mlp, x_train, y_train)"
   ]
  },
  {
   "cell_type": "code",
   "execution_count": 76,
   "metadata": {},
   "outputs": [
    {
     "name": "stdout",
     "output_type": "stream",
     "text": [
      "Test loss with noise injection: 0.07353\n"
     ]
    },
    {
     "name": "stderr",
     "output_type": "stream",
     "text": [
      "/Users/piroova/opt/anaconda3/lib/python3.8/site-packages/torch/nn/functional.py:1628: UserWarning: nn.functional.tanh is deprecated. Use torch.tanh instead.\n",
      "  warnings.warn(\"nn.functional.tanh is deprecated. Use torch.tanh instead.\")\n"
     ]
    }
   ],
   "source": [
    "# Let's look at the test loss\n",
    "test_loss_inj_noise = compute_loss(mlp, x_test, y_test)\n",
    "print(\"Test loss with noise injection: %.5f\" % test_loss_inj_noise)"
   ]
  },
  {
   "cell_type": "code",
   "execution_count": 77,
   "metadata": {},
   "outputs": [],
   "source": [
    "# Dropout\n",
    "# https://arxiv.org/abs/1207.0580\n",
    "class MLPDropout(nn.Module):\n",
    "    def __init__(self):\n",
    "        # YOUR CODE HERE\n",
    "        super().__init__()\n",
    "        self.fc1=nn.Linear(1, 100)\n",
    "        self.fc2=nn.Linear(100, 100)\n",
    "        self.fc3=nn.Linear(100, 1)\n",
    "        self.dropout = nn.Dropout(0.25)\n",
    "        \n",
    "    def forward(self, x):\n",
    "        # YOUR CODE HERE\n",
    "        x=F.tanh(self.fc1(x))\n",
    "        x=self.dropout(x)\n",
    "        x=F.tanh(self.fc2(x))\n",
    "        x=self.dropout(x)\n",
    "        x=self.fc3(x)\n",
    "        \n",
    " \n",
    "        return x"
   ]
  },
  {
   "cell_type": "code",
   "execution_count": 78,
   "metadata": {},
   "outputs": [
    {
     "name": "stdout",
     "output_type": "stream",
     "text": [
      "MLPDropout(\n",
      "  (fc1): Linear(in_features=1, out_features=100, bias=True)\n",
      "  (fc2): Linear(in_features=100, out_features=100, bias=True)\n",
      "  (fc3): Linear(in_features=100, out_features=1, bias=True)\n",
      "  (dropout): Dropout(p=0.25, inplace=False)\n",
      ")\n"
     ]
    }
   ],
   "source": [
    "mlp = MLPDropout()\n",
    "print(mlp)"
   ]
  },
  {
   "cell_type": "code",
   "execution_count": 79,
   "metadata": {},
   "outputs": [],
   "source": [
    "mlp = MLPDropout()\n",
    "mlp.to(device)\n",
    "optimizer = torch.optim.Adam(mlp.parameters(), lr=0.01)"
   ]
  },
  {
   "cell_type": "code",
   "execution_count": 80,
   "metadata": {},
   "outputs": [
    {
     "name": "stderr",
     "output_type": "stream",
     "text": [
      "/Users/piroova/opt/anaconda3/lib/python3.8/site-packages/torch/nn/functional.py:1628: UserWarning: nn.functional.tanh is deprecated. Use torch.tanh instead.\n",
      "  warnings.warn(\"nn.functional.tanh is deprecated. Use torch.tanh instead.\")\n"
     ]
    },
    {
     "name": "stdout",
     "output_type": "stream",
     "text": [
      "Epoch 99: Train error: 0.0803, Test error: 0.0963\n",
      "Epoch 199: Train error: 0.0742, Test error: 0.1009\n",
      "Epoch 299: Train error: 0.0695, Test error: 0.0921\n",
      "Epoch 399: Train error: 0.0714, Test error: 0.0876\n",
      "Epoch 499: Train error: 0.0681, Test error: 0.0850\n",
      "Epoch 599: Train error: 0.0690, Test error: 0.0811\n",
      "Epoch 699: Train error: 0.0764, Test error: 0.0864\n",
      "Epoch 799: Train error: 0.0667, Test error: 0.0879\n",
      "Epoch 899: Train error: 0.0650, Test error: 0.0838\n",
      "Epoch 999: Train error: 0.0636, Test error: 0.0852\n",
      "Epoch 1099: Train error: 0.0639, Test error: 0.0814\n",
      "Epoch 1199: Train error: 0.0673, Test error: 0.0939\n",
      "Epoch 1299: Train error: 0.0830, Test error: 0.0804\n",
      "Epoch 1399: Train error: 0.0643, Test error: 0.0743\n",
      "Epoch 1499: Train error: 0.0629, Test error: 0.0819\n",
      "Epoch 1599: Train error: 0.0640, Test error: 0.0785\n",
      "Epoch 1699: Train error: 0.0656, Test error: 0.0839\n",
      "Epoch 1799: Train error: 0.0671, Test error: 0.0899\n",
      "Epoch 1899: Train error: 0.0631, Test error: 0.0751\n",
      "Epoch 1999: Train error: 0.0647, Test error: 0.0849\n",
      "Epoch 2099: Train error: 0.0649, Test error: 0.0875\n",
      "Epoch 2199: Train error: 0.0664, Test error: 0.0874\n",
      "Epoch 2299: Train error: 0.0607, Test error: 0.0766\n",
      "Epoch 2399: Train error: 0.0688, Test error: 0.0959\n",
      "Epoch 2499: Train error: 0.0629, Test error: 0.0768\n",
      "Epoch 2599: Train error: 0.0653, Test error: 0.0781\n",
      "Epoch 2699: Train error: 0.0639, Test error: 0.0782\n",
      "Epoch 2799: Train error: 0.0641, Test error: 0.0824\n",
      "Epoch 2899: Train error: 0.0605, Test error: 0.0781\n",
      "Epoch 2999: Train error: 0.0593, Test error: 0.0817\n",
      "Epoch 3099: Train error: 0.0618, Test error: 0.0826\n",
      "Epoch 3199: Train error: 0.0654, Test error: 0.0805\n",
      "Epoch 3299: Train error: 0.0609, Test error: 0.0781\n",
      "Epoch 3399: Train error: 0.0590, Test error: 0.0765\n",
      "Epoch 3499: Train error: 0.0655, Test error: 0.0906\n",
      "Epoch 3599: Train error: 0.0673, Test error: 0.1008\n",
      "Epoch 3699: Train error: 0.0619, Test error: 0.0796\n",
      "Epoch 3799: Train error: 0.0606, Test error: 0.0709\n",
      "Epoch 3899: Train error: 0.0609, Test error: 0.0924\n",
      "Epoch 3999: Train error: 0.0623, Test error: 0.0781\n",
      "Model saved to mlp_dropout.pth.\n"
     ]
    }
   ],
   "source": [
    "#scheduler = StepLR(optimizer, step_size=100, gamma=0.95)\n",
    "n_epochs = 4000\n",
    "train_errors = []\n",
    "val_errors = []\n",
    "\n",
    "x = x_train.to(device)\n",
    "y = y_train.to(device)\n",
    "\n",
    "for epoch in range(n_epochs):\n",
    "    #scheduler.step()\n",
    "    mlp.train()\n",
    "    optimizer.zero_grad()\n",
    "    outputs = mlp.forward(x)\n",
    "    loss = F.mse_loss(outputs, y)\n",
    "    loss.backward()\n",
    "    optimizer.step()\n",
    "\n",
    "    if (epoch+1) % 100 == 0:\n",
    "        mlp.eval()\n",
    "        train_errors.append(compute_loss(mlp, x_train, y_train))\n",
    "        val_errors.append(compute_loss(mlp, x_test, y_test))\n",
    "        print_progress(epoch, train_errors[-1], val_errors[-1])\n",
    "\n",
    "# Save the model to disk (the pth-files will be submitted automatically together with your notebook)\n",
    "tools.save_model(mlp, 'mlp_dropout.pth', confirm=False)"
   ]
  },
  {
   "cell_type": "code",
   "execution_count": 81,
   "metadata": {},
   "outputs": [
    {
     "data": {
      "text/plain": [
       "[<matplotlib.lines.Line2D at 0x7fb7b181efd0>]"
      ]
     },
     "execution_count": 81,
     "metadata": {},
     "output_type": "execute_result"
    },
    {
     "data": {
      "image/png": "[encoded data removed]",
      "text/plain": [
       "<Figure size 432x288 with 1 Axes>"
      ]
     },
     "metadata": {
      "needs_background": "light"
     },
     "output_type": "display_data"
    }
   ],
   "source": [
    "fig, ax = plt.subplots(1)\n",
    "ax.loglog(train_errors)\n",
    "ax.loglog(val_errors)"
   ]
  },
  {
   "cell_type": "code",
   "execution_count": 82,
   "metadata": {},
   "outputs": [
    {
     "name": "stderr",
     "output_type": "stream",
     "text": [
      "/Users/piroova/opt/anaconda3/lib/python3.8/site-packages/torch/nn/functional.py:1628: UserWarning: nn.functional.tanh is deprecated. Use torch.tanh instead.\n",
      "  warnings.warn(\"nn.functional.tanh is deprecated. Use torch.tanh instead.\")\n"
     ]
    },
    {
     "data": {
      "image/png": "[encoded data removed]",
      "text/plain": [
       "<Figure size 432x288 with 1 Axes>"
      ]
     },
     "metadata": {
      "needs_background": "light"
     },
     "output_type": "display_data"
    }
   ],
   "source": [
    "mlp.eval()\n",
    "plot_fit(mlp, x_train, y_train)"
   ]
  },
  {
   "cell_type": "code",
   "execution_count": 83,
   "metadata": {},
   "outputs": [
    {
     "name": "stdout",
     "output_type": "stream",
     "text": [
      "Test loss with dropout: 0.07814\n"
     ]
    },
    {
     "name": "stderr",
     "output_type": "stream",
     "text": [
      "/Users/piroova/opt/anaconda3/lib/python3.8/site-packages/torch/nn/functional.py:1628: UserWarning: nn.functional.tanh is deprecated. Use torch.tanh instead.\n",
      "  warnings.warn(\"nn.functional.tanh is deprecated. Use torch.tanh instead.\")\n"
     ]
    }
   ],
   "source": [
    "# Let's look at the test loss\n",
    "test_loss_dropout = compute_loss(mlp, x_test, y_test)\n",
    "print(\"Test loss with dropout: %.5f\" % test_loss_dropout)"
   ]
  },
  {
   "cell_type": "code",
   "execution_count": 85,
   "metadata": {},
   "outputs": [],
   "source": [
    "# Reducing model capacity"
   ]
  },
  {
   "cell_type": "markdown",
   "metadata": {},
   "source": [
    "Another simple way to reduce overfitting is to reduce the capacity of the model. Let us use for the same regression task a much smaller network: an MLP with one hidden layer with five units, tanh nonlinearity in the hidden layer and a linear output layer."
   ]
  },
  {
   "cell_type": "code",
   "execution_count": 86,
   "metadata": {},
   "outputs": [],
   "source": [
    "class MLPSmall(nn.Module):\n",
    "    def __init__(self):\n",
    "        super(MLPSmall, self).__init__()\n",
    "        # YOUR CODE HERE\n",
    "        super().__init__()\n",
    "        self.fc1=nn.Linear(1, 5)\n",
    "        self.fc2=nn.Linear(5, 1)\n",
    "    \n",
    "    def forward(self, x):\n",
    "        # YOUR CODE HERE\n",
    "        x=F.tanh(self.fc1(x))\n",
    "        x=self.fc2(x)\n",
    "        \n",
    "        return(x)"
   ]
  },
  {
   "cell_type": "code",
   "execution_count": 87,
   "metadata": {},
   "outputs": [],
   "source": [
    "mlp = MLPSmall()\n",
    "mlp.to(device)\n",
    "optimizer = torch.optim.Adam(mlp.parameters(), lr=0.001)"
   ]
  },
  {
   "cell_type": "code",
   "execution_count": 88,
   "metadata": {},
   "outputs": [
    {
     "name": "stderr",
     "output_type": "stream",
     "text": [
      "/Users/piroova/opt/anaconda3/lib/python3.8/site-packages/torch/nn/functional.py:1628: UserWarning: nn.functional.tanh is deprecated. Use torch.tanh instead.\n",
      "  warnings.warn(\"nn.functional.tanh is deprecated. Use torch.tanh instead.\")\n"
     ]
    },
    {
     "name": "stdout",
     "output_type": "stream",
     "text": [
      "Epoch 499: Train error: 0.5942, Test error: 0.6043\n",
      "Epoch 999: Train error: 0.5790, Test error: 0.5639\n",
      "Epoch 1499: Train error: 0.5505, Test error: 0.5135\n",
      "Epoch 1999: Train error: 0.4943, Test error: 0.4454\n",
      "Epoch 2499: Train error: 0.3351, Test error: 0.2856\n",
      "Epoch 2999: Train error: 0.1254, Test error: 0.0935\n",
      "Epoch 3499: Train error: 0.0809, Test error: 0.0609\n",
      "Epoch 3999: Train error: 0.0732, Test error: 0.0564\n",
      "Epoch 4499: Train error: 0.0698, Test error: 0.0557\n",
      "Epoch 4999: Train error: 0.0679, Test error: 0.0564\n",
      "Epoch 5499: Train error: 0.0669, Test error: 0.0578\n",
      "Epoch 5999: Train error: 0.0664, Test error: 0.0592\n",
      "Epoch 6499: Train error: 0.0662, Test error: 0.0603\n",
      "Epoch 6999: Train error: 0.0662, Test error: 0.0611\n",
      "Epoch 7499: Train error: 0.0661, Test error: 0.0616\n",
      "Epoch 7999: Train error: 0.0661, Test error: 0.0617\n",
      "Epoch 8499: Train error: 0.0661, Test error: 0.0617\n",
      "Epoch 8999: Train error: 0.0661, Test error: 0.0617\n",
      "Epoch 9499: Train error: 0.0661, Test error: 0.0616\n",
      "Epoch 9999: Train error: 0.0661, Test error: 0.0615\n",
      "Model saved to mlp_small.pth.\n"
     ]
    }
   ],
   "source": [
    "n_epochs = 10000\n",
    "train_errors = []  # Keep track of the training data\n",
    "val_errors = []  # Keep track of the validation data\n",
    "\n",
    "x = x_train.to(device)\n",
    "y = y_train.to(device)\n",
    "\n",
    "for epoch in range(n_epochs):\n",
    "    optimizer.zero_grad()\n",
    "    outputs = mlp.forward(x)\n",
    "    loss = F.mse_loss(outputs, y)\n",
    "    loss.backward()\n",
    "    optimizer.step()\n",
    "\n",
    "    if (epoch+1) % 500 == 0:\n",
    "        train_errors.append(compute_loss(mlp, x_train, y_train))\n",
    "        val_errors.append(compute_loss(mlp, x_test, y_test))\n",
    "        print_progress(epoch, train_errors[-1], val_errors[-1])\n",
    "\n",
    "# Save the model to disk (the pth-files will be submitted automatically together with your notebook)\n",
    "tools.save_model(mlp, 'mlp_small.pth', confirm=False)"
   ]
  },
  {
   "cell_type": "code",
   "execution_count": 90,
   "metadata": {},
   "outputs": [
    {
     "data": {
      "text/plain": [
       "[<matplotlib.lines.Line2D at 0x7fb7a2f28b50>]"
      ]
     },
     "execution_count": 90,
     "metadata": {},
     "output_type": "execute_result"
    },
    {
     "data": {
      "image/png": "[encoded data removed]",
      "text/plain": [
       "<Figure size 432x288 with 1 Axes>"
      ]
     },
     "metadata": {
      "needs_background": "light"
     },
     "output_type": "display_data"
    }
   ],
   "source": [
    "fig, ax = plt.subplots(1)\n",
    "ax.loglog(train_errors)\n",
    "ax.loglog(val_errors)"
   ]
  },
  {
   "cell_type": "code",
   "execution_count": 91,
   "metadata": {},
   "outputs": [
    {
     "name": "stderr",
     "output_type": "stream",
     "text": [
      "/Users/piroova/opt/anaconda3/lib/python3.8/site-packages/torch/nn/functional.py:1628: UserWarning: nn.functional.tanh is deprecated. Use torch.tanh instead.\n",
      "  warnings.warn(\"nn.functional.tanh is deprecated. Use torch.tanh instead.\")\n"
     ]
    },
    {
     "data": {
      "image/png": "[encoded data removed]",
      "text/plain": [
       "<Figure size 432x288 with 1 Axes>"
      ]
     },
     "metadata": {
      "needs_background": "light"
     },
     "output_type": "display_data"
    }
   ],
   "source": [
    "# Plot the final fit\n",
    "mlp.eval()\n",
    "plot_fit(mlp, x_train, y_train)"
   ]
  },
  {
   "cell_type": "code",
   "execution_count": 92,
   "metadata": {},
   "outputs": [
    {
     "name": "stdout",
     "output_type": "stream",
     "text": [
      "Test loss by reducing model capacity: 0.06151\n"
     ]
    },
    {
     "name": "stderr",
     "output_type": "stream",
     "text": [
      "/Users/piroova/opt/anaconda3/lib/python3.8/site-packages/torch/nn/functional.py:1628: UserWarning: nn.functional.tanh is deprecated. Use torch.tanh instead.\n",
      "  warnings.warn(\"nn.functional.tanh is deprecated. Use torch.tanh instead.\")\n"
     ]
    }
   ],
   "source": [
    "# Let's look at the test loss\n",
    "test_loss_small = compute_loss(mlp, x_test, y_test)\n",
    "print(\"Test loss by reducing model capacity: %.5f\" % test_loss_small)"
   ]
  },
  {
   "cell_type": "code",
   "execution_count": 94,
   "metadata": {},
   "outputs": [
    {
     "name": "stdout",
     "output_type": "stream",
     "text": [
      "Loses:\n",
      "No regularization: 0.13240\n",
      "Early stopping:    0.06655\n",
      "Weight decay:      0.09002\n",
      "Noise injection:   0.07353\n",
      "Dropout:           0.07814\n",
      "Small network:     0.06151\n"
     ]
    }
   ],
   "source": [
    "# We can summarize the results obtained with different regularization methods:\n",
    "print(\"Loses:\")\n",
    "print('No regularization: %.5f' % test_loss_no_regularization)\n",
    "print('Early stopping:    %.5f' % test_loss_early_stopping)\n",
    "print('Weight decay:      %.5f' % test_loss_weight_decay)\n",
    "print('Noise injection:   %.5f' % test_loss_inj_noise)\n",
    "print('Dropout:           %.5f' % test_loss_dropout)\n",
    "print('Small network:     %.5f' % test_loss_small)"
   ]
  },
  {
   "cell_type": "code",
   "execution_count": null,
   "metadata": {},
   "outputs": [],
   "source": []
  }
 ],
 "metadata": {
  "kernelspec": {
   "display_name": "Python 3",
   "language": "python",
   "name": "python3"
  },
  "language_info": {
   "codemirror_mode": {
    "name": "ipython",
    "version": 3
   },
   "file_extension": ".py",
   "mimetype": "text/x-python",
   "name": "python",
   "nbconvert_exporter": "python",
   "pygments_lexer": "ipython3",
   "version": "3.8.5"
  }
 },
 "nbformat": 4,
 "nbformat_minor": 4
}
