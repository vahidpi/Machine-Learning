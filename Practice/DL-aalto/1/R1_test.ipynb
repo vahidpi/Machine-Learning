{
 "cells": [
  {
   "cell_type": "code",
   "execution_count": 7,
   "metadata": {},
   "outputs": [],
   "source": [
    "import pickle\n",
    "import numpy as np\n",
    "import matplotlib.pyplot as plt\n",
    "%matplotlib inline\n",
    "\n",
    "import tools\n",
    "import data"
   ]
  },
  {
   "cell_type": "code",
   "execution_count": 8,
   "metadata": {},
   "outputs": [
    {
     "name": "stdout",
     "output_type": "stream",
     "text": [
      "The data directory is ../data\n"
     ]
    }
   ],
   "source": [
    "# When running on your own computer, you can specify the data directory by:\n",
    "# data_dir = tools.select_data_dir('/your/local/data/directory')\n",
    "data_dir = tools.select_data_dir()"
   ]
  },
  {
   "cell_type": "code",
   "execution_count": 9,
   "metadata": {},
   "outputs": [],
   "source": [
    "# https://archive.ics.uci.edu/ml/datasets/wine+quality"
   ]
  },
  {
   "cell_type": "code",
   "execution_count": 10,
   "metadata": {},
   "outputs": [
    {
     "name": "stdout",
     "output_type": "stream",
     "text": [
      "Downloading https://users.aalto.fi/~alexilin/dle/winequality.zip to ../data/winequality.zip\n"
     ]
    },
    {
     "data": {
      "application/vnd.jupyter.widget-view+json": {
       "model_id": "a5974465691248f1992c9d8af8abd104",
       "version_major": 2,
       "version_minor": 0
      },
      "text/plain": [
       "HBox(children=(HTML(value=''), FloatProgress(value=1.0, bar_style='info', layout=Layout(width='20px'), max=1.0…"
      ]
     },
     "metadata": {},
     "output_type": "display_data"
    },
    {
     "name": "stdout",
     "output_type": "stream",
     "text": [
      "Extracting ../data/winequality.zip to ../data\n"
     ]
    }
   ],
   "source": [
    "trainset = data.WineQuality(data_dir, train=True, normalize=False)\n",
    "x_train, quality_train = [t.numpy() for t in trainset.tensors]\n",
    "\n",
    "testset = data.WineQuality(data_dir, train=False, normalize=False)\n",
    "x_test, quality_test = [t.numpy() for t in testset.tensors]"
   ]
  },
  {
   "cell_type": "code",
   "execution_count": 11,
   "metadata": {},
   "outputs": [],
   "source": [
    "# We will work with inputs normalized to zero mean and unit variance\n",
    "mean = x_train.mean(axis=0)\n",
    "std = x_train.std(axis=0)\n",
    "scaler = lambda x: (x - mean) / std\n",
    "\n",
    "x_train = scaler(x_train)\n",
    "x_test = scaler(x_test)"
   ]
  },
  {
   "cell_type": "code",
   "execution_count": 42,
   "metadata": {},
   "outputs": [
    {
     "data": {
      "text/plain": [
       "array([0, 0, 0, 0, 1, 1, 0, 0])"
      ]
     },
     "execution_count": 42,
     "metadata": {},
     "output_type": "execute_result"
    }
   ],
   "source": [
    "a=np.array([2,3,4,5,6,7,3,4])\n",
    "b=np.where(a > 5, 1, 0)\n",
    "b"
   ]
  },
  {
   "cell_type": "code",
   "execution_count": 63,
   "metadata": {},
   "outputs": [],
   "source": [
    "def binarize_targets(quality):\n",
    "    \"\"\"\n",
    "    Convert wine quality values to binary values.\n",
    "\n",
    "    Args:\n",
    "      quality of shape (n_samples,): Wine quality (integer values between 3 and 9).\n",
    "    \n",
    "    Returns:\n",
    "      targets of shape (n_samples,): Binary targets for the classification problem:\n",
    "                                      class 0: quality < 7 (bad wine)\n",
    "                                      class 1: quality >= 7 (good wine)\n",
    "    \"\"\"\n",
    "    # YOUR CODE HERE\n",
    "    return np.where(quality>=7, np.float32(1), np.float32(0))"
   ]
  },
  {
   "cell_type": "code",
   "execution_count": 64,
   "metadata": {},
   "outputs": [
    {
     "data": {
      "text/plain": [
       "dtype('float32')"
      ]
     },
     "execution_count": 64,
     "metadata": {},
     "output_type": "execute_result"
    }
   ],
   "source": [
    "binarize_targets(quality_test)\n",
    "targets_train = binarize_targets(quality_train)\n",
    "targets_train.dtype"
   ]
  },
  {
   "cell_type": "code",
   "execution_count": 65,
   "metadata": {},
   "outputs": [
    {
     "name": "stdout",
     "output_type": "stream",
     "text": [
      "Success\n"
     ]
    }
   ],
   "source": [
    "targets_train = binarize_targets(quality_train)\n",
    "targets_test = binarize_targets(quality_test)\n",
    "\n",
    "assert targets_train.dtype == np.float32\n",
    "assert targets_train.shape == quality_train.shape\n",
    "print('Success')"
   ]
  },
  {
   "cell_type": "code",
   "execution_count": 66,
   "metadata": {},
   "outputs": [],
   "source": [
    "from sklearn.linear_model import LogisticRegression"
   ]
  },
  {
   "cell_type": "code",
   "execution_count": 67,
   "metadata": {},
   "outputs": [],
   "source": [
    "def create_and_train_logistic_regression(inputs, targets):\n",
    "    \"\"\"\n",
    "    Args:\n",
    "      inputs of shape (n_samples, n_inputs): Inputs in the training set.\n",
    "      targets of shape (n_samples,): Targets (integer values wither 0 or 1).\n",
    "    \n",
    "    Returns:\n",
    "      model: Trained model which is an instance of class LogisticRegression.\n",
    "    \"\"\"\n",
    "    # YOUR CODE HERE\n",
    "    logisticRegr = LogisticRegression()\n",
    "    logisticRegr.fit(inputs, targets)\n",
    "    return logisticRegr"
   ]
  },
  {
   "cell_type": "code",
   "execution_count": 74,
   "metadata": {},
   "outputs": [
    {
     "data": {
      "text/plain": [
       "0.8061538461538461"
      ]
     },
     "execution_count": 74,
     "metadata": {},
     "output_type": "execute_result"
    }
   ],
   "source": [
    "# if not skip_training:\n",
    "model = create_and_train_logistic_regression(x_train, targets_train)\n",
    "model.score(x_test,targets_test)"
   ]
  },
  {
   "cell_type": "code",
   "execution_count": 71,
   "metadata": {},
   "outputs": [
    {
     "name": "stdout",
     "output_type": "stream",
     "text": [
      "Success\n"
     ]
    }
   ],
   "source": [
    "assert isinstance(model, LogisticRegression), 'model should be of type LogisticRegression.'\n",
    "pickle.dump(model, open('2_logreg.p', 'wb'))\n",
    "print('Success')"
   ]
  },
  {
   "cell_type": "code",
   "execution_count": null,
   "metadata": {},
   "outputs": [],
   "source": []
  }
 ],
 "metadata": {
  "kernelspec": {
   "display_name": "Python 3",
   "language": "python",
   "name": "python3"
  },
  "language_info": {
   "codemirror_mode": {
    "name": "ipython",
    "version": 3
   },
   "file_extension": ".py",
   "mimetype": "text/x-python",
   "name": "python",
   "nbconvert_exporter": "python",
   "pygments_lexer": "ipython3",
   "version": "3.8.5"
  }
 },
 "nbformat": 4,
 "nbformat_minor": 4
}
