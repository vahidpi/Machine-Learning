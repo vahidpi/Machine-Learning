{
 "cells": [
  {
   "cell_type": "markdown",
   "metadata": {},
   "source": [
    "[VGG-net](https://arxiv.org/abs/1409.1556)."
   ]
  },
  {
   "cell_type": "code",
   "execution_count": 1,
   "metadata": {},
   "outputs": [],
   "source": [
    "import os\n",
    "import numpy as np\n",
    "import matplotlib.pyplot as plt\n",
    "%matplotlib inline\n",
    "\n",
    "import torch\n",
    "import torchvision\n",
    "import torchvision.transforms as transforms\n",
    "\n",
    "import torch.nn as nn\n",
    "import torch.nn.functional as F\n",
    "import torch.optim as optim\n",
    "\n",
    "import tools\n",
    "import tests"
   ]
  },
  {
   "cell_type": "code",
   "execution_count": 2,
   "metadata": {},
   "outputs": [
    {
     "name": "stdout",
     "output_type": "stream",
     "text": [
      "The data directory is ../data\n"
     ]
    }
   ],
   "source": [
    "data_dir = tools.select_data_dir()"
   ]
  },
  {
   "cell_type": "code",
   "execution_count": 3,
   "metadata": {},
   "outputs": [],
   "source": [
    "device = torch.device('cpu')"
   ]
  },
  {
   "cell_type": "code",
   "execution_count": 4,
   "metadata": {},
   "outputs": [],
   "source": [
    "transform = transforms.Compose([\n",
    "    transforms.ToTensor(),  # Transform to tensor\n",
    "    transforms.Normalize((0.5,), (0.5,))  # Scale images to [-1, 1]\n",
    "])\n",
    "\n",
    "trainset = torchvision.datasets.FashionMNIST(root=data_dir, train=True, download=True, transform=transform)\n",
    "testset = torchvision.datasets.FashionMNIST(root=data_dir, train=False, download=True, transform=transform)\n",
    "\n",
    "classes = ['T-shirt/top', 'Trouser', 'Pullover', 'Dress', 'Coat', 'Sandal',\n",
    "           'Shirt', 'Sneaker', 'Bag', 'Ankle boot']\n",
    "\n",
    "trainloader = torch.utils.data.DataLoader(trainset, batch_size=32, shuffle=True)\n",
    "testloader = torch.utils.data.DataLoader(testset, batch_size=5, shuffle=False)"
   ]
  },
  {
   "cell_type": "markdown",
   "metadata": {},
   "source": [
    "The architecture:\n",
    "- A block of three convolutional layers with:\n",
    "    - 3x3 kernel\n",
    "    - 20 output channels\n",
    "    - one pixel zero-pading on both sides\n",
    "    - 2d batch normalization after each convolutional layer\n",
    "    - ReLU nonlinearity after each 2d batch normalization layer\n",
    "- Max pooling layer with 2x2 kernel and stride 2.\n",
    "- A block of three convolutional layers with:\n",
    "    - 3x3 kernel\n",
    "    - 40 output channels\n",
    "    - one pixel zero-pading on both sides\n",
    "    - 2d batch normalization after each convolutional layer\n",
    "    - ReLU nonlinearity after each 2d batch normalization layer\n",
    "- Max pooling layer with 2x2 kernel and stride 2.\n",
    "- One convolutional layer with:\n",
    "    - 3x3 kernel\n",
    "    - 60 output channels\n",
    "    - *no padding*\n",
    "    - 2d batch normalization after the convolutional layer\n",
    "    - ReLU nonlinearity after the 2d batch normalization layer\n",
    "- One convolutional layer with:\n",
    "    - 1x1 kernel\n",
    "    - 40 output channels\n",
    "    - *no padding*\n",
    "    - 2d batch normalization after the convolutional layer\n",
    "    - ReLU nonlinearity after the 2d batch normalization layer\n",
    "- One convolutional layer with:\n",
    "    - 1x1 kernel\n",
    "    - 20 output channels\n",
    "    - *no padding*\n",
    "    - 2d batch normalization after the convolutional layer\n",
    "    - ReLU nonlinearity after the 2d batch normalization layer\n",
    "- Global average pooling (compute the average value of each channel across all the input locations):\n",
    "    - 5x5 kernel (the input of the layer should be 5x5)\n",
    "- A fully-connected layer with 10 outputs (no nonlinearity)"
   ]
  },
  {
   "cell_type": "code",
   "execution_count": 38,
   "metadata": {},
   "outputs": [],
   "source": [
    "class VGGNet(nn.Module):\n",
    "    def __init__(self):\n",
    "        super(VGGNet, self).__init__()\n",
    "        # YOUR CODE HERE\n",
    "        self.conv1 = nn.Conv2d(1, out_channels=20, kernel_size=3, padding=(1,1)) # block of three conv\n",
    "        self.conv1_2 = nn.Conv2d(20, out_channels=20, kernel_size=3, padding=(1,1)) # block of three conv\n",
    "        self.conv1_3 = nn.Conv2d(20, out_channels=20, kernel_size=3, padding=(1,1)) # block of three conv\n",
    "        self.bn1 = nn.BatchNorm2d(num_features=20)\n",
    "        self.bn1_2 = nn.BatchNorm2d(num_features=20)\n",
    "        self.bn1_3 = nn.BatchNorm2d(num_features=20)\n",
    "        self.conv2 = nn.Conv2d(20,out_channels=40, kernel_size=3,padding=(1,1)) # block of three conv\n",
    "        self.conv2_2 = nn.Conv2d(40,out_channels=40, kernel_size=3,padding=(1,1)) # block of three conv\n",
    "        self.conv2_3 = nn.Conv2d(40,out_channels=40, kernel_size=3,padding=(1,1)) # block of three conv\n",
    "        self.bn2 = nn.BatchNorm2d(num_features=40)\n",
    "        self.bn2_2 = nn.BatchNorm2d(num_features=40)\n",
    "        self.bn2_3 = nn.BatchNorm2d(num_features=40)\n",
    "        self.conv3 = nn.Conv2d(40,out_channels=60, kernel_size=3)\n",
    "        self.bn3 = nn.BatchNorm2d(num_features=60)\n",
    "        self.conv4 = nn.Conv2d(60,out_channels=40, kernel_size=1)\n",
    "        self.bn4 = nn.BatchNorm2d(num_features=40)\n",
    "        self.conv5 = nn.Conv2d(40,out_channels=20, kernel_size=1)\n",
    "        self.bn5 = nn.BatchNorm2d(num_features=20)\n",
    "        self.fc1 = nn.Linear(20 , 10) \n",
    "\n",
    " \n",
    "    def forward(self, x, verbose=False):\n",
    "        \"\"\"\n",
    "        Args:\n",
    "          x of shape (batch_size, 1, 28, 28): Input images.\n",
    "          verbose: True if you want to print the shapes of the intermediate variables.\n",
    "        \n",
    "        Returns:\n",
    "          y of shape (batch_size, 10): Outputs of the network.\n",
    "        \"\"\"\n",
    "        # YOUR CODE HERE\n",
    "        x = F.relu(self.bn1(self.conv1(x)))\n",
    "        x = F.relu(self.bn1_2(self.conv1_2(x)))\n",
    "        x = F.relu(self.bn1_3(self.conv1_3(x)))\n",
    "        x = F.max_pool2d(x,2,2)\n",
    "        \n",
    "        x = F.relu(self.bn2(self.conv2(x)))\n",
    "        x = F.relu(self.bn2_2(self.conv2_2(x)))\n",
    "        x = F.relu(self.bn2_3(self.conv2_3(x)))\n",
    "        x = F.max_pool2d(x,2,2)\n",
    "\n",
    "        x = F.relu(self.bn3(self.conv3(x)))\n",
    "        x = F.relu(self.bn4(self.conv4(x)))\n",
    "        x = F.relu(self.bn5(self.conv5(x)))\n",
    "        \n",
    "        x = F.avg_pool2d(x,5,2)\n",
    "        x = x.view(-1, self.num_flat_features(x)) # Flat   \n",
    "        x = self.fc1(x)\n",
    "\n",
    "        return x\n",
    "    \n",
    "    def num_flat_features(self, x):\n",
    "        size = x.size()[1:]  # all dimensions except the batch dimension\n",
    "        num_features = 1\n",
    "        for s in size:\n",
    "            num_features *= s\n",
    "        # print(\"num_features:\",num_features) # 20\n",
    "        return num_features"
   ]
  },
  {
   "cell_type": "code",
   "execution_count": 39,
   "metadata": {},
   "outputs": [
    {
     "name": "stdout",
     "output_type": "stream",
     "text": [
      "Shape of the input tensor: torch.Size([32, 1, 28, 28])\n",
      "Success\n"
     ]
    }
   ],
   "source": [
    "def test_VGGNet_shapes():\n",
    "    net = VGGNet()\n",
    "    net.to(device)\n",
    "\n",
    "    # Feed a batch of images from the training data to test the network\n",
    "    with torch.no_grad():\n",
    "        images, labels = iter(trainloader).next()\n",
    "        images = images.to(device)\n",
    "        print('Shape of the input tensor:', images.shape)\n",
    "\n",
    "        y = net(images, verbose=True)\n",
    "        assert y.shape == torch.Size([trainloader.batch_size, 10]), f\"Bad y.shape: {y.shape}\"\n",
    "\n",
    "    print('Success')\n",
    "\n",
    "test_VGGNet_shapes()"
   ]
  },
  {
   "cell_type": "code",
   "execution_count": 40,
   "metadata": {},
   "outputs": [
    {
     "name": "stdout",
     "output_type": "stream",
     "text": [
      "y: tensor([[ 10.0382,  10.0382,  10.0382,  10.0382,  10.0382, -10.0382, -10.0382,\n",
      "         -10.0382, -10.0382, -10.0382]], grad_fn=<AddmmBackward>)\n",
      "expected: tensor([ 10.0382,  10.0382,  10.0382,  10.0382,  10.0382, -10.0382, -10.0382,\n",
      "        -10.0382, -10.0382, -10.0382])\n",
      "Success\n"
     ]
    }
   ],
   "source": [
    "tests.test_vgg_net(VGGNet)"
   ]
  },
  {
   "cell_type": "code",
   "execution_count": 41,
   "metadata": {},
   "outputs": [],
   "source": [
    "# This function computes the accuracy on the test dataset\n",
    "def compute_accuracy(net, testloader):\n",
    "    net.eval()\n",
    "    correct = 0\n",
    "    total = 0\n",
    "    with torch.no_grad():\n",
    "        for images, labels in testloader:\n",
    "            images, labels = images.to(device), labels.to(device)\n",
    "            outputs = net(images)\n",
    "            _, predicted = torch.max(outputs.data, 1)\n",
    "            total += labels.size(0)\n",
    "            correct += (predicted == labels).sum().item()\n",
    "    return correct / total"
   ]
  },
  {
   "cell_type": "code",
   "execution_count": 42,
   "metadata": {},
   "outputs": [],
   "source": [
    "net = VGGNet()"
   ]
  },
  {
   "cell_type": "code",
   "execution_count": 43,
   "metadata": {},
   "outputs": [],
   "source": [
    "optimizer = optim.Adam(net.parameters(),lr=0.01)\n",
    "loss_function = nn.CrossEntropyLoss()\n",
    "\n",
    "EPOCHS = 10\n",
    "BATCH_SIZE = 32"
   ]
  },
  {
   "cell_type": "code",
   "execution_count": null,
   "metadata": {},
   "outputs": [],
   "source": []
  },
  {
   "cell_type": "code",
   "execution_count": 44,
   "metadata": {},
   "outputs": [
    {
     "name": "stdout",
     "output_type": "stream",
     "text": [
      "Epoch: 0. Loss: 0.10231073200702667\n",
      "Epoch: 1. Loss: 0.41243377327919006\n",
      "Epoch: 2. Loss: 0.10539892315864563\n",
      "Epoch: 3. Loss: 0.389605849981308\n",
      "Epoch: 4. Loss: 0.18096397817134857\n",
      "Epoch: 5. Loss: 0.28332987427711487\n",
      "Epoch: 6. Loss: 0.34474754333496094\n",
      "Epoch: 7. Loss: 0.13344526290893555\n",
      "Epoch: 8. Loss: 0.14712971448898315\n",
      "Epoch: 9. Loss: 0.09031938016414642\n"
     ]
    }
   ],
   "source": [
    "# Implement the training loop in this cell\n",
    "for epoch in range(EPOCHS):\n",
    "    for images, labels in trainloader:\n",
    "        optimizer.zero_grad()\n",
    "        output = net(images)\n",
    "        loss = loss_function(output, labels)\n",
    "        loss.backward()\n",
    "        optimizer.step()\n",
    "    print(f\"Epoch: {epoch}. Loss: {loss}\")"
   ]
  },
  {
   "cell_type": "code",
   "execution_count": 45,
   "metadata": {},
   "outputs": [
    {
     "name": "stdout",
     "output_type": "stream",
     "text": [
      "Accuracy of the VGG net on the test images:  0.914\n",
      "Success\n"
     ]
    }
   ],
   "source": [
    "# Compute the accuracy on the test set\n",
    "accuracy = compute_accuracy(net, testloader)\n",
    "print(f'Accuracy of the VGG net on the test images: {accuracy: .3f}')\n",
    "assert accuracy > 0.89, 'Poor accuracy'\n",
    "print('Success')"
   ]
  },
  {
   "cell_type": "code",
   "execution_count": 46,
   "metadata": {},
   "outputs": [
    {
     "data": {
      "text/plain": [
       "0.9138"
      ]
     },
     "execution_count": 46,
     "metadata": {},
     "output_type": "execute_result"
    }
   ],
   "source": [
    "accuracy"
   ]
  },
  {
   "cell_type": "code",
   "execution_count": null,
   "metadata": {},
   "outputs": [],
   "source": []
  }
 ],
 "metadata": {
  "kernelspec": {
   "display_name": "Python 3",
   "language": "python",
   "name": "python3"
  },
  "language_info": {
   "codemirror_mode": {
    "name": "ipython",
    "version": 3
   },
   "file_extension": ".py",
   "mimetype": "text/x-python",
   "name": "python",
   "nbconvert_exporter": "python",
   "pygments_lexer": "ipython3",
   "version": "3.8.5"
  }
 },
 "nbformat": 4,
 "nbformat_minor": 4
}
