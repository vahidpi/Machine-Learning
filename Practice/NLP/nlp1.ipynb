{
 "cells": [
  {
   "cell_type": "code",
   "execution_count": null,
   "metadata": {},
   "outputs": [],
   "source": [
    "# https://www.youtube.com/watch?v=X2vAabgKiuM&ab_channel=freeCodeCamp.org"
   ]
  },
  {
   "cell_type": "code",
   "execution_count": 12,
   "metadata": {},
   "outputs": [],
   "source": [
    "import os\n",
    "import nltk\n",
    "import nltk.corpus"
   ]
  },
  {
   "cell_type": "code",
   "execution_count": 28,
   "metadata": {},
   "outputs": [
    {
     "data": {
      "text/plain": [
       "['__annotations__',\n",
       " '__call__',\n",
       " '__class__',\n",
       " '__closure__',\n",
       " '__code__',\n",
       " '__defaults__',\n",
       " '__delattr__',\n",
       " '__dict__',\n",
       " '__dir__',\n",
       " '__doc__',\n",
       " '__eq__',\n",
       " '__format__',\n",
       " '__ge__',\n",
       " '__get__',\n",
       " '__getattribute__',\n",
       " '__globals__',\n",
       " '__gt__',\n",
       " '__hash__',\n",
       " '__init__',\n",
       " '__init_subclass__',\n",
       " '__kwdefaults__',\n",
       " '__le__',\n",
       " '__lt__',\n",
       " '__module__',\n",
       " '__name__',\n",
       " '__ne__',\n",
       " '__new__',\n",
       " '__qualname__',\n",
       " '__reduce__',\n",
       " '__reduce_ex__',\n",
       " '__repr__',\n",
       " '__setattr__',\n",
       " '__sizeof__',\n",
       " '__str__',\n",
       " '__subclasshook__']"
      ]
     },
     "execution_count": 28,
     "metadata": {},
     "output_type": "execute_result"
    }
   ],
   "source": [
    "dir(nltk.data.find)"
   ]
  },
  {
   "cell_type": "code",
   "execution_count": 29,
   "metadata": {},
   "outputs": [
    {
     "name": "stdout",
     "output_type": "stream",
     "text": [
      "showing info https://raw.githubusercontent.com/nltk/nltk_data/gh-pages/index.xml\n"
     ]
    },
    {
     "data": {
      "text/plain": [
       "True"
      ]
     },
     "execution_count": 29,
     "metadata": {},
     "output_type": "execute_result"
    }
   ],
   "source": [
    "# nltk.download()"
   ]
  },
  {
   "cell_type": "code",
   "execution_count": 30,
   "metadata": {},
   "outputs": [
    {
     "name": "stdout",
     "output_type": "stream",
     "text": [
      "['words', 'gazetteers', 'webtext.zip', 'words.zip', 'genesis.zip', 'movie_reviews', 'stopwords', 'twitter_samples.zip', 'floresta', 'europarl_raw', 'alpino.zip', 'indian', 'inaugural', 'switchboard', 'senseval', 'mac_morpho', 'ptb.zip', 'conll2000', 'biocreative_ppi.zip', 'conll2002', 'jeita.zip', 'framenet_v15.zip', 'brown_tei', 'verbnet3', 'reuters.zip', 'treebank.zip', 'pros_cons.zip', 'qc', 'sinica_treebank', 'abc.zip', 'names.zip', 'brown.zip', 'gutenberg', 'unicode_samples.zip', 'stopwords.zip', 'treebank', 'comparative_sentences', 'sentiwordnet', 'timit', 'framenet_v15', 'pil', 'nps_chat.zip', 'dependency_treebank', 'wordnet', 'verbnet', 'senseval.zip', 'nps_chat', 'nonbreaking_prefixes.zip', 'chat80', 'opinion_lexicon', 'panlex_swadesh.zip', 'udhr2.zip', 'ptb', 'kimmo.zip', 'smultron', 'mac_morpho.zip', 'subjectivity', 'nonbreaking_prefixes', 'sinica_treebank.zip', 'udhr2', 'cess_cat.zip', 'wordnet.zip', 'movie_reviews.zip', 'indian.zip', 'conll2002.zip', 'dolch.zip', 'sentence_polarity', 'omw', 'product_reviews_2', 'inaugural.zip', 'brown', 'webtext', 'city_database', 'paradigms.zip', 'cess_esp.zip', 'toolbox.zip', 'brown_tei.zip', 'alpino', 'verbnet.zip', 'smultron.zip', 'pros_cons', 'mte_teip5', 'chat80.zip', 'conll2000.zip', 'toolbox', 'shakespeare.zip', 'shakespeare', 'ycoe', 'state_union.zip', 'city_database.zip', 'kimmo', 'swadesh', 'gutenberg.zip', 'ieer', 'gazetteers.zip', 'comparative_sentences.zip', 'crubadan', 'udhr.zip', 'cess_cat', 'switchboard.zip', 'wordnet_ic', 'lin_thesaurus', 'qc.zip', 'nombank.1.0.zip', 'ieer.zip', 'rte.zip', 'cmudict', 'verbnet3.zip', 'framenet_v17', 'machado.zip', 'sentiwordnet.zip', 'europarl_raw.zip', 'comtrans.zip', 'rte', 'subjectivity.zip', 'timit.zip', 'ppattach.zip', 'problem_reports', 'unicode_samples', 'mte_teip5.zip', 'product_reviews_1.zip', 'wordnet_ic.zip', 'omw.zip', 'abc', 'twitter_samples', 'names', 'dolch', 'conll2007.zip', 'lin_thesaurus.zip', 'product_reviews_2.zip', 'biocreative_ppi', 'framenet_v17.zip', 'paradigms', 'genesis', 'pil.zip', 'dependency_treebank.zip', 'opinion_lexicon.zip', 'cmudict.zip', 'ycoe.zip', 'product_reviews_1', 'pl196x', 'knbc.zip', 'semcor.zip', 'pl196x.zip', 'crubadan.zip', 'masc_tagged.zip', 'problem_reports.zip', 'ppattach', 'swadesh.zip', 'state_union', 'sentence_polarity.zip', 'cess_esp', 'universal_treebanks_v20.zip', 'floresta.zip', 'propbank.zip', 'udhr']\n"
     ]
    }
   ],
   "source": [
    "print(os.listdir(nltk.data.find(\"corpora\")))"
   ]
  },
  {
   "cell_type": "code",
   "execution_count": 31,
   "metadata": {},
   "outputs": [
    {
     "data": {
      "text/plain": [
       "['The', 'Fulton', 'County', 'Grand', 'Jury', 'said', ...]"
      ]
     },
     "execution_count": 31,
     "metadata": {},
     "output_type": "execute_result"
    }
   ],
   "source": [
    "from nltk.corpus import brown\n",
    "brown.words()"
   ]
  },
  {
   "cell_type": "code",
   "execution_count": 32,
   "metadata": {},
   "outputs": [
    {
     "data": {
      "text/plain": [
       "['austen-emma.txt',\n",
       " 'austen-persuasion.txt',\n",
       " 'austen-sense.txt',\n",
       " 'bible-kjv.txt',\n",
       " 'blake-poems.txt',\n",
       " 'bryant-stories.txt',\n",
       " 'burgess-busterbrown.txt',\n",
       " 'carroll-alice.txt',\n",
       " 'chesterton-ball.txt',\n",
       " 'chesterton-brown.txt',\n",
       " 'chesterton-thursday.txt',\n",
       " 'edgeworth-parents.txt',\n",
       " 'melville-moby_dick.txt',\n",
       " 'milton-paradise.txt',\n",
       " 'shakespeare-caesar.txt',\n",
       " 'shakespeare-hamlet.txt',\n",
       " 'shakespeare-macbeth.txt',\n",
       " 'whitman-leaves.txt']"
      ]
     },
     "execution_count": 32,
     "metadata": {},
     "output_type": "execute_result"
    }
   ],
   "source": [
    "nltk.corpus.gutenberg.fileids()"
   ]
  },
  {
   "cell_type": "code",
   "execution_count": 33,
   "metadata": {},
   "outputs": [
    {
     "data": {
      "text/plain": [
       "['[', 'The', 'Tragedie', 'of', 'Hamlet', 'by', ...]"
      ]
     },
     "execution_count": 33,
     "metadata": {},
     "output_type": "execute_result"
    }
   ],
   "source": [
    "hamlet=nltk.corpus.gutenberg.words( 'shakespeare-hamlet.txt')\n",
    "hamlet"
   ]
  },
  {
   "cell_type": "code",
   "execution_count": 34,
   "metadata": {},
   "outputs": [
    {
     "name": "stdout",
     "output_type": "stream",
     "text": [
      "[ The Tragedie of Hamlet by William Shakespeare 1599 ] Actus Primus . Scoena Prima . Enter Barnardo and Francisco two Centinels . Barnardo . Who ' s there ? Fran . Nay answer me : Stand & vnfold your selfe Bar . Long liue the King Fran . Barnardo ? Bar . He Fran . You come most carefully vpon your houre Bar . ' Tis now strook twelue , get thee to bed Francisco Fran . For this releefe much thankes : ' Tis bitter cold , And I am sicke at heart Barn . Haue you had quiet Guard ? Fran . Not a Mouse stirring Barn . Well , goodnight . If you do meet Horatio and Marcellus , the Riuals of my Watch , bid them make hast . Enter Horatio and Marcellus . Fran . I thinke I heare them . Stand : who ' s there ? Hor . Friends to this ground Mar . And Leige - men to the Dane Fran . Giue you good night Mar . O farwel honest Soldier , who hath relieu ' d you ? Fra . Barnardo ha ' s my place : giue you goodnight . Exit Fran . Mar . Holla Barnardo Bar . Say , what is Horatio there ? Hor . A peece of him Bar . Welcome Horatio , welcome good Marcellus Mar . What , ha ' s this thing appear ' d againe to night Bar . I haue seene nothing Mar . Horatio saies , ' tis but our Fantasie , And will not let beleefe take hold of him Touching this dreaded sight , twice seene of vs , Therefore I haue intreated him along With vs , to watch the minutes of this Night , That if againe this Apparition come , He may approue our eyes , and speake to it Hor . Tush , tush , ' twill not appeare Bar . Sit downe a - while , And let vs once againe assaile your eares , That are so fortified against our Story , What we two Nights haue seene Hor . Well , sit we downe , And let vs heare Barnardo speake of this Barn . Last night of all , When yond same Starre that ' s Westward from the Pole Had made his course t ' illume that part of Heauen Where now it burnes , Marcellus and my selfe , The Bell then beating one Mar . Peace , breake thee of : Enter the Ghost . Looke where it comes againe Barn . In the same figure , like the King that ' s dead Mar . Thou art a Scholler ; speake to it Horatio Barn . Lookes it not like the King ? Marke it Horatio Hora . Most like : It harrowes me with fear & wonder Barn . It would be spoke too Mar . Question it Horatio Hor . What art "
     ]
    }
   ],
   "source": [
    "for word in hamlet[:500]:\n",
    "    print(word,sep=' ', end=' ')"
   ]
  },
  {
   "cell_type": "code",
   "execution_count": 35,
   "metadata": {},
   "outputs": [],
   "source": [
    "AI=\"\"\" Less than a decade after breaking the Nazi encryption machine Enigma and helping the Allied Forces win World War II, mathematician Alan Turing changed history a second time with a simple question: \"Can machines think?\" \n",
    "\n",
    "Turing's paper \"Computing Machinery and Intelligence\" (1950), and it's subsequent Turing Test, established the fundamental goal and vision of artificial intelligence.   \n",
    "\n",
    "what is artificial intelligenceAt it's core, AI is the branch of computer science that aims to answer Turing's question in the affirmative. It is the endeavor to replicate or simulate human intelligence in machines.\n",
    "\n",
    "The expansive goal of artificial intelligence has given rise to many questions and debates. So much so, that no singular definition of the field is universally accepted.  \n",
    "\n",
    "The major limitation in defining AI as simply \"building machines that are intelligent\" is that it doesn't actually explain what artificial intelligence is? What makes a machine intelligent?\n",
    "\n",
    "In their groundbreaking textbook Artificial Intelligence: A Modern Approach, authors Stuart Russell and Peter Norvig approach the question by unifying their work around the theme of intelligent agents in machines. With this in mind, AI is \"the study of agents that receive percepts from the environment and perform actions.\" (Russel and Norvig viii)\n",
    "\n",
    "Norvig and Russell go on to explore four different approaches that have historically defined the field of AI: \n",
    "\n",
    "Thinking humanly\n",
    "Thinking rationally\n",
    "Acting humanly \n",
    "Acting rationally\n",
    "The first two ideas concern thought processes and reasoning, while the others deal with behavior. Norvig and Russell focus particularly on rational agents that act to achieve the best outcome, noting \"all the skills needed for the Turing Test also allow an agent to act rationally.\" (Russel and Norvig 4).\n",
    "\n",
    "Patrick Winston, the Ford professor of artificial intelligence and computer science at MIT, defines AI as  \"algorithms enabled by constraints, exposed by representations that support models targeted at loops that tie thinking, perception and action together.\"\n",
    "\n",
    "View All Jobs\n",
    "Find out who's hiring.\n",
    "See jobs at top tech companies & startups\n",
    "VIEW ALL JOBS\n",
    "While these definitions may seem abstract to the average person, they help focus the field as an area of computer science and provide a blueprint for infusing machines and programs with machine learning and other subsets of artificial intelligence. \n",
    "\n",
    "While addressing a crowd at the Japan AI Experience in 2017,  DataRobot CEO Jeremy Achin began his speech by offering the following definition of how AI is used today:\n",
    "\n",
    "\"AI is a computer system able to perform tasks that ordinarily require human intelligence... Many of these artificial intelligence systems are powered by machine learning, some of them are powered by deep learning and some of them are powered by very boring things like rules.\"  \"\"\""
   ]
  },
  {
   "cell_type": "code",
   "execution_count": 36,
   "metadata": {},
   "outputs": [
    {
     "data": {
      "text/plain": [
       "str"
      ]
     },
     "execution_count": 36,
     "metadata": {},
     "output_type": "execute_result"
    }
   ],
   "source": [
    "type(AI)"
   ]
  },
  {
   "cell_type": "code",
   "execution_count": 37,
   "metadata": {},
   "outputs": [],
   "source": [
    "from nltk.tokenize import word_tokenize"
   ]
  },
  {
   "cell_type": "code",
   "execution_count": 38,
   "metadata": {},
   "outputs": [
    {
     "data": {
      "text/plain": [
       "['Less',\n",
       " 'than',\n",
       " 'a',\n",
       " 'decade',\n",
       " 'after',\n",
       " 'breaking',\n",
       " 'the',\n",
       " 'Nazi',\n",
       " 'encryption',\n",
       " 'machine',\n",
       " 'Enigma',\n",
       " 'and',\n",
       " 'helping',\n",
       " 'the',\n",
       " 'Allied',\n",
       " 'Forces',\n",
       " 'win',\n",
       " 'World',\n",
       " 'War',\n",
       " 'II',\n",
       " ',',\n",
       " 'mathematician',\n",
       " 'Alan',\n",
       " 'Turing',\n",
       " 'changed',\n",
       " 'history',\n",
       " 'a',\n",
       " 'second',\n",
       " 'time',\n",
       " 'with',\n",
       " 'a',\n",
       " 'simple',\n",
       " 'question',\n",
       " ':',\n",
       " '``',\n",
       " 'Can',\n",
       " 'machines',\n",
       " 'think',\n",
       " '?',\n",
       " \"''\",\n",
       " 'Turing',\n",
       " \"'s\",\n",
       " 'paper',\n",
       " '``',\n",
       " 'Computing',\n",
       " 'Machinery',\n",
       " 'and',\n",
       " 'Intelligence',\n",
       " \"''\",\n",
       " '(',\n",
       " '1950',\n",
       " ')',\n",
       " ',',\n",
       " 'and',\n",
       " 'it',\n",
       " \"'s\",\n",
       " 'subsequent',\n",
       " 'Turing',\n",
       " 'Test',\n",
       " ',',\n",
       " 'established',\n",
       " 'the',\n",
       " 'fundamental',\n",
       " 'goal',\n",
       " 'and',\n",
       " 'vision',\n",
       " 'of',\n",
       " 'artificial',\n",
       " 'intelligence',\n",
       " '.',\n",
       " 'what',\n",
       " 'is',\n",
       " 'artificial',\n",
       " 'intelligenceAt',\n",
       " 'it',\n",
       " \"'s\",\n",
       " 'core',\n",
       " ',',\n",
       " 'AI',\n",
       " 'is',\n",
       " 'the',\n",
       " 'branch',\n",
       " 'of',\n",
       " 'computer',\n",
       " 'science',\n",
       " 'that',\n",
       " 'aims',\n",
       " 'to',\n",
       " 'answer',\n",
       " 'Turing',\n",
       " \"'s\",\n",
       " 'question',\n",
       " 'in',\n",
       " 'the',\n",
       " 'affirmative',\n",
       " '.',\n",
       " 'It',\n",
       " 'is',\n",
       " 'the',\n",
       " 'endeavor',\n",
       " 'to',\n",
       " 'replicate',\n",
       " 'or',\n",
       " 'simulate',\n",
       " 'human',\n",
       " 'intelligence',\n",
       " 'in',\n",
       " 'machines',\n",
       " '.',\n",
       " 'The',\n",
       " 'expansive',\n",
       " 'goal',\n",
       " 'of',\n",
       " 'artificial',\n",
       " 'intelligence',\n",
       " 'has',\n",
       " 'given',\n",
       " 'rise',\n",
       " 'to',\n",
       " 'many',\n",
       " 'questions',\n",
       " 'and',\n",
       " 'debates',\n",
       " '.',\n",
       " 'So',\n",
       " 'much',\n",
       " 'so',\n",
       " ',',\n",
       " 'that',\n",
       " 'no',\n",
       " 'singular',\n",
       " 'definition',\n",
       " 'of',\n",
       " 'the',\n",
       " 'field',\n",
       " 'is',\n",
       " 'universally',\n",
       " 'accepted',\n",
       " '.',\n",
       " 'The',\n",
       " 'major',\n",
       " 'limitation',\n",
       " 'in',\n",
       " 'defining',\n",
       " 'AI',\n",
       " 'as',\n",
       " 'simply',\n",
       " '``',\n",
       " 'building',\n",
       " 'machines',\n",
       " 'that',\n",
       " 'are',\n",
       " 'intelligent',\n",
       " \"''\",\n",
       " 'is',\n",
       " 'that',\n",
       " 'it',\n",
       " 'does',\n",
       " \"n't\",\n",
       " 'actually',\n",
       " 'explain',\n",
       " 'what',\n",
       " 'artificial',\n",
       " 'intelligence',\n",
       " 'is',\n",
       " '?',\n",
       " 'What',\n",
       " 'makes',\n",
       " 'a',\n",
       " 'machine',\n",
       " 'intelligent',\n",
       " '?',\n",
       " 'In',\n",
       " 'their',\n",
       " 'groundbreaking',\n",
       " 'textbook',\n",
       " 'Artificial',\n",
       " 'Intelligence',\n",
       " ':',\n",
       " 'A',\n",
       " 'Modern',\n",
       " 'Approach',\n",
       " ',',\n",
       " 'authors',\n",
       " 'Stuart',\n",
       " 'Russell',\n",
       " 'and',\n",
       " 'Peter',\n",
       " 'Norvig',\n",
       " 'approach',\n",
       " 'the',\n",
       " 'question',\n",
       " 'by',\n",
       " 'unifying',\n",
       " 'their',\n",
       " 'work',\n",
       " 'around',\n",
       " 'the',\n",
       " 'theme',\n",
       " 'of',\n",
       " 'intelligent',\n",
       " 'agents',\n",
       " 'in',\n",
       " 'machines',\n",
       " '.',\n",
       " 'With',\n",
       " 'this',\n",
       " 'in',\n",
       " 'mind',\n",
       " ',',\n",
       " 'AI',\n",
       " 'is',\n",
       " '``',\n",
       " 'the',\n",
       " 'study',\n",
       " 'of',\n",
       " 'agents',\n",
       " 'that',\n",
       " 'receive',\n",
       " 'percepts',\n",
       " 'from',\n",
       " 'the',\n",
       " 'environment',\n",
       " 'and',\n",
       " 'perform',\n",
       " 'actions',\n",
       " '.',\n",
       " \"''\",\n",
       " '(',\n",
       " 'Russel',\n",
       " 'and',\n",
       " 'Norvig',\n",
       " 'viii',\n",
       " ')',\n",
       " 'Norvig',\n",
       " 'and',\n",
       " 'Russell',\n",
       " 'go',\n",
       " 'on',\n",
       " 'to',\n",
       " 'explore',\n",
       " 'four',\n",
       " 'different',\n",
       " 'approaches',\n",
       " 'that',\n",
       " 'have',\n",
       " 'historically',\n",
       " 'defined',\n",
       " 'the',\n",
       " 'field',\n",
       " 'of',\n",
       " 'AI',\n",
       " ':',\n",
       " 'Thinking',\n",
       " 'humanly',\n",
       " 'Thinking',\n",
       " 'rationally',\n",
       " 'Acting',\n",
       " 'humanly',\n",
       " 'Acting',\n",
       " 'rationally',\n",
       " 'The',\n",
       " 'first',\n",
       " 'two',\n",
       " 'ideas',\n",
       " 'concern',\n",
       " 'thought',\n",
       " 'processes',\n",
       " 'and',\n",
       " 'reasoning',\n",
       " ',',\n",
       " 'while',\n",
       " 'the',\n",
       " 'others',\n",
       " 'deal',\n",
       " 'with',\n",
       " 'behavior',\n",
       " '.',\n",
       " 'Norvig',\n",
       " 'and',\n",
       " 'Russell',\n",
       " 'focus',\n",
       " 'particularly',\n",
       " 'on',\n",
       " 'rational',\n",
       " 'agents',\n",
       " 'that',\n",
       " 'act',\n",
       " 'to',\n",
       " 'achieve',\n",
       " 'the',\n",
       " 'best',\n",
       " 'outcome',\n",
       " ',',\n",
       " 'noting',\n",
       " '``',\n",
       " 'all',\n",
       " 'the',\n",
       " 'skills',\n",
       " 'needed',\n",
       " 'for',\n",
       " 'the',\n",
       " 'Turing',\n",
       " 'Test',\n",
       " 'also',\n",
       " 'allow',\n",
       " 'an',\n",
       " 'agent',\n",
       " 'to',\n",
       " 'act',\n",
       " 'rationally',\n",
       " '.',\n",
       " \"''\",\n",
       " '(',\n",
       " 'Russel',\n",
       " 'and',\n",
       " 'Norvig',\n",
       " '4',\n",
       " ')',\n",
       " '.',\n",
       " 'Patrick',\n",
       " 'Winston',\n",
       " ',',\n",
       " 'the',\n",
       " 'Ford',\n",
       " 'professor',\n",
       " 'of',\n",
       " 'artificial',\n",
       " 'intelligence',\n",
       " 'and',\n",
       " 'computer',\n",
       " 'science',\n",
       " 'at',\n",
       " 'MIT',\n",
       " ',',\n",
       " 'defines',\n",
       " 'AI',\n",
       " 'as',\n",
       " '``',\n",
       " 'algorithms',\n",
       " 'enabled',\n",
       " 'by',\n",
       " 'constraints',\n",
       " ',',\n",
       " 'exposed',\n",
       " 'by',\n",
       " 'representations',\n",
       " 'that',\n",
       " 'support',\n",
       " 'models',\n",
       " 'targeted',\n",
       " 'at',\n",
       " 'loops',\n",
       " 'that',\n",
       " 'tie',\n",
       " 'thinking',\n",
       " ',',\n",
       " 'perception',\n",
       " 'and',\n",
       " 'action',\n",
       " 'together',\n",
       " '.',\n",
       " \"''\",\n",
       " 'View',\n",
       " 'All',\n",
       " 'Jobs',\n",
       " 'Find',\n",
       " 'out',\n",
       " 'who',\n",
       " \"'s\",\n",
       " 'hiring',\n",
       " '.',\n",
       " 'See',\n",
       " 'jobs',\n",
       " 'at',\n",
       " 'top',\n",
       " 'tech',\n",
       " 'companies',\n",
       " '&',\n",
       " 'startups',\n",
       " 'VIEW',\n",
       " 'ALL',\n",
       " 'JOBS',\n",
       " 'While',\n",
       " 'these',\n",
       " 'definitions',\n",
       " 'may',\n",
       " 'seem',\n",
       " 'abstract',\n",
       " 'to',\n",
       " 'the',\n",
       " 'average',\n",
       " 'person',\n",
       " ',',\n",
       " 'they',\n",
       " 'help',\n",
       " 'focus',\n",
       " 'the',\n",
       " 'field',\n",
       " 'as',\n",
       " 'an',\n",
       " 'area',\n",
       " 'of',\n",
       " 'computer',\n",
       " 'science',\n",
       " 'and',\n",
       " 'provide',\n",
       " 'a',\n",
       " 'blueprint',\n",
       " 'for',\n",
       " 'infusing',\n",
       " 'machines',\n",
       " 'and',\n",
       " 'programs',\n",
       " 'with',\n",
       " 'machine',\n",
       " 'learning',\n",
       " 'and',\n",
       " 'other',\n",
       " 'subsets',\n",
       " 'of',\n",
       " 'artificial',\n",
       " 'intelligence',\n",
       " '.',\n",
       " 'While',\n",
       " 'addressing',\n",
       " 'a',\n",
       " 'crowd',\n",
       " 'at',\n",
       " 'the',\n",
       " 'Japan',\n",
       " 'AI',\n",
       " 'Experience',\n",
       " 'in',\n",
       " '2017',\n",
       " ',',\n",
       " 'DataRobot',\n",
       " 'CEO',\n",
       " 'Jeremy',\n",
       " 'Achin',\n",
       " 'began',\n",
       " 'his',\n",
       " 'speech',\n",
       " 'by',\n",
       " 'offering',\n",
       " 'the',\n",
       " 'following',\n",
       " 'definition',\n",
       " 'of',\n",
       " 'how',\n",
       " 'AI',\n",
       " 'is',\n",
       " 'used',\n",
       " 'today',\n",
       " ':',\n",
       " \"''\",\n",
       " 'AI',\n",
       " 'is',\n",
       " 'a',\n",
       " 'computer',\n",
       " 'system',\n",
       " 'able',\n",
       " 'to',\n",
       " 'perform',\n",
       " 'tasks',\n",
       " 'that',\n",
       " 'ordinarily',\n",
       " 'require',\n",
       " 'human',\n",
       " 'intelligence',\n",
       " '...',\n",
       " 'Many',\n",
       " 'of',\n",
       " 'these',\n",
       " 'artificial',\n",
       " 'intelligence',\n",
       " 'systems',\n",
       " 'are',\n",
       " 'powered',\n",
       " 'by',\n",
       " 'machine',\n",
       " 'learning',\n",
       " ',',\n",
       " 'some',\n",
       " 'of',\n",
       " 'them',\n",
       " 'are',\n",
       " 'powered',\n",
       " 'by',\n",
       " 'deep',\n",
       " 'learning',\n",
       " 'and',\n",
       " 'some',\n",
       " 'of',\n",
       " 'them',\n",
       " 'are',\n",
       " 'powered',\n",
       " 'by',\n",
       " 'very',\n",
       " 'boring',\n",
       " 'things',\n",
       " 'like',\n",
       " 'rules',\n",
       " '.',\n",
       " \"''\"]"
      ]
     },
     "execution_count": 38,
     "metadata": {},
     "output_type": "execute_result"
    }
   ],
   "source": [
    "AI_tokens=word_tokenize(AI)\n",
    "AI_tokens"
   ]
  },
  {
   "cell_type": "code",
   "execution_count": 39,
   "metadata": {},
   "outputs": [
    {
     "data": {
      "text/plain": [
       "505"
      ]
     },
     "execution_count": 39,
     "metadata": {},
     "output_type": "execute_result"
    }
   ],
   "source": [
    "len(AI_tokens)"
   ]
  },
  {
   "cell_type": "code",
   "execution_count": 40,
   "metadata": {},
   "outputs": [],
   "source": [
    "from nltk.probability import FreqDist\n",
    "fdist=FreqDist()"
   ]
  },
  {
   "cell_type": "code",
   "execution_count": 41,
   "metadata": {},
   "outputs": [
    {
     "data": {
      "text/plain": [
       "FreqDist({'the': 24, 'and': 18, ',': 16, 'of': 14, '.': 14, 'intelligence': 10, 'that': 10, 'is': 9, 'a': 8, \"''\": 8, ...})"
      ]
     },
     "execution_count": 41,
     "metadata": {},
     "output_type": "execute_result"
    }
   ],
   "source": [
    "for word in AI_tokens:\n",
    "    fdist[word.lower()]+=1\n",
    "fdist"
   ]
  },
  {
   "cell_type": "code",
   "execution_count": 42,
   "metadata": {},
   "outputs": [
    {
     "data": {
      "text/plain": [
       "8"
      ]
     },
     "execution_count": 42,
     "metadata": {},
     "output_type": "execute_result"
    }
   ],
   "source": [
    "fdist['artificial']"
   ]
  },
  {
   "cell_type": "code",
   "execution_count": 43,
   "metadata": {},
   "outputs": [
    {
     "data": {
      "text/plain": [
       "252"
      ]
     },
     "execution_count": 43,
     "metadata": {},
     "output_type": "execute_result"
    }
   ],
   "source": [
    "len(fdist)"
   ]
  },
  {
   "cell_type": "code",
   "execution_count": 44,
   "metadata": {},
   "outputs": [
    {
     "data": {
      "text/plain": [
       "[('the', 24),\n",
       " ('and', 18),\n",
       " (',', 16),\n",
       " ('of', 14),\n",
       " ('.', 14),\n",
       " ('intelligence', 10),\n",
       " ('that', 10),\n",
       " ('is', 9),\n",
       " ('a', 8),\n",
       " (\"''\", 8)]"
      ]
     },
     "execution_count": 44,
     "metadata": {},
     "output_type": "execute_result"
    }
   ],
   "source": [
    "fdist_top10=fdist.most_common(10)\n",
    "fdist_top10"
   ]
  },
  {
   "cell_type": "code",
   "execution_count": 46,
   "metadata": {},
   "outputs": [
    {
     "data": {
      "text/plain": [
       "12"
      ]
     },
     "execution_count": 46,
     "metadata": {},
     "output_type": "execute_result"
    }
   ],
   "source": [
    "from nltk.tokenize import blankline_tokenize\n",
    "AI_blank=blankline_tokenize(AI)\n",
    "len(AI_blank)"
   ]
  },
  {
   "cell_type": "code",
   "execution_count": 47,
   "metadata": {},
   "outputs": [
    {
     "data": {
      "text/plain": [
       "\"what is artificial intelligenceAt it's core, AI is the branch of computer science that aims to answer Turing's question in the affirmative. It is the endeavor to replicate or simulate human intelligence in machines.\""
      ]
     },
     "execution_count": 47,
     "metadata": {},
     "output_type": "execute_result"
    }
   ],
   "source": [
    "AI_blank[2]"
   ]
  },
  {
   "cell_type": "code",
   "execution_count": 48,
   "metadata": {},
   "outputs": [],
   "source": [
    "from nltk.util import bigrams,trigrams,ngrams"
   ]
  },
  {
   "cell_type": "code",
   "execution_count": 49,
   "metadata": {},
   "outputs": [
    {
     "data": {
      "text/plain": [
       "['The',\n",
       " 'best',\n",
       " 'and',\n",
       " 'most',\n",
       " 'beautiful',\n",
       " 'things',\n",
       " 'in',\n",
       " 'the',\n",
       " 'world',\n",
       " 'can',\n",
       " 'not',\n",
       " 'be',\n",
       " 'seen',\n",
       " 'or',\n",
       " 'even',\n",
       " 'touched',\n",
       " '-',\n",
       " 'they',\n",
       " 'must',\n",
       " 'be',\n",
       " 'felt',\n",
       " 'with',\n",
       " 'the',\n",
       " 'heart',\n",
       " '.']"
      ]
     },
     "execution_count": 49,
     "metadata": {},
     "output_type": "execute_result"
    }
   ],
   "source": [
    "string=\"The best and most beautiful things in the world cannot be seen or even touched - they must be felt with the heart.\"\n",
    "quotes_tokens=nltk.word_tokenize(string)\n",
    "quotes_tokens"
   ]
  },
  {
   "cell_type": "code",
   "execution_count": 51,
   "metadata": {},
   "outputs": [
    {
     "data": {
      "text/plain": [
       "[('The', 'best'),\n",
       " ('best', 'and'),\n",
       " ('and', 'most'),\n",
       " ('most', 'beautiful'),\n",
       " ('beautiful', 'things'),\n",
       " ('things', 'in'),\n",
       " ('in', 'the'),\n",
       " ('the', 'world'),\n",
       " ('world', 'can'),\n",
       " ('can', 'not'),\n",
       " ('not', 'be'),\n",
       " ('be', 'seen'),\n",
       " ('seen', 'or'),\n",
       " ('or', 'even'),\n",
       " ('even', 'touched'),\n",
       " ('touched', '-'),\n",
       " ('-', 'they'),\n",
       " ('they', 'must'),\n",
       " ('must', 'be'),\n",
       " ('be', 'felt'),\n",
       " ('felt', 'with'),\n",
       " ('with', 'the'),\n",
       " ('the', 'heart'),\n",
       " ('heart', '.')]"
      ]
     },
     "execution_count": 51,
     "metadata": {},
     "output_type": "execute_result"
    }
   ],
   "source": [
    "quotes_bigrams = list(nltk.bigrams(quotes_tokens))\n",
    "quotes_bigrams"
   ]
  },
  {
   "cell_type": "code",
   "execution_count": 53,
   "metadata": {},
   "outputs": [
    {
     "data": {
      "text/plain": [
       "[('The', 'best', 'and'),\n",
       " ('best', 'and', 'most'),\n",
       " ('and', 'most', 'beautiful'),\n",
       " ('most', 'beautiful', 'things'),\n",
       " ('beautiful', 'things', 'in'),\n",
       " ('things', 'in', 'the'),\n",
       " ('in', 'the', 'world'),\n",
       " ('the', 'world', 'can'),\n",
       " ('world', 'can', 'not'),\n",
       " ('can', 'not', 'be'),\n",
       " ('not', 'be', 'seen'),\n",
       " ('be', 'seen', 'or'),\n",
       " ('seen', 'or', 'even'),\n",
       " ('or', 'even', 'touched'),\n",
       " ('even', 'touched', '-'),\n",
       " ('touched', '-', 'they'),\n",
       " ('-', 'they', 'must'),\n",
       " ('they', 'must', 'be'),\n",
       " ('must', 'be', 'felt'),\n",
       " ('be', 'felt', 'with'),\n",
       " ('felt', 'with', 'the'),\n",
       " ('with', 'the', 'heart'),\n",
       " ('the', 'heart', '.')]"
      ]
     },
     "execution_count": 53,
     "metadata": {},
     "output_type": "execute_result"
    }
   ],
   "source": [
    "quotes_trigrams = list(nltk.trigrams(quotes_tokens))\n",
    "quotes_trigrams"
   ]
  },
  {
   "cell_type": "code",
   "execution_count": 55,
   "metadata": {},
   "outputs": [
    {
     "data": {
      "text/plain": [
       "[('The', 'best', 'and', 'most', 'beautiful'),\n",
       " ('best', 'and', 'most', 'beautiful', 'things'),\n",
       " ('and', 'most', 'beautiful', 'things', 'in'),\n",
       " ('most', 'beautiful', 'things', 'in', 'the'),\n",
       " ('beautiful', 'things', 'in', 'the', 'world'),\n",
       " ('things', 'in', 'the', 'world', 'can'),\n",
       " ('in', 'the', 'world', 'can', 'not'),\n",
       " ('the', 'world', 'can', 'not', 'be'),\n",
       " ('world', 'can', 'not', 'be', 'seen'),\n",
       " ('can', 'not', 'be', 'seen', 'or'),\n",
       " ('not', 'be', 'seen', 'or', 'even'),\n",
       " ('be', 'seen', 'or', 'even', 'touched'),\n",
       " ('seen', 'or', 'even', 'touched', '-'),\n",
       " ('or', 'even', 'touched', '-', 'they'),\n",
       " ('even', 'touched', '-', 'they', 'must'),\n",
       " ('touched', '-', 'they', 'must', 'be'),\n",
       " ('-', 'they', 'must', 'be', 'felt'),\n",
       " ('they', 'must', 'be', 'felt', 'with'),\n",
       " ('must', 'be', 'felt', 'with', 'the'),\n",
       " ('be', 'felt', 'with', 'the', 'heart'),\n",
       " ('felt', 'with', 'the', 'heart', '.')]"
      ]
     },
     "execution_count": 55,
     "metadata": {},
     "output_type": "execute_result"
    }
   ],
   "source": [
    "quotes_ngrams = list(nltk.ngrams(quotes_tokens,5))\n",
    "quotes_ngrams"
   ]
  },
  {
   "cell_type": "code",
   "execution_count": 56,
   "metadata": {},
   "outputs": [],
   "source": [
    "from nltk.stem import PorterStemmer\n",
    "pst=PorterStemmer()"
   ]
  },
  {
   "cell_type": "code",
   "execution_count": 59,
   "metadata": {},
   "outputs": [
    {
     "data": {
      "text/plain": [
       "'have'"
      ]
     },
     "execution_count": 59,
     "metadata": {},
     "output_type": "execute_result"
    }
   ],
   "source": [
    "pst.stem(\"having\")"
   ]
  },
  {
   "cell_type": "code",
   "execution_count": 60,
   "metadata": {},
   "outputs": [
    {
     "name": "stdout",
     "output_type": "stream",
     "text": [
      "give:give\n",
      "giving:give\n",
      "given:given\n",
      "gave:gave\n"
     ]
    }
   ],
   "source": [
    "words_to_stem=[\"give\",\"giving\",\"given\",\"gave\"]\n",
    "for word in words_to_stem:\n",
    "    print(word+\":\"+pst.stem(word))"
   ]
  },
  {
   "cell_type": "code",
   "execution_count": 61,
   "metadata": {},
   "outputs": [
    {
     "name": "stdout",
     "output_type": "stream",
     "text": [
      "give:giv\n",
      "giving:giv\n",
      "given:giv\n",
      "gave:gav\n"
     ]
    }
   ],
   "source": [
    "from nltk.stem import LancasterStemmer\n",
    "lst=LancasterStemmer()\n",
    "for word in words_to_stem:\n",
    "    print(word+\":\"+lst.stem(word))\n"
   ]
  },
  {
   "cell_type": "code",
   "execution_count": 65,
   "metadata": {},
   "outputs": [
    {
     "name": "stdout",
     "output_type": "stream",
     "text": [
      "give:give\n",
      "giving:give\n",
      "given:given\n",
      "gave:gave\n"
     ]
    }
   ],
   "source": [
    "from nltk.stem import SnowballStemmer\n",
    "sbst=SnowballStemmer('english')\n",
    "for word in words_to_stem:\n",
    "    print(word+\":\"+sbst.stem(word))"
   ]
  },
  {
   "cell_type": "code",
   "execution_count": 69,
   "metadata": {},
   "outputs": [
    {
     "name": "stdout",
     "output_type": "stream",
     "text": [
      "las\n"
     ]
    }
   ],
   "source": [
    "sbst2=SnowballStemmer('finnish')\n",
    "print(sbst2.stem(\"lasta\"))"
   ]
  },
  {
   "cell_type": "code",
   "execution_count": 71,
   "metadata": {},
   "outputs": [
    {
     "data": {
      "text/plain": [
       "'corpus'"
      ]
     },
     "execution_count": 71,
     "metadata": {},
     "output_type": "execute_result"
    }
   ],
   "source": [
    "from nltk.stem import wordnet\n",
    "from nltk.stem import WordNetLemmatizer\n",
    "word_lem=WordNetLemmatizer()\n",
    "\n",
    "word_lem.lemmatize('corpora')\n"
   ]
  },
  {
   "cell_type": "code",
   "execution_count": 74,
   "metadata": {},
   "outputs": [
    {
     "name": "stdout",
     "output_type": "stream",
     "text": [
      "give:give\n",
      "giving:giving\n",
      "given:given\n",
      "gave:gave\n"
     ]
    }
   ],
   "source": [
    "for word in words_to_stem:\n",
    "    print(word+\":\"+word_lem.lemmatize(word))"
   ]
  },
  {
   "cell_type": "code",
   "execution_count": 75,
   "metadata": {},
   "outputs": [],
   "source": [
    "from nltk import ne_chunk"
   ]
  },
  {
   "cell_type": "code",
   "execution_count": 76,
   "metadata": {},
   "outputs": [],
   "source": [
    "NE_sent=\"Then US President styes in the WHITE HOUSE\""
   ]
  },
  {
   "cell_type": "code",
   "execution_count": 77,
   "metadata": {},
   "outputs": [],
   "source": [
    "NE_tokens=word_tokenize(NE_sent)\n",
    "NE_tages=nltk.pos_tag(NE_tokens)"
   ]
  },
  {
   "cell_type": "code",
   "execution_count": 78,
   "metadata": {},
   "outputs": [
    {
     "name": "stdout",
     "output_type": "stream",
     "text": [
      "(S\n",
      "  Then/RB\n",
      "  (GPE US/NNP)\n",
      "  President/NNP\n",
      "  styes/NNS\n",
      "  in/IN\n",
      "  the/DT\n",
      "  (FACILITY WHITE/NNP HOUSE/NNP))\n"
     ]
    }
   ],
   "source": [
    "NE_NER=ne_chunk(NE_tages)\n",
    "print(NE_NER)"
   ]
  },
  {
   "cell_type": "code",
   "execution_count": null,
   "metadata": {},
   "outputs": [],
   "source": []
  }
 ],
 "metadata": {
  "kernelspec": {
   "display_name": "Python 3",
   "language": "python",
   "name": "python3"
  },
  "language_info": {
   "codemirror_mode": {
    "name": "ipython",
    "version": 3
   },
   "file_extension": ".py",
   "mimetype": "text/x-python",
   "name": "python",
   "nbconvert_exporter": "python",
   "pygments_lexer": "ipython3",
   "version": "3.7.6"
  }
 },
 "nbformat": 4,
 "nbformat_minor": 4
}
