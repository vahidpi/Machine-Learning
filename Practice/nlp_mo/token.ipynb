{
 "cells": [
  {
   "cell_type": "code",
   "execution_count": 1,
   "metadata": {},
   "outputs": [],
   "source": [
    "# NLP Tokenizer"
   ]
  },
  {
   "cell_type": "code",
   "execution_count": 2,
   "metadata": {},
   "outputs": [],
   "source": [
    "import nltk"
   ]
  },
  {
   "cell_type": "code",
   "execution_count": 3,
   "metadata": {},
   "outputs": [
    {
     "name": "stdout",
     "output_type": "stream",
     "text": [
      "showing info https://raw.githubusercontent.com/nltk/nltk_data/gh-pages/index.xml\n"
     ]
    },
    {
     "data": {
      "text/plain": [
       "True"
      ]
     },
     "execution_count": 3,
     "metadata": {},
     "output_type": "execute_result"
    }
   ],
   "source": [
    "nltk.download()"
   ]
  },
  {
   "cell_type": "code",
   "execution_count": 4,
   "metadata": {},
   "outputs": [],
   "source": [
    "sample_text=\"English is a West Germanic language of the Indo-European language family, originally spoken by the inhabitants of early medieval England. It is named after the Angles, one of the ancient Germanic peoples that migrated from Anglia, a peninsula on the Baltic Sea (not to be confused with East Anglia), to the area of Great Britain later named after them: England. The closest living relatives of English include Scots, followed by the Low Saxon and Frisian languages. While English is genealogically West Germanic, its vocabulary is also distinctively influenced by Old Norman French and Latin, as well as by Old Norse (a North Germanic language). Speakers of English are called Anglophones.\""
   ]
  },
  {
   "cell_type": "code",
   "execution_count": 7,
   "metadata": {},
   "outputs": [],
   "source": [
    "# tokenize, to find the sentences in the text\n",
    "sentences=nltk.sent_tokenize(sample_text)"
   ]
  },
  {
   "cell_type": "code",
   "execution_count": 8,
   "metadata": {},
   "outputs": [
    {
     "data": {
      "text/plain": [
       "['English is a West Germanic language of the Indo-European language family, originally spoken by the inhabitants of early medieval England.',\n",
       " 'It is named after the Angles, one of the ancient Germanic peoples that migrated from Anglia, a peninsula on the Baltic Sea (not to be confused with East Anglia), to the area of Great Britain later named after them: England.',\n",
       " 'The closest living relatives of English include Scots, followed by the Low Saxon and Frisian languages.',\n",
       " 'While English is genealogically West Germanic, its vocabulary is also distinctively influenced by Old Norman French and Latin, as well as by Old Norse (a North Germanic language).',\n",
       " 'Speakers of English are called Anglophones.']"
      ]
     },
     "execution_count": 8,
     "metadata": {},
     "output_type": "execute_result"
    }
   ],
   "source": [
    "sentences"
   ]
  },
  {
   "cell_type": "code",
   "execution_count": 11,
   "metadata": {},
   "outputs": [],
   "source": [
    "# tokenize, to find the words in the text\n",
    "words=nltk.word_tokenize(sample_text)"
   ]
  },
  {
   "cell_type": "code",
   "execution_count": 12,
   "metadata": {},
   "outputs": [
    {
     "data": {
      "text/plain": [
       "['English',\n",
       " 'is',\n",
       " 'a',\n",
       " 'West',\n",
       " 'Germanic',\n",
       " 'language',\n",
       " 'of',\n",
       " 'the',\n",
       " 'Indo-European',\n",
       " 'language',\n",
       " 'family',\n",
       " ',',\n",
       " 'originally',\n",
       " 'spoken',\n",
       " 'by',\n",
       " 'the',\n",
       " 'inhabitants',\n",
       " 'of',\n",
       " 'early',\n",
       " 'medieval',\n",
       " 'England',\n",
       " '.',\n",
       " 'It',\n",
       " 'is',\n",
       " 'named',\n",
       " 'after',\n",
       " 'the',\n",
       " 'Angles',\n",
       " ',',\n",
       " 'one',\n",
       " 'of',\n",
       " 'the',\n",
       " 'ancient',\n",
       " 'Germanic',\n",
       " 'peoples',\n",
       " 'that',\n",
       " 'migrated',\n",
       " 'from',\n",
       " 'Anglia',\n",
       " ',',\n",
       " 'a',\n",
       " 'peninsula',\n",
       " 'on',\n",
       " 'the',\n",
       " 'Baltic',\n",
       " 'Sea',\n",
       " '(',\n",
       " 'not',\n",
       " 'to',\n",
       " 'be',\n",
       " 'confused',\n",
       " 'with',\n",
       " 'East',\n",
       " 'Anglia',\n",
       " ')',\n",
       " ',',\n",
       " 'to',\n",
       " 'the',\n",
       " 'area',\n",
       " 'of',\n",
       " 'Great',\n",
       " 'Britain',\n",
       " 'later',\n",
       " 'named',\n",
       " 'after',\n",
       " 'them',\n",
       " ':',\n",
       " 'England',\n",
       " '.',\n",
       " 'The',\n",
       " 'closest',\n",
       " 'living',\n",
       " 'relatives',\n",
       " 'of',\n",
       " 'English',\n",
       " 'include',\n",
       " 'Scots',\n",
       " ',',\n",
       " 'followed',\n",
       " 'by',\n",
       " 'the',\n",
       " 'Low',\n",
       " 'Saxon',\n",
       " 'and',\n",
       " 'Frisian',\n",
       " 'languages',\n",
       " '.',\n",
       " 'While',\n",
       " 'English',\n",
       " 'is',\n",
       " 'genealogically',\n",
       " 'West',\n",
       " 'Germanic',\n",
       " ',',\n",
       " 'its',\n",
       " 'vocabulary',\n",
       " 'is',\n",
       " 'also',\n",
       " 'distinctively',\n",
       " 'influenced',\n",
       " 'by',\n",
       " 'Old',\n",
       " 'Norman',\n",
       " 'French',\n",
       " 'and',\n",
       " 'Latin',\n",
       " ',',\n",
       " 'as',\n",
       " 'well',\n",
       " 'as',\n",
       " 'by',\n",
       " 'Old',\n",
       " 'Norse',\n",
       " '(',\n",
       " 'a',\n",
       " 'North',\n",
       " 'Germanic',\n",
       " 'language',\n",
       " ')',\n",
       " '.',\n",
       " 'Speakers',\n",
       " 'of',\n",
       " 'English',\n",
       " 'are',\n",
       " 'called',\n",
       " 'Anglophones',\n",
       " '.']"
      ]
     },
     "execution_count": 12,
     "metadata": {},
     "output_type": "execute_result"
    }
   ],
   "source": [
    "words"
   ]
  },
  {
   "cell_type": "code",
   "execution_count": 16,
   "metadata": {},
   "outputs": [
    {
     "ename": "ModuleNotFoundError",
     "evalue": "No module named 'hazm'",
     "output_type": "error",
     "traceback": [
      "\u001b[0;31m---------------------------------------------------------------------------\u001b[0m",
      "\u001b[0;31mModuleNotFoundError\u001b[0m                       Traceback (most recent call last)",
      "\u001b[0;32m<ipython-input-16-3bf0322dd68a>\u001b[0m in \u001b[0;36m<module>\u001b[0;34m\u001b[0m\n\u001b[1;32m      1\u001b[0m \u001b[0;31m# https://www.sobhe.ir/hazm/\u001b[0m\u001b[0;34m\u001b[0m\u001b[0;34m\u001b[0m\u001b[0;34m\u001b[0m\u001b[0m\n\u001b[1;32m      2\u001b[0m \u001b[0;31m# Hazm, farsi tokenizer\u001b[0m\u001b[0;34m\u001b[0m\u001b[0;34m\u001b[0m\u001b[0;34m\u001b[0m\u001b[0m\n\u001b[0;32m----> 3\u001b[0;31m \u001b[0;32mfrom\u001b[0m \u001b[0mhazm\u001b[0m \u001b[0;32mimport\u001b[0m \u001b[0;34m*\u001b[0m\u001b[0;34m\u001b[0m\u001b[0;34m\u001b[0m\u001b[0m\n\u001b[0m",
      "\u001b[0;31mModuleNotFoundError\u001b[0m: No module named 'hazm'"
     ]
    }
   ],
   "source": [
    "# https://www.sobhe.ir/hazm/\n",
    "# Hazm, farsi tokenizer \n",
    "from hazm import *"
   ]
  },
  {
   "cell_type": "code",
   "execution_count": null,
   "metadata": {},
   "outputs": [],
   "source": []
  }
 ],
 "metadata": {
  "kernelspec": {
   "display_name": "Python 3",
   "language": "python",
   "name": "python3"
  },
  "language_info": {
   "codemirror_mode": {
    "name": "ipython",
    "version": 3
   },
   "file_extension": ".py",
   "mimetype": "text/x-python",
   "name": "python",
   "nbconvert_exporter": "python",
   "pygments_lexer": "ipython3",
   "version": "3.8.5"
  }
 },
 "nbformat": 4,
 "nbformat_minor": 4
}
