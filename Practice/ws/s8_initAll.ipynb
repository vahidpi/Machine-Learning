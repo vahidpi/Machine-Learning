{
 "cells": [
  {
   "cell_type": "code",
   "execution_count": 1,
   "metadata": {},
   "outputs": [],
   "source": [
    "import numpy as np\n",
    "import matplotlib.pyplot as plt\n",
    "\n",
    "# بارگزاری داده ها\n",
    "from data_utils import load_CIFAR10\n",
    "cifar10_dir = 'ds/cifar-10-batches-py'\n",
    "# انتصاب داده های تست و ترین\n",
    "X_train, y_train, X_test, y_test = load_CIFAR10(cifar10_dir)"
   ]
  },
  {
   "cell_type": "code",
   "execution_count": 2,
   "metadata": {},
   "outputs": [],
   "source": [
    "# # Visualize some examples from the dataset.\n",
    "# # We show a few examples of training images from each class.\n",
    "# classes = ['plane', 'car', 'bird', 'cat', 'deer', 'dog', 'frog', 'horse', 'ship', 'truck']\n",
    "# num_classes = len(classes)\n",
    "# samples_per_class = 7\n",
    "# for y, cls in enumerate(classes):\n",
    "#     idxs = np.flatnonzero(y_train == y)\n",
    "#     idxs = np.random.choice(idxs, samples_per_class, replace=False)\n",
    "#     for i, idx in enumerate(idxs):\n",
    "#         plt_idx = i * num_classes + y + 1\n",
    "#         plt.subplot(samples_per_class, num_classes, plt_idx)\n",
    "#         plt.imshow(X_train[idx].astype('uint8'))\n",
    "#         plt.axis('off')\n",
    "#         if i == 0:\n",
    "#             plt.title(cls)\n",
    "# plt.show()"
   ]
  },
  {
   "cell_type": "code",
   "execution_count": 3,
   "metadata": {},
   "outputs": [],
   "source": [
    "# Split the data into train, val, and test sets. In addition we will\n",
    "# create a small development set as a subset of the training data;\n",
    "# we can use this for development so our code runs faster.\n",
    "num_training = 49000\n",
    "num_validation = 1000\n",
    "num_test = 1000\n",
    "num_dev = 500\n",
    "\n",
    "# Our validation set will be num_validation points from the original\n",
    "# training set.\n",
    "mask = range(num_training, num_training + num_validation)\n",
    "X_val = X_train[mask]\n",
    "y_val = y_train[mask]\n",
    "\n",
    "# Our training set will be the first num_train points from the original\n",
    "# training set.\n",
    "mask = range(num_training)\n",
    "X_train = X_train[mask]\n",
    "y_train = y_train[mask]\n",
    "\n",
    "# We will also make a development set, which is a small subset of\n",
    "# the training set.\n",
    "mask = np.random.choice(num_training, num_dev, replace=False)\n",
    "X_dev = X_train[mask]\n",
    "y_dev = y_train[mask]\n",
    "\n",
    "# We use the first num_test points of the original test set as our\n",
    "# test set.\n",
    "mask = range(num_test)\n",
    "X_test = X_test[mask]\n",
    "y_test = y_test[mask]"
   ]
  },
  {
   "cell_type": "code",
   "execution_count": 4,
   "metadata": {},
   "outputs": [],
   "source": [
    "# Preprocessing: reshape the image data into rows\n",
    "X_train = np.reshape(X_train, (X_train.shape[0], -1))\n",
    "X_val = np.reshape(X_val, (X_val.shape[0], -1))\n",
    "X_test = np.reshape(X_test, (X_test.shape[0], -1))\n",
    "X_dev = np.reshape(X_dev, (X_dev.shape[0], -1))"
   ]
  },
  {
   "cell_type": "code",
   "execution_count": 5,
   "metadata": {},
   "outputs": [
    {
     "name": "stdout",
     "output_type": "stream",
     "text": [
      "[130.64189796 135.98173469 132.47391837 130.05569388 135.34804082\n",
      " 131.75402041 130.96055102 136.14328571 132.47636735 131.48467347]\n"
     ]
    },
    {
     "data": {
      "image/png": "[encoded data removed]",
      "text/plain": [
       "<Figure size 288x288 with 1 Axes>"
      ]
     },
     "metadata": {
      "needs_background": "light"
     },
     "output_type": "display_data"
    }
   ],
   "source": [
    "# Preprocessing: subtract the mean image\n",
    "# first: compute the image mean based on the training data\n",
    "mean_image = np.mean(X_train, axis=0)\n",
    "print(mean_image[:10]) # print a few of the elements\n",
    "plt.figure(figsize=(4,4))\n",
    "plt.imshow(mean_image.reshape((32,32,3)).astype('uint8')) # visualize the mean image\n",
    "plt.show()"
   ]
  },
  {
   "cell_type": "code",
   "execution_count": 6,
   "metadata": {},
   "outputs": [],
   "source": [
    "# second: subtract the mean image from train and test data\n",
    "X_train -= mean_image\n",
    "X_val   -= mean_image\n",
    "X_test  -= mean_image\n",
    "X_dev   -= mean_image"
   ]
  },
  {
   "cell_type": "code",
   "execution_count": 7,
   "metadata": {},
   "outputs": [],
   "source": [
    "# create W and b randomly with small numbers\n",
    "N = X_train.shape[0]           # number of training data\n",
    "D = np.prod(X_train.shape[1:]) # number of features\n",
    "C = 10                         # number of classes\n",
    "\n",
    "# init parameters\n",
    "W = 0.0001 * np.random.randn(D, C)\n",
    "b = np.zeros((C,))"
   ]
  },
  {
   "cell_type": "code",
   "execution_count": null,
   "metadata": {},
   "outputs": [],
   "source": []
  },
  {
   "cell_type": "code",
   "execution_count": 8,
   "metadata": {},
   "outputs": [],
   "source": [
    "def affine_backward(dout, cache):\n",
    "    \"\"\"\n",
    "    Computes the backward pass for an affine layer.\n",
    "    Inputs:\n",
    "        - dout: Upstream derivative, of shape (N, C)\n",
    "        - cache: Tuple of:\n",
    "            - x: Input data, of shape (N, d_1, ... d_k)\n",
    "            - w: Weights, of shape (D, C)\n",
    "            - b: biases, of shape (C,)\n",
    "    Outputs:\n",
    "        - dx: Gradient with respect to x, of shape (N, d1, ..., d_k)\n",
    "        - dw: Gradient with respect to w, of shape (D, C)\n",
    "        - db: Gradient with respect to b, of shape (C,)\n",
    "    \"\"\"\n",
    "    x, w, b = cache\n",
    "    x2d = np.reshape(x, (x.shape[0], -1))\n",
    "\n",
    "    # compute gradients\n",
    "    db = np.sum(dout, axis=0)\n",
    "    dw = np.dot(x2d.T, dout)\n",
    "    dx = np.dot(dout, w.T)\n",
    "\n",
    "    # reshape dx to match the size of x\n",
    "    dx = dx.reshape(x.shape)\n",
    "    \n",
    "    return dx, dw, db"
   ]
  },
  {
   "cell_type": "code",
   "execution_count": 9,
   "metadata": {},
   "outputs": [],
   "source": [
    "def affine_forward(x, W, b):\n",
    "    \"\"\"\n",
    "    A linear mapping from inputs to scores.\n",
    "    \n",
    "    Inputs:\n",
    "        - x: input matrix (N, d_1, ..., d_k)\n",
    "        - W: weigh matrix (D, C)\n",
    "        - b: bias vector  (C, )\n",
    "    \n",
    "    Outputs:\n",
    "        - out: output of linear layer (N, C)\n",
    "    \"\"\"\n",
    "    x2d = np.reshape(x, (x.shape[0], -1))  # convert 4D input matrix to 2D    \n",
    "    out = np.dot(x2d, W) + b               # linear transformation\n",
    "    cache = (x, W, b)                      # keep for backward step (stay with us)\n",
    "    return out, cache"
   ]
  },
  {
   "cell_type": "code",
   "execution_count": 10,
   "metadata": {},
   "outputs": [],
   "source": [
    "def softmax_loss(s, y):\n",
    "    \"\"\"\n",
    "    Computes the loss and gradient for softmax classification.\n",
    "\n",
    "    Inputs:\n",
    "    - s: Input data, of shape (N, C) where s[i, j] is the score for the jth\n",
    "      class for the ith input.\n",
    "    - y: Vector of labels, of shape (N,) where y[i] is the label for x[i] and\n",
    "      0 <= y[i] < C\n",
    "\n",
    "    Returns a tuple of:\n",
    "    - loss: Scalar giving the loss\n",
    "    - dx: Gradient of the loss with respect to x\n",
    "    \"\"\"\n",
    "    \n",
    "    # forward step: computing data loss\n",
    "    shifted_logits = s - np.max(s, axis=1, keepdims=True)\n",
    "    Z = np.sum(np.exp(shifted_logits), axis=1, keepdims=True)\n",
    "    log_probs = shifted_logits - np.log(Z)\n",
    "    probs = np.exp(log_probs)\n",
    "    N = s.shape[0]\n",
    "    loss = -np.sum(log_probs[np.arange(N), y]) / N\n",
    "    \n",
    "    # backward step: computing gradient of loss w.r.t. s (scores).\n",
    "    ds = probs.copy()\n",
    "    ds[np.arange(N), y] -= 1\n",
    "    ds /= N\n",
    "    return loss, ds"
   ]
  },
  {
   "cell_type": "code",
   "execution_count": 11,
   "metadata": {},
   "outputs": [],
   "source": [
    "def svm_loss(s, y):\n",
    "    \"\"\"\n",
    "    Computes the loss and gradient using for multiclass SVM classification.\n",
    "\n",
    "    Inputs:\n",
    "    - s: Input data, of shape (N, C) where s[i, j] is the score for the jth\n",
    "      class for the ith input.\n",
    "    - y: Vector of labels, of shape (N,) where y[i] is the label for x[i] and\n",
    "      0 <= y[i] < C\n",
    "\n",
    "    Returns a tuple of:\n",
    "    - loss: Scalar giving the loss\n",
    "    - dx: Gradient of the loss with respect to x\n",
    "    \"\"\"\n",
    "    \n",
    "    # forward step: computing data loss\n",
    "    N = s.shape[0]\n",
    "    correct_class_scores = s[np.arange(N), y]\n",
    "    margins = np.maximum(0, s - correct_class_scores[:, np.newaxis] + 1.0)\n",
    "    margins[np.arange(N), y] = 0\n",
    "    loss = np.sum(margins) / N\n",
    "    \n",
    "    # backward step: computing gradient of loss w.r.t. s (scores).\n",
    "    num_pos = np.sum(margins > 0, axis=1)\n",
    "    ds = np.zeros_like(s)\n",
    "    ds[margins > 0] = 1\n",
    "    ds[np.arange(N), y] -= num_pos\n",
    "    ds /= N\n",
    "    return loss, ds"
   ]
  },
  {
   "cell_type": "code",
   "execution_count": null,
   "metadata": {},
   "outputs": [],
   "source": []
  },
  {
   "cell_type": "code",
   "execution_count": 15,
   "metadata": {},
   "outputs": [
    {
     "name": "stdout",
     "output_type": "stream",
     "text": [
      "Iteration    0: loss =  6.24 | train accuracy =  8.01 | validation accuracy =  8.70\n",
      "Iteration  100: loss =  4.42 | train accuracy = 27.15 | validation accuracy = 29.50\n",
      "Iteration  200: loss =  3.42 | train accuracy = 32.62 | validation accuracy = 32.10\n",
      "Iteration  300: loss =  2.86 | train accuracy = 30.47 | validation accuracy = 34.20\n",
      "Iteration  400: loss =  2.55 | train accuracy = 35.55 | validation accuracy = 35.10\n",
      "Iteration  500: loss =  2.35 | train accuracy = 34.57 | validation accuracy = 35.70\n",
      "Iteration  600: loss =  2.25 | train accuracy = 34.18 | validation accuracy = 35.50\n",
      "Iteration  700: loss =  2.14 | train accuracy = 33.98 | validation accuracy = 36.40\n",
      "Iteration  800: loss =  2.08 | train accuracy = 36.72 | validation accuracy = 36.10\n",
      "Iteration  900: loss =  2.07 | train accuracy = 35.74 | validation accuracy = 36.40\n",
      "Iteration 1000: loss =  2.05 | train accuracy = 32.81 | validation accuracy = 36.00\n",
      "Iteration 1100: loss =  1.99 | train accuracy = 36.91 | validation accuracy = 36.70\n",
      "Iteration 1200: loss =  2.02 | train accuracy = 36.52 | validation accuracy = 36.60\n",
      "Iteration 1300: loss =  2.08 | train accuracy = 34.77 | validation accuracy = 37.00\n",
      "Iteration 1400: loss =  2.03 | train accuracy = 34.77 | validation accuracy = 36.70\n",
      "Iteration 1500: loss =  2.06 | train accuracy = 31.84 | validation accuracy = 36.50\n",
      "Iteration 1600: loss =  2.01 | train accuracy = 36.33 | validation accuracy = 36.70\n",
      "Iteration 1700: loss =  2.02 | train accuracy = 34.96 | validation accuracy = 36.40\n",
      "Iteration 1800: loss =  1.98 | train accuracy = 38.67 | validation accuracy = 37.00\n",
      "Iteration 1900: loss =  2.04 | train accuracy = 34.96 | validation accuracy = 36.20\n",
      "Iteration 2000: loss =  2.08 | train accuracy = 32.81 | validation accuracy = 36.20\n"
     ]
    }
   ],
   "source": [
    "N = X_train.shape[0]\n",
    "\n",
    "# define parameters for mini-batch GD\n",
    "num_iterations =2000 #1500\n",
    "batch_size = 512#256\n",
    "learning_rate = 1e-7\n",
    "reg = 2.5e4#2.5e5\n",
    "\n",
    "# initialize weights\n",
    "W = 0.0001 * np.random.randn(3072, 10)\n",
    "b = np.zeros(10)\n",
    "\n",
    "loss_history = []\n",
    "\n",
    "for i in range(num_iterations + 1):\n",
    "    # create a batch of data\n",
    "    batch_idxs = np.random.choice(N, batch_size, replace=False)\n",
    "    X_batch = X_train[batch_idxs]\n",
    "    y_batch = y_train[batch_idxs]\n",
    "    \n",
    "    # forward step\n",
    "    scores, cache = affine_forward(X_batch, W, b)\n",
    "    \n",
    "    # compute loss\n",
    "    loss, dscores = softmax_loss(scores, y_batch)  # data loss\n",
    "#     loss, dscores = svm_loss(scores, y_batch)  # data loss\n",
    "    loss += 0.5 * reg * np.sum(W * W)          # regularization loss\n",
    "    loss_history.append(loss)\n",
    "    \n",
    "    # backward step\n",
    "    _, dW, db = affine_backward(dscores, cache)\n",
    "    dW += reg * W\n",
    "      \n",
    "    # report every 100 iteration\n",
    "    if i % 100 == 0:\n",
    "        y_preds = np.argmax(scores, axis=1)\n",
    "        train_accuracy = 100.0 * np.mean(y_preds == y_batch)\n",
    "        \n",
    "        val_scores, _ = affine_forward(X_val, W, b)\n",
    "        val_preds = np.argmax(val_scores, axis=1)\n",
    "        val_accuracy = 100.0 * np.mean(val_preds == y_val)\n",
    "        print(\"Iteration %4d: loss = %5.2f | train accuracy = %5.2f | validation accuracy = %5.2f\" % \n",
    "             (i, loss, train_accuracy, val_accuracy))\n",
    "    \n",
    "    # update rule\n",
    "    W = W - learning_rate * dW\n",
    "    b = b - learning_rate * db"
   ]
  },
  {
   "cell_type": "code",
   "execution_count": null,
   "metadata": {},
   "outputs": [],
   "source": []
  },
  {
   "cell_type": "code",
   "execution_count": 16,
   "metadata": {},
   "outputs": [
    {
     "data": {
      "image/png": "[encoded data removed]",
      "text/plain": [
       "<Figure size 432x288 with 1 Axes>"
      ]
     },
     "metadata": {},
     "output_type": "display_data"
    }
   ],
   "source": [
    "plt.style.use('ggplot')\n",
    "\n",
    "plt.plot(loss_history)\n",
    "plt.xlabel('Iteration')\n",
    "plt.ylabel('Loss')\n",
    "plt.title('Training Loss');"
   ]
  },
  {
   "cell_type": "code",
   "execution_count": null,
   "metadata": {},
   "outputs": [],
   "source": []
  }
 ],
 "metadata": {
  "kernelspec": {
   "display_name": "Python 3",
   "language": "python",
   "name": "python3"
  },
  "language_info": {
   "codemirror_mode": {
    "name": "ipython",
    "version": 3
   },
   "file_extension": ".py",
   "mimetype": "text/x-python",
   "name": "python",
   "nbconvert_exporter": "python",
   "pygments_lexer": "ipython3",
   "version": "3.7.6"
  }
 },
 "nbformat": 4,
 "nbformat_minor": 4
}
