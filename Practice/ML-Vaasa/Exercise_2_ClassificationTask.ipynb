{
 "cells": [
  {
   "cell_type": "markdown",
   "metadata": {},
   "source": [
    "<h1> BONUS EXERCISE 2 - Classification task</h1>\n",
    "\n",
    "\n",
    "_Machine Learning (2021), Vahid Piroozbakht_\n"
   ]
  },
  {
   "cell_type": "markdown",
   "metadata": {},
   "source": [
    "<h3> Dataset Name : “Pima Indians Diabetes Database”.</h3>\n",
    "\n",
    "Source : Kaggle (https://www.kaggle.com/uciml/pima-indians-diabetes-database)\n",
    "\n",
    "<h2> 1. Introduction:</h2>"
   ]
  },
  {
   "cell_type": "markdown",
   "metadata": {},
   "source": [
    "This dataset is originally from the National Institute of Diabetes and Digestive and Kidney Diseases. The objective of the dataset is to diagnostically predict whether or not a patient has diabetes, based on certain diagnostic measurements included in the dataset. Several constraints were placed on the selection of these instances from a larger database. In particular, all patients here are females at least 21 years old of Pima Indian heritage. <a href=\"https://www.kaggle.com/uciml/pima-indians-diabetes-database\">[1]</a>"
   ]
  },
  {
   "cell_type": "code",
   "execution_count": 1,
   "metadata": {},
   "outputs": [],
   "source": [
    "# import libraries\n",
    "import numpy as np\n",
    "import matplotlib\n",
    "import pandas as pd\n",
    "import sklearn\n",
    "import matplotlib.pyplot as plt \n",
    "from sklearn import model_selection\n",
    "from sklearn.metrics import mean_squared_error\n",
    "from sklearn.linear_model import LogisticRegression\n",
    "from sklearn.neural_network import MLPClassifier"
   ]
  },
  {
   "cell_type": "markdown",
   "metadata": {},
   "source": [
    "<h2>2. Problem Formulation: </h2>\n",
    "The datasets consists of several medical predictor variables and one target variable, Outcome. Predictor variables includes the number of pregnancies the patient has had, their BMI, insulin level, age, and so on."
   ]
  },
  {
   "cell_type": "code",
   "execution_count": 2,
   "metadata": {},
   "outputs": [],
   "source": [
    "# Load Dataset\n",
    "df=pd.read_csv('Diabetess.csv')"
   ]
  },
  {
   "cell_type": "code",
   "execution_count": 3,
   "metadata": {},
   "outputs": [
    {
     "data": {
      "text/html": [
       "<div>\n",
       "<style scoped>\n",
       "    .dataframe tbody tr th:only-of-type {\n",
       "        vertical-align: middle;\n",
       "    }\n",
       "\n",
       "    .dataframe tbody tr th {\n",
       "        vertical-align: top;\n",
       "    }\n",
       "\n",
       "    .dataframe thead th {\n",
       "        text-align: right;\n",
       "    }\n",
       "</style>\n",
       "<table border=\"1\" class=\"dataframe\">\n",
       "  <thead>\n",
       "    <tr style=\"text-align: right;\">\n",
       "      <th></th>\n",
       "      <th>Pregnancies</th>\n",
       "      <th>Glucose</th>\n",
       "      <th>BloodPressure</th>\n",
       "      <th>SkinThickness</th>\n",
       "      <th>Insulin</th>\n",
       "      <th>BMI</th>\n",
       "      <th>DiabetesPedigreeFunction</th>\n",
       "      <th>Age</th>\n",
       "      <th>Outcome</th>\n",
       "    </tr>\n",
       "  </thead>\n",
       "  <tbody>\n",
       "    <tr>\n",
       "      <th>0</th>\n",
       "      <td>6</td>\n",
       "      <td>148.0</td>\n",
       "      <td>72</td>\n",
       "      <td>35</td>\n",
       "      <td>NaN</td>\n",
       "      <td>33.6</td>\n",
       "      <td>0.627</td>\n",
       "      <td>50.0</td>\n",
       "      <td>1</td>\n",
       "    </tr>\n",
       "    <tr>\n",
       "      <th>1</th>\n",
       "      <td>1</td>\n",
       "      <td>85.0</td>\n",
       "      <td>66</td>\n",
       "      <td>29</td>\n",
       "      <td>NaN</td>\n",
       "      <td>26.6</td>\n",
       "      <td>0.351</td>\n",
       "      <td>31.0</td>\n",
       "      <td>0</td>\n",
       "    </tr>\n",
       "    <tr>\n",
       "      <th>2</th>\n",
       "      <td>8</td>\n",
       "      <td>183.0</td>\n",
       "      <td>64</td>\n",
       "      <td>0</td>\n",
       "      <td>NaN</td>\n",
       "      <td>23.3</td>\n",
       "      <td>0.672</td>\n",
       "      <td>32.0</td>\n",
       "      <td>1</td>\n",
       "    </tr>\n",
       "    <tr>\n",
       "      <th>3</th>\n",
       "      <td>1</td>\n",
       "      <td>89.0</td>\n",
       "      <td>66</td>\n",
       "      <td>23</td>\n",
       "      <td>94.0</td>\n",
       "      <td>28.1</td>\n",
       "      <td>0.167</td>\n",
       "      <td>21.0</td>\n",
       "      <td>0</td>\n",
       "    </tr>\n",
       "    <tr>\n",
       "      <th>4</th>\n",
       "      <td>0</td>\n",
       "      <td>137.0</td>\n",
       "      <td>40</td>\n",
       "      <td>35</td>\n",
       "      <td>168.0</td>\n",
       "      <td>43.1</td>\n",
       "      <td>2.288</td>\n",
       "      <td>33.0</td>\n",
       "      <td>1</td>\n",
       "    </tr>\n",
       "  </tbody>\n",
       "</table>\n",
       "</div>"
      ],
      "text/plain": [
       "   Pregnancies  Glucose  BloodPressure  SkinThickness  Insulin   BMI  \\\n",
       "0            6    148.0             72             35      NaN  33.6   \n",
       "1            1     85.0             66             29      NaN  26.6   \n",
       "2            8    183.0             64              0      NaN  23.3   \n",
       "3            1     89.0             66             23     94.0  28.1   \n",
       "4            0    137.0             40             35    168.0  43.1   \n",
       "\n",
       "   DiabetesPedigreeFunction   Age  Outcome  \n",
       "0                     0.627  50.0        1  \n",
       "1                     0.351  31.0        0  \n",
       "2                     0.672  32.0        1  \n",
       "3                     0.167  21.0        0  \n",
       "4                     2.288  33.0        1  "
      ]
     },
     "execution_count": 3,
     "metadata": {},
     "output_type": "execute_result"
    }
   ],
   "source": [
    "df.head()"
   ]
  },
  {
   "cell_type": "markdown",
   "metadata": {},
   "source": [
    "<h3>2.1. Features:</h3>"
   ]
  },
  {
   "cell_type": "code",
   "execution_count": 4,
   "metadata": {},
   "outputs": [
    {
     "data": {
      "text/plain": [
       "Index(['Pregnancies', 'Glucose', 'BloodPressure', 'SkinThickness', 'Insulin',\n",
       "       'BMI', 'DiabetesPedigreeFunction', 'Age', 'Outcome'],\n",
       "      dtype='object')"
      ]
     },
     "execution_count": 4,
     "metadata": {},
     "output_type": "execute_result"
    }
   ],
   "source": [
    "df.columns"
   ]
  },
  {
   "cell_type": "markdown",
   "metadata": {},
   "source": [
    "The following features are present in the dataset:\n",
    "* **Pregnancies:**  Number of times pregnant\n",
    "* **Glucose:** Plasma glucose concentration over 2 hours in an oral glucose tolerance test\n",
    "* **BloodPressure:** Diastolic blood pressure (mm Hg)\n",
    "* **SkinThickness:** Triceps skin fold thickness (mm)\n",
    "* **Insulin:** 2-Hour serum insulin (mu U/ml)\n",
    "* **BMI:** Body mass index (weight in kg/(height in m)2)\n",
    "* **DiabetesPedigreeFunction:** Diabetes pedigree function (a function which scores likelihood of diabetes based on family history)\n",
    "* **Age:** Age (years)\n",
    "* **Outcome:** Class variable (0 if non-diabetic, 1 if diabetic)\n"
   ]
  },
  {
   "cell_type": "markdown",
   "metadata": {},
   "source": [
    "<h3>2.2. Pre processing features:</h3>\n",
    "<h4>2.2.1 NaN value:</h4>\n",
    "In below first we find the columns contain NaN value,"
   ]
  },
  {
   "cell_type": "code",
   "execution_count": 5,
   "metadata": {},
   "outputs": [
    {
     "name": "stdout",
     "output_type": "stream",
     "text": [
      "Colums contain NaN value:  ['Glucose', 'Insulin', 'BMI']\n"
     ]
    }
   ],
   "source": [
    "# Find colums contain NaN value\n",
    "nanCols=[]\n",
    "for col in df.columns:\n",
    "    if df[df[col].isna()].shape[0]>0 :\n",
    "        nanCols.append(col)\n",
    "print(\"Colums contain NaN value: \",nanCols)"
   ]
  },
  {
   "cell_type": "code",
   "execution_count": 6,
   "metadata": {},
   "outputs": [
    {
     "name": "stdout",
     "output_type": "stream",
     "text": [
      "Column ' Glucose ' NaN values are set to zero.\n",
      "Column ' Insulin ' NaN values are set to zero.\n",
      "Column ' BMI ' NaN values are set to zero.\n"
     ]
    }
   ],
   "source": [
    "# set Nan values to zero\n",
    "for nCol in nanCols:\n",
    "    df[nCol]=df[nCol].fillna(0)\n",
    "    print(\"Column '\",nCol,\"' NaN values are set to zero.\")"
   ]
  },
  {
   "cell_type": "markdown",
   "metadata": {},
   "source": [
    "<h3>2.3. Set the Training and validation set:</h3>\n",
    "In this level after preparing data for processing, we need to divide our data set to two differnt sub sets. First is the Training set that will be used in mode training, seconnd validation set that is for testing and validating the model."
   ]
  },
  {
   "cell_type": "code",
   "execution_count": 7,
   "metadata": {},
   "outputs": [
    {
     "name": "stdout",
     "output_type": "stream",
     "text": [
      "Shape of X is (768, 8)\n",
      "Shape of y is (768,)\n"
     ]
    }
   ],
   "source": [
    "# set X and y\n",
    "y=df.Outcome\n",
    "tmpDS=df.drop(columns=['Outcome'])\n",
    "X=tmpDS\n",
    "print('Shape of X is', X.shape)\n",
    "print('Shape of y is', y.shape)"
   ]
  },
  {
   "cell_type": "markdown",
   "metadata": {},
   "source": [
    "<h1> <center> - - - (A) - - - </center></h1>"
   ]
  },
  {
   "cell_type": "code",
   "execution_count": 8,
   "metadata": {},
   "outputs": [],
   "source": [
    "# Split-out validation dataset\n",
    "X_train,X_test,y_train,y_test=model_selection.train_test_split(\n",
    "    X,y,test_size=0.30,random_state=7)"
   ]
  },
  {
   "cell_type": "markdown",
   "metadata": {},
   "source": [
    "<h2>3. Method:</h2>"
   ]
  },
  {
   "cell_type": "markdown",
   "metadata": {},
   "source": [
    "<h3>3.1. LogisticRegression:</h3>"
   ]
  },
  {
   "cell_type": "code",
   "execution_count": 9,
   "metadata": {},
   "outputs": [
    {
     "name": "stdout",
     "output_type": "stream",
     "text": [
      "Training error:  0.21787709497206703\n",
      "Validation error:  0.22077922077922077\n",
      "Score:  0.7792207792207793\n"
     ]
    }
   ],
   "source": [
    "log = LogisticRegression(max_iter=1000)\n",
    "log.fit(X_train, y_train)\n",
    "pred= log.predict(X_train)\n",
    "tr_log_error = mean_squared_error(y_train, pred)    # compute training error \n",
    "print(\"Training error: \",tr_log_error)\n",
    "\n",
    "pred = log.predict(X_test)    # compute predictions of validation set\n",
    "val_log_error = mean_squared_error(y_test, pred)    # compute validation error \n",
    "print(\"Validation error: \",val_log_error)\n",
    "print(\"Score: \",log.score(X_test,y_test))"
   ]
  },
  {
   "cell_type": "markdown",
   "metadata": {},
   "source": [
    "<h3>3.2. Artificial neural network:</h3>"
   ]
  },
  {
   "cell_type": "code",
   "execution_count": 10,
   "metadata": {},
   "outputs": [
    {
     "name": "stdout",
     "output_type": "stream",
     "text": [
      "Training error:  0.34450651769087526\n",
      "Validation error:  0.3722943722943723\n",
      "Score:  0.6277056277056277\n"
     ]
    }
   ],
   "source": [
    "clf = MLPClassifier(solver='lbfgs', alpha=1e-5,hidden_layer_sizes=(5, 2), random_state=1,max_iter=1000)\n",
    "clf.fit(X_train, y_train)\n",
    "pred= clf.predict(X_train)\n",
    "tr_clf_error = mean_squared_error(y_train, pred)    # compute training error \n",
    "print(\"Training error: \",tr_clf_error)\n",
    "\n",
    "pred = clf.predict(X_test)    # compute predictions of validation set\n",
    "val_clf_error = mean_squared_error(y_test, pred)    # compute validation error \n",
    "print(\"Validation error: \",val_clf_error)\n",
    "print(\"Score: \",clf.score(X_test,y_test))"
   ]
  },
  {
   "cell_type": "markdown",
   "metadata": {},
   "source": [
    "<h2>4. Conclusion:</h2>\n",
    "According to the data processes in part 3.1 and 3.2 which were on the Diabetess data set, and by comparing the results of our ML algorithms which were <b>LogisticRegression</b> and <b>Artificial neural network</b>, Logistic regression with 77% accuracy was much more performed than ANN with 62%."
   ]
  },
  {
   "cell_type": "markdown",
   "metadata": {},
   "source": [
    "<h1> <center> - - - (B) - - - </center></h1>\n",
    "Note: in the task page, the test rate was written as <i>0.001</i>, which effects on accuracy etc, I guess it should be a typo. I set test size 0.10"
   ]
  },
  {
   "cell_type": "code",
   "execution_count": 11,
   "metadata": {},
   "outputs": [],
   "source": [
    "# Set Glucose, BMI, and Age, as the input variables and Outcome as the target variable\n",
    "XB=df[[\"Glucose\",\"BMI\",\"Age\"]]\n",
    "yB=df.Outcome"
   ]
  },
  {
   "cell_type": "code",
   "execution_count": 12,
   "metadata": {},
   "outputs": [],
   "source": [
    "# Split-out validation dataset\n",
    "X_train,X_test,y_train,y_test=model_selection.train_test_split(\n",
    "    XB,yB,test_size=0.10,random_state=7)"
   ]
  },
  {
   "cell_type": "code",
   "execution_count": 13,
   "metadata": {},
   "outputs": [
    {
     "name": "stdout",
     "output_type": "stream",
     "text": [
      "Training error:  0.23154848046309695\n",
      "Validation error:  0.19480519480519481\n",
      "Score:  0.8051948051948052\n"
     ]
    }
   ],
   "source": [
    "# LogisticRegression\n",
    "logB = LogisticRegression(max_iter=1000)\n",
    "logB.fit(X_train, y_train)\n",
    "pred= logB.predict(X_train)\n",
    "tr_logB_error = mean_squared_error(y_train, pred)    # compute training error \n",
    "print(\"Training error: \",tr_logB_error)\n",
    "\n",
    "pred = logB.predict(X_test)    # compute predictions of validation set\n",
    "val_logB_error = mean_squared_error(y_test, pred)    # compute validation error \n",
    "print(\"Validation error: \",val_logB_error)\n",
    "print(\"Score: \",logB.score(X_test,y_test))"
   ]
  },
  {
   "cell_type": "code",
   "execution_count": 14,
   "metadata": {},
   "outputs": [
    {
     "name": "stdout",
     "output_type": "stream",
     "text": [
      "Training error:  0.3429811866859624\n",
      "Validation error:  0.4025974025974026\n",
      "Score:  0.5974025974025974\n"
     ]
    }
   ],
   "source": [
    "# Artificial neural network\n",
    "clfB = MLPClassifier(solver='lbfgs', alpha=1e-5,hidden_layer_sizes=(5, 2), random_state=1,max_iter=1000)\n",
    "clfB.fit(X_train, y_train)\n",
    "pred= clfB.predict(X_train)\n",
    "tr_clfB_error = mean_squared_error(y_train, pred)    # compute training error \n",
    "print(\"Training error: \",tr_clfB_error)\n",
    "\n",
    "pred = clfB.predict(X_test)    # compute predictions of validation set\n",
    "val_clfB_error = mean_squared_error(y_test, pred)    # compute validation error \n",
    "print(\"Validation error: \",val_clfB_error)\n",
    "print(\"Score: \",clfB.score(X_test,y_test))"
   ]
  },
  {
   "cell_type": "markdown",
   "metadata": {},
   "source": [
    "<h1> <center> - - - (C) - - - </center></h1>"
   ]
  },
  {
   "cell_type": "code",
   "execution_count": 15,
   "metadata": {},
   "outputs": [
    {
     "name": "stdout",
     "output_type": "stream",
     "text": [
      "The predict value is [0]  => (0 if non-diabetic, 1 if diabetic)\n"
     ]
    }
   ],
   "source": [
    "# The patients' age is 35 years with a glucose level of 110 and BMI of 35.\n",
    "# [\"Glucose\",\"BMI\",\"Age\"]\n",
    "patientInfo=[[110,35,35]]\n",
    "predict=logB.predict(patientInfo)\n",
    "print(\"The predict value is\",predict,\" => (0 if non-diabetic, 1 if diabetic)\")"
   ]
  },
  {
   "cell_type": "code",
   "execution_count": null,
   "metadata": {},
   "outputs": [],
   "source": []
  }
 ],
 "metadata": {
  "kernelspec": {
   "display_name": "Python 3",
   "language": "python",
   "name": "python3"
  },
  "language_info": {
   "codemirror_mode": {
    "name": "ipython",
    "version": 3
   },
   "file_extension": ".py",
   "mimetype": "text/x-python",
   "name": "python",
   "nbconvert_exporter": "python",
   "pygments_lexer": "ipython3",
   "version": "3.8.5"
  }
 },
 "nbformat": 4,
 "nbformat_minor": 4
}
