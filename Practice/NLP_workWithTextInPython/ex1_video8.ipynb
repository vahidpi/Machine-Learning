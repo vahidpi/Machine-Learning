{
 "cells": [
  {
   "cell_type": "code",
   "execution_count": 1,
   "metadata": {},
   "outputs": [],
   "source": [
    "import re"
   ]
  },
  {
   "cell_type": "code",
   "execution_count": 6,
   "metadata": {},
   "outputs": [
    {
     "name": "stdout",
     "output_type": "stream",
     "text": [
      " guardian of democracy .., also works as a deterrent to ter;;, rorists.\n",
      "   If the United States and all its; might wasn't viewed as looking- out for smaller countries’ inter- ; ests, Rogers said, \"things could get completely out of hand.;- Anybody could do anything/; Terrorism would spread like a cancer.”\t,\n",
      "   Poor people may be the first'-'* to feel repercussions from Iraq's invasion of Kuwait. Al->.\" ready, the price of a tankful of gasoline has increased a dollar— or two at many pumps in the region.\n",
      "   \"This is going to hurt the. poor man and the U.S. car tor.... dustry,” Rogers predicted.\n",
      "   “Even if they ration gas, ;lt won’t matter to rich people*”...;, said Belk, from the VA nursing-,:.’ home. “They will buy it on the black market. But if you don't,7 have much money to begin with;-’; it’s going to make a difference/*—.\n",
      "   Gerald Dunn, a federal gov*” - eminent employee from Alex-* 1 andria, said that he believed'\"\" that most middle- and upper-in-\"“ come families wouldn’t even no-.; — tice the increase in gas prices.-'; Besides, he said, it was a small -price for them to pay while the nation defended a \"country un-' der attack.”\t’’\n",
      "   Saddam Hussein, alternatively described as a madman, bully-”\" and dictator, drew passionate'\"''. repudiation.\n",
      "   \"No way can we let him get' away with this,” said Robert Stout, a vice president at Smithy Braedon, referring to . the Iraqi president’s decision to.... annex Kuwait.\t,\n",
      "   “Saddam Hussein really,,,,.* scares me,\" said Falls Church,,,, music instructor Joseph Moq-, ton. \"I fear we have a madmaq,,,„; out there and he is not going to;;,* stop at Kuwait. These days, it takes is a nuclear weapon; small enough to fit in a suit-.;.; case.”\t—\n",
      "   ”1 just hope they stop him — quick,” said Viola Anderson, a\"-\"\n",
      "retired hotel employee in tlie\t\n",
      "District. \"I really feel things could turn terrible, if we donfr stop him soon.”\t>•'«■«\n",
      "Reproduced with permission of the copyright owner. Further reproduction prohibited without permission.\n",
      "\n"
     ]
    }
   ],
   "source": [
    "# open the file in download path\n",
    "file = open(file='/Users/piroova/Downloads/sample3.txt')\n",
    "\n",
    "# read the file contents\n",
    "text = file.read()\n",
    "\n",
    "# get the last 2k chars\n",
    "extract=text[-2000:]\n",
    "\n",
    "print(extract)"
   ]
  },
  {
   "cell_type": "code",
   "execution_count": 7,
   "metadata": {},
   "outputs": [
    {
     "data": {
      "text/plain": [
       "re.Pattern"
      ]
     },
     "execution_count": 7,
     "metadata": {},
     "output_type": "execute_result"
    }
   ],
   "source": [
    "# compile a reqular expression\n",
    "stops = re.compile(r'\\.{2,}')\n",
    "\n",
    "type(stops)"
   ]
  },
  {
   "cell_type": "code",
   "execution_count": 8,
   "metadata": {},
   "outputs": [
    {
     "name": "stdout",
     "output_type": "stream",
     "text": [
      " guardian of democracy , also works as a deterrent to ter;;, rorists.\n",
      "   If the United States and all its; might wasn't viewed as looking- out for smaller countries’ inter- ; ests, Rogers said, \"things could get completely out of hand.;- Anybody could do anything/; Terrorism would spread like a cancer.”\t,\n",
      "   Poor people may be the first'-'* to feel repercussions from Iraq's invasion of Kuwait. Al->.\" ready, the price of a tankful of gasoline has increased a dollar— or two at many pumps in the region.\n",
      "   \"This is going to hurt the. poor man and the U.S. car tor dustry,” Rogers predicted.\n",
      "   “Even if they ration gas, ;lt won’t matter to rich people*”;, said Belk, from the VA nursing-,:.’ home. “They will buy it on the black market. But if you don't,7 have much money to begin with;-’; it’s going to make a difference/*—.\n",
      "   Gerald Dunn, a federal gov*” - eminent employee from Alex-* 1 andria, said that he believed'\"\" that most middle- and upper-in-\"“ come families wouldn’t even no-.; — tice the increase in gas prices.-'; Besides, he said, it was a small -price for them to pay while the nation defended a \"country un-' der attack.”\t’’\n",
      "   Saddam Hussein, alternatively described as a madman, bully-”\" and dictator, drew passionate'\"''. repudiation.\n",
      "   \"No way can we let him get' away with this,” said Robert Stout, a vice president at Smithy Braedon, referring to . the Iraqi president’s decision to annex Kuwait.\t,\n",
      "   “Saddam Hussein really,,,,.* scares me,\" said Falls Church,,,, music instructor Joseph Moq-, ton. \"I fear we have a madmaq,,,„; out there and he is not going to;;,* stop at Kuwait. These days, it takes is a nuclear weapon; small enough to fit in a suit-.;.; case.”\t—\n",
      "   ”1 just hope they stop him — quick,” said Viola Anderson, a\"-\"\n",
      "retired hotel employee in tlie\t\n",
      "District. \"I really feel things could turn terrible, if we donfr stop him soon.”\t>•'«■«\n",
      "Reproduced with permission of the copyright owner. Further reproduction prohibited without permission.\n",
      "\n"
     ]
    }
   ],
   "source": [
    "# apply teh requalr excpression\n",
    "extract = stops.sub(repl='',string=extract)\n",
    "\n",
    "print(extract)"
   ]
  },
  {
   "cell_type": "code",
   "execution_count": 15,
   "metadata": {},
   "outputs": [
    {
     "name": "stdout",
     "output_type": "stream",
     "text": [
      " guardian of democracy , also works as a deterrent to ter, rorists.\n",
      "   If the United States and all its; might wasn't viewed as looking- out for smaller countries’ inter- ; ests, Rogers said, \"things could get completely out of hand.;- Anybody could do anything/; Terrorism would spread like a cancer.”\t,\n",
      "   Poor people may be the first'-'* to feel repercussions from Iraq's invasion of Kuwait. Al->.\" ready, the price of a tankful of gasoline has increased a dollar— or two at many pumps in the region.\n",
      "   \"This is going to hurt the. poor man and the U.S. car tor dustry,” Rogers predicted.\n",
      "   “Even if they ration gas, ;lt won’t matter to rich people*”;, said Belk, from the VA nursing-,:.’ home. “They will buy it on the black market. But if you don't,7 have much money to begin with;-’; it’s going to make a difference/*—.\n",
      "   Gerald Dunn, a federal gov*” - eminent employee from Alex-* 1 andria, said that he believed'\"\" that most middle- and upper-in-\"“ come families wouldn’t even no-.; — tice the increase in gas prices.-'; Besides, he said, it was a small -price for them to pay while the nation defended a \"country un-' der attack.”\t’’\n",
      "   Saddam Hussein, alternatively described as a madman, bully-”\" and dictator, drew passionate'\"''. repudiation.\n",
      "   \"No way can we let him get' away with this,” said Robert Stout, a vice president at Smithy Braedon, referring to . the Iraqi president’s decision to annex Kuwait.\t,\n",
      "   “Saddam Hussein really.* scares me,\" said Falls Church music instructor Joseph Moq-, ton. \"I fear we have a madmaq„; out there and he is not going to,* stop at Kuwait. These days, it takes is a nuclear weapon; small enough to fit in a suit-.;.; case.”\t—\n",
      "   ”1 just hope they stop him — quick,” said Viola Anderson, a\"-\"\n",
      "retired hotel employee in tlie\t\n",
      "District. \"I really feel things could turn terrible, if we donfr stop him soon.”\t>•'«■«\n",
      "Reproduced with permission of the copyright owner. Further reproduction prohibited without permission.\n",
      "\n"
     ]
    }
   ],
   "source": [
    "stops2=re.compile(r'\\,{2,}')\n",
    "extract=stops2.sub(repl='',string=extract)\n",
    "print(extract)"
   ]
  },
  {
   "cell_type": "code",
   "execution_count": 16,
   "metadata": {},
   "outputs": [
    {
     "name": "stdout",
     "output_type": "stream",
     "text": [
      " guardian of democracy , also works as a deterrent to ter, rorists.\n",
      "   If the United States and all its; might wasn't viewed as looking- out for smaller countries’ inter- ; ests, Rogers said, \"things could get completely out of hand.;- Anybody could do anything/; Terrorism would spread like a cancer.”\t,\n",
      "   Poor people may be the first'-'* to feel repercussions from Iraq's invasion of Kuwait. Al->.\" ready, the price of a tankful of gasoline has increased a dollar— or two at many pumps in the region.\n",
      "   \"This is going to hurt the. poor man and the U.S. car tor dustry,” Rogers predicted.\n",
      "   “Even if they ration gas, ;lt won’t matter to rich people*”;, said Belk, from the VA nursing-,:.’ home. “They will buy it on the black market. But if you don't,7 have much money to begin with;-’; it’s going to make a difference/*—.\n",
      "   Gerald Dunn, a federal gov*” - eminent employee from Alex-* 1 andria, said that he believed'\"\" that most middle- and upper-in-\"“ come families wouldn’t even no-.; — tice the increase in gas prices.-'; Besides, he said, it was a small -price for them to pay while the nation defended a \"country un-' der attack.”\t’’\n",
      "   Saddam Hussein, alternatively described as a madman, bully-”\" and dictator, drew passionate'\"''. repudiation.\n",
      "   \"No way can we let him get' away with this,” said Robert Stout, a vice president at Smithy Braedon, referring to . the Iraqi president’s decision to annex Kuwait.\t,\n",
      "   “Saddam Hussein really.* scares me,\" said Falls Church music instructor Joseph Moq-, ton. \"I fear we have a madmaq„; out there and he is not going to,* stop at Kuwait. These days, it takes is a nuclear weapon; small enough to fit in a suit-.;.; case.”\t—\n",
      "   ”1 just hope they stop him — quick,” said Viola Anderson, a\"-\"\n",
      "retired hotel employee in tlie\t\n",
      "District. \"I really feel things could turn terrible, if we donfr stop him soon.”\t>•'«■«\n",
      "Reproduced with permission of the copyright owner. Further reproduction prohibited without permission.\n",
      "\n"
     ]
    }
   ],
   "source": [
    "stops2=re.compile(r'\\;{2,}')\n",
    "extract=stops2.sub(repl='',string=extract)\n",
    "print(extract)"
   ]
  },
  {
   "cell_type": "code",
   "execution_count": null,
   "metadata": {},
   "outputs": [],
   "source": []
  }
 ],
 "metadata": {
  "kernelspec": {
   "display_name": "Python 3",
   "language": "python",
   "name": "python3"
  },
  "language_info": {
   "codemirror_mode": {
    "name": "ipython",
    "version": 3
   },
   "file_extension": ".py",
   "mimetype": "text/x-python",
   "name": "python",
   "nbconvert_exporter": "python",
   "pygments_lexer": "ipython3",
   "version": "3.8.5"
  }
 },
 "nbformat": 4,
 "nbformat_minor": 4
}
