{
 "cells": [
  {
   "cell_type": "code",
   "execution_count": 1,
   "metadata": {},
   "outputs": [],
   "source": [
    "import spacy"
   ]
  },
  {
   "cell_type": "code",
   "execution_count": 2,
   "metadata": {},
   "outputs": [
    {
     "data": {
      "text/plain": [
       "<spacy.lang.en.English at 0x7f7fa063ed90>"
      ]
     },
     "execution_count": 2,
     "metadata": {},
     "output_type": "execute_result"
    }
   ],
   "source": [
    "# load the small language model for English\n",
    "nlp = spacy.load('en_core_web_sm')\n",
    "\n",
    "nlp"
   ]
  },
  {
   "cell_type": "code",
   "execution_count": 4,
   "metadata": {},
   "outputs": [
    {
     "data": {
      "text/plain": [
       "'This simple replacement operation would allow us to remove erroneous line breaks within the text. We can still identify actual line breaks by the indentations at the beginning of each paragraph, which are marked by three whitespaces. We can use this information to insert actual line breaks back into the text by replacing sequences of three whitespaces with the line break sequence and three whitespaces.'"
      ]
     },
     "execution_count": 4,
     "metadata": {},
     "output_type": "execute_result"
    }
   ],
   "source": [
    "text = 'This simple replacement operation would allow us to remove erroneous line breaks within the text. We can still identify actual line breaks by the indentations at the beginning of each paragraph, which are marked by three whitespaces. We can use this information to insert actual line breaks back into the text by replacing sequences of three whitespaces with the line break sequence and three whitespaces.'\n",
    "text"
   ]
  },
  {
   "cell_type": "code",
   "execution_count": 5,
   "metadata": {},
   "outputs": [],
   "source": [
    "# feed the string to to a language oject (language model)\n",
    "doc=nlp(text)"
   ]
  },
  {
   "cell_type": "code",
   "execution_count": 6,
   "metadata": {},
   "outputs": [
    {
     "data": {
      "text/plain": [
       "This simple replacement operation would allow us to remove erroneous line breaks within the text. We can still identify actual line breaks by the indentations at the beginning of each paragraph, which are marked by three whitespaces. We can use this information to insert actual line breaks back into the text by replacing sequences of three whitespaces with the line break sequence and three whitespaces."
      ]
     },
     "execution_count": 6,
     "metadata": {},
     "output_type": "execute_result"
    }
   ],
   "source": [
    "doc"
   ]
  },
  {
   "cell_type": "code",
   "execution_count": 7,
   "metadata": {},
   "outputs": [
    {
     "name": "stdout",
     "output_type": "stream",
     "text": [
      "This\n",
      "simple\n",
      "replacement\n",
      "operation\n",
      "would\n",
      "allow\n",
      "us\n",
      "to\n",
      "remove\n",
      "erroneous\n",
      "line\n",
      "breaks\n",
      "within\n",
      "the\n",
      "text\n",
      ".\n",
      "We\n",
      "can\n",
      "still\n",
      "identify\n",
      "actual\n",
      "line\n",
      "breaks\n",
      "by\n",
      "the\n",
      "indentations\n",
      "at\n",
      "the\n",
      "beginning\n",
      "of\n",
      "each\n",
      "paragraph\n",
      ",\n",
      "which\n",
      "are\n",
      "marked\n",
      "by\n",
      "three\n",
      "whitespaces\n",
      ".\n",
      "We\n",
      "can\n",
      "use\n",
      "this\n",
      "information\n",
      "to\n",
      "insert\n",
      "actual\n",
      "line\n",
      "breaks\n",
      "back\n",
      "into\n",
      "the\n",
      "text\n",
      "by\n",
      "replacing\n",
      "sequences\n",
      "of\n",
      "three\n",
      "whitespaces\n",
      "with\n",
      "the\n",
      "line\n",
      "break\n",
      "sequence\n",
      "and\n",
      "three\n",
      "whitespaces\n",
      ".\n"
     ]
    }
   ],
   "source": [
    "# look over items in the Doc object\n",
    "for token in doc:\n",
    "    print(token)"
   ]
  },
  {
   "cell_type": "code",
   "execution_count": 9,
   "metadata": {},
   "outputs": [
    {
     "name": "stdout",
     "output_type": "stream",
     "text": [
      "This DET DT\n",
      "simple ADJ JJ\n",
      "replacement NOUN NN\n",
      "operation NOUN NN\n",
      "would AUX MD\n",
      "allow VERB VB\n",
      "us PRON PRP\n",
      "to PART TO\n",
      "remove VERB VB\n",
      "erroneous ADJ JJ\n",
      "line NOUN NN\n",
      "breaks NOUN NNS\n",
      "within ADP IN\n",
      "the DET DT\n",
      "text NOUN NN\n",
      ". PUNCT .\n",
      "We PRON PRP\n",
      "can AUX MD\n",
      "still ADV RB\n",
      "identify VERB VB\n",
      "actual ADJ JJ\n",
      "line NOUN NN\n",
      "breaks NOUN NNS\n",
      "by ADP IN\n",
      "the DET DT\n",
      "indentations NOUN NNS\n",
      "at ADP IN\n",
      "the DET DT\n",
      "beginning NOUN NN\n",
      "of ADP IN\n",
      "each DET DT\n",
      "paragraph NOUN NN\n",
      ", PUNCT ,\n",
      "which DET WDT\n",
      "are AUX VBP\n",
      "marked VERB VBN\n",
      "by ADP IN\n",
      "three NUM CD\n",
      "whitespaces NOUN NNS\n",
      ". PUNCT .\n",
      "We PRON PRP\n",
      "can AUX MD\n",
      "use VERB VB\n",
      "this DET DT\n",
      "information NOUN NN\n",
      "to PART TO\n",
      "insert VERB VB\n",
      "actual ADJ JJ\n",
      "line NOUN NN\n",
      "breaks VERB VBZ\n",
      "back ADV RB\n",
      "into ADP IN\n",
      "the DET DT\n",
      "text NOUN NN\n",
      "by ADP IN\n",
      "replacing VERB VBG\n",
      "sequences NOUN NNS\n",
      "of ADP IN\n",
      "three NUM CD\n",
      "whitespaces NOUN NNS\n",
      "with ADP IN\n",
      "the DET DT\n",
      "line NOUN NN\n",
      "break NOUN NN\n",
      "sequence NOUN NN\n",
      "and CCONJ CC\n",
      "three NUM CD\n",
      "whitespaces NOUN NNS\n",
      ". PUNCT .\n"
     ]
    }
   ],
   "source": [
    "# loop over items in doc, print the tokens and POS tags\n",
    "for token in doc:\n",
    "    print(token, token.pos_,token.tag_)"
   ]
  },
  {
   "cell_type": "code",
   "execution_count": null,
   "metadata": {},
   "outputs": [],
   "source": []
  }
 ],
 "metadata": {
  "kernelspec": {
   "display_name": "Python 3",
   "language": "python",
   "name": "python3"
  },
  "language_info": {
   "codemirror_mode": {
    "name": "ipython",
    "version": 3
   },
   "file_extension": ".py",
   "mimetype": "text/x-python",
   "name": "python",
   "nbconvert_exporter": "python",
   "pygments_lexer": "ipython3",
   "version": "3.8.5"
  }
 },
 "nbformat": 4,
 "nbformat_minor": 4
}
