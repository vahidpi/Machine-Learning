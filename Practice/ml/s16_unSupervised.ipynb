{
 "cells": [
  {
   "cell_type": "code",
   "execution_count": 1,
   "metadata": {},
   "outputs": [],
   "source": [
    "import numpy as np"
   ]
  },
  {
   "cell_type": "code",
   "execution_count": null,
   "metadata": {},
   "outputs": [],
   "source": [
    "# centroids=np.random((K,n))\n",
    "# while True:\n",
    "#     for i in range(m):\n",
    "#         c[i]=np.argmin(np.linalg.norm(X[i]-centroids,axis=1))\n",
    "    \n",
    "#     for k in range (K):\n",
    "#         centroids[k]=np.mean(X[x==k],axis=0)\n",
    "        \n",
    "#     # if c[i] din't change, end while loop"
   ]
  },
  {
   "cell_type": "code",
   "execution_count": null,
   "metadata": {},
   "outputs": [],
   "source": [
    "%matplotlib inline\n",
    "import math I\n",
    "import scipy\n",
    "import numpy as up\n",
    "import mauplotlib.pyplot as plt\n",
    "from mpl_toolkits.mplot3d import Axes3D\n",
    "\n",
    "from sklearn.data\n",
    "MT.“ ‘3]:-L?ilTMmni?zh‘l:Ai «1-..‘7u1‘? :- 77‘1\"}: H35,“ :T\n",
    "if 5.7.1”. 'El‘wf?7l‘:f ‘ 1,.1‘.‘ ,.1{“=;g.‘.   "
   ]
  }
 ],
 "metadata": {
  "kernelspec": {
   "display_name": "Python 3",
   "language": "python",
   "name": "python3"
  },
  "language_info": {
   "codemirror_mode": {
    "name": "ipython",
    "version": 3
   },
   "file_extension": ".py",
   "mimetype": "text/x-python",
   "name": "python",
   "nbconvert_exporter": "python",
   "pygments_lexer": "ipython3",
   "version": "3.7.6"
  }
 },
 "nbformat": 4,
 "nbformat_minor": 4
}
