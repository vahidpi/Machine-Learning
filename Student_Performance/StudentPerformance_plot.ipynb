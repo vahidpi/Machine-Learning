{
 "cells": [
  {
   "cell_type": "markdown",
   "metadata": {},
   "source": [
    "<h1>Student Performance</h1>"
   ]
  },
  {
   "cell_type": "markdown",
   "metadata": {},
   "source": [
    "## Dataset Name : “Student Performance Data Set”.\n",
    "\n",
    "Source : UCI Machine Learning Repository (https://archive.ics.uci.edu/ml/datasets/Student+Performance)\n",
    "\n",
    "### Information :\n",
    "This data approach student achievement in secondary education of two Portuguese schools. The data attributes include student grades, demographic, social and school related features) and it was collected by using school reports and questionnaires. Two datasets are provided regarding the performance in two distinct subjects: Mathematics (mat) and Portuguese language (por). In [Cortez and Silva, 2008], the two datasets were modeled under binary/five-level classification and regression tasks. Important note: the target attribute G3 has a strong correlation with attributes G2 and G1. This occurs because G3 is the final year grade (issued at the 3rd period), while G1 and G2 correspond to the 1st and 2nd period grades. It is more difficult to predict G3 without G2 and G1, but such prediction is much more useful (<a href='http://www3.dsi.uminho.pt/pcortez/student.pdf'>see paper source for more details</a>)."
   ]
  },
  {
   "cell_type": "code",
   "execution_count": 18,
   "metadata": {},
   "outputs": [],
   "source": [
    "# import libraries\n",
    "import numpy as np\n",
    "import matplotlib\n",
    "import pandas as pd\n",
    "import sklearn"
   ]
  },
  {
   "cell_type": "code",
   "execution_count": 19,
   "metadata": {},
   "outputs": [],
   "source": [
    "from sklearn import model_selection\n",
    "from sklearn import preprocessing\n",
    "from sklearn.linear_model import LogisticRegression\n",
    "from sklearn.neighbors import KNeighborsClassifier\n",
    "from sklearn.svm import SVC "
   ]
  },
  {
   "cell_type": "code",
   "execution_count": 20,
   "metadata": {},
   "outputs": [
    {
     "data": {
      "text/html": [
       "<div>\n",
       "<style scoped>\n",
       "    .dataframe tbody tr th:only-of-type {\n",
       "        vertical-align: middle;\n",
       "    }\n",
       "\n",
       "    .dataframe tbody tr th {\n",
       "        vertical-align: top;\n",
       "    }\n",
       "\n",
       "    .dataframe thead th {\n",
       "        text-align: right;\n",
       "    }\n",
       "</style>\n",
       "<table border=\"1\" class=\"dataframe\">\n",
       "  <thead>\n",
       "    <tr style=\"text-align: right;\">\n",
       "      <th></th>\n",
       "      <th>school</th>\n",
       "      <th>sex</th>\n",
       "      <th>age</th>\n",
       "      <th>address</th>\n",
       "      <th>famsize</th>\n",
       "      <th>Pstatus</th>\n",
       "      <th>Medu</th>\n",
       "      <th>Fedu</th>\n",
       "      <th>Mjob</th>\n",
       "      <th>Fjob</th>\n",
       "      <th>...</th>\n",
       "      <th>famrel</th>\n",
       "      <th>freetime</th>\n",
       "      <th>goout</th>\n",
       "      <th>Dalc</th>\n",
       "      <th>Walc</th>\n",
       "      <th>health</th>\n",
       "      <th>absences</th>\n",
       "      <th>G1</th>\n",
       "      <th>G2</th>\n",
       "      <th>G3</th>\n",
       "    </tr>\n",
       "  </thead>\n",
       "  <tbody>\n",
       "    <tr>\n",
       "      <th>0</th>\n",
       "      <td>GP</td>\n",
       "      <td>F</td>\n",
       "      <td>18</td>\n",
       "      <td>U</td>\n",
       "      <td>GT3</td>\n",
       "      <td>A</td>\n",
       "      <td>4</td>\n",
       "      <td>4</td>\n",
       "      <td>at_home</td>\n",
       "      <td>teacher</td>\n",
       "      <td>...</td>\n",
       "      <td>4</td>\n",
       "      <td>3</td>\n",
       "      <td>4</td>\n",
       "      <td>1</td>\n",
       "      <td>1</td>\n",
       "      <td>3</td>\n",
       "      <td>6</td>\n",
       "      <td>5</td>\n",
       "      <td>6</td>\n",
       "      <td>6</td>\n",
       "    </tr>\n",
       "    <tr>\n",
       "      <th>1</th>\n",
       "      <td>GP</td>\n",
       "      <td>F</td>\n",
       "      <td>17</td>\n",
       "      <td>U</td>\n",
       "      <td>GT3</td>\n",
       "      <td>T</td>\n",
       "      <td>1</td>\n",
       "      <td>1</td>\n",
       "      <td>at_home</td>\n",
       "      <td>other</td>\n",
       "      <td>...</td>\n",
       "      <td>5</td>\n",
       "      <td>3</td>\n",
       "      <td>3</td>\n",
       "      <td>1</td>\n",
       "      <td>1</td>\n",
       "      <td>3</td>\n",
       "      <td>4</td>\n",
       "      <td>5</td>\n",
       "      <td>5</td>\n",
       "      <td>6</td>\n",
       "    </tr>\n",
       "    <tr>\n",
       "      <th>2</th>\n",
       "      <td>GP</td>\n",
       "      <td>F</td>\n",
       "      <td>15</td>\n",
       "      <td>U</td>\n",
       "      <td>LE3</td>\n",
       "      <td>T</td>\n",
       "      <td>1</td>\n",
       "      <td>1</td>\n",
       "      <td>at_home</td>\n",
       "      <td>other</td>\n",
       "      <td>...</td>\n",
       "      <td>4</td>\n",
       "      <td>3</td>\n",
       "      <td>2</td>\n",
       "      <td>2</td>\n",
       "      <td>3</td>\n",
       "      <td>3</td>\n",
       "      <td>10</td>\n",
       "      <td>7</td>\n",
       "      <td>8</td>\n",
       "      <td>10</td>\n",
       "    </tr>\n",
       "    <tr>\n",
       "      <th>3</th>\n",
       "      <td>GP</td>\n",
       "      <td>F</td>\n",
       "      <td>15</td>\n",
       "      <td>U</td>\n",
       "      <td>GT3</td>\n",
       "      <td>T</td>\n",
       "      <td>4</td>\n",
       "      <td>2</td>\n",
       "      <td>health</td>\n",
       "      <td>services</td>\n",
       "      <td>...</td>\n",
       "      <td>3</td>\n",
       "      <td>2</td>\n",
       "      <td>2</td>\n",
       "      <td>1</td>\n",
       "      <td>1</td>\n",
       "      <td>5</td>\n",
       "      <td>2</td>\n",
       "      <td>15</td>\n",
       "      <td>14</td>\n",
       "      <td>15</td>\n",
       "    </tr>\n",
       "    <tr>\n",
       "      <th>4</th>\n",
       "      <td>GP</td>\n",
       "      <td>F</td>\n",
       "      <td>16</td>\n",
       "      <td>U</td>\n",
       "      <td>GT3</td>\n",
       "      <td>T</td>\n",
       "      <td>3</td>\n",
       "      <td>3</td>\n",
       "      <td>other</td>\n",
       "      <td>other</td>\n",
       "      <td>...</td>\n",
       "      <td>4</td>\n",
       "      <td>3</td>\n",
       "      <td>2</td>\n",
       "      <td>1</td>\n",
       "      <td>2</td>\n",
       "      <td>5</td>\n",
       "      <td>4</td>\n",
       "      <td>6</td>\n",
       "      <td>10</td>\n",
       "      <td>10</td>\n",
       "    </tr>\n",
       "  </tbody>\n",
       "</table>\n",
       "<p>5 rows × 33 columns</p>\n",
       "</div>"
      ],
      "text/plain": [
       "  school sex  age address famsize Pstatus  Medu  Fedu     Mjob      Fjob  ...  \\\n",
       "0     GP   F   18       U     GT3       A     4     4  at_home   teacher  ...   \n",
       "1     GP   F   17       U     GT3       T     1     1  at_home     other  ...   \n",
       "2     GP   F   15       U     LE3       T     1     1  at_home     other  ...   \n",
       "3     GP   F   15       U     GT3       T     4     2   health  services  ...   \n",
       "4     GP   F   16       U     GT3       T     3     3    other     other  ...   \n",
       "\n",
       "  famrel freetime  goout  Dalc  Walc health absences  G1  G2  G3  \n",
       "0      4        3      4     1     1      3        6   5   6   6  \n",
       "1      5        3      3     1     1      3        4   5   5   6  \n",
       "2      4        3      2     2     3      3       10   7   8  10  \n",
       "3      3        2      2     1     1      5        2  15  14  15  \n",
       "4      4        3      2     1     2      5        4   6  10  10  \n",
       "\n",
       "[5 rows x 33 columns]"
      ]
     },
     "execution_count": 20,
     "metadata": {},
     "output_type": "execute_result"
    }
   ],
   "source": [
    "# Load Dataset\n",
    "url = \"data/\"\n",
    "matDS=pd.read_csv(url+'student-mat.csv',sep=';')\n",
    "porDS=pd.read_csv(url+'student-por.csv',sep=';')\n",
    "# Merging two datasets \n",
    "dataSet=pd.concat([matDS,porDS])\n",
    "dataSet.head()"
   ]
  },
  {
   "cell_type": "markdown",
   "metadata": {},
   "source": [
    "### Features:"
   ]
  },
  {
   "cell_type": "code",
   "execution_count": 21,
   "metadata": {},
   "outputs": [
    {
     "data": {
      "text/plain": [
       "Index(['school', 'sex', 'age', 'address', 'famsize', 'Pstatus', 'Medu', 'Fedu',\n",
       "       'Mjob', 'Fjob', 'reason', 'guardian', 'traveltime', 'studytime',\n",
       "       'failures', 'schoolsup', 'famsup', 'paid', 'activities', 'nursery',\n",
       "       'higher', 'internet', 'romantic', 'famrel', 'freetime', 'goout', 'Dalc',\n",
       "       'Walc', 'health', 'absences', 'G1', 'G2', 'G3'],\n",
       "      dtype='object')"
      ]
     },
     "execution_count": 21,
     "metadata": {},
     "output_type": "execute_result"
    }
   ],
   "source": [
    "dataSet.columns"
   ]
  },
  {
   "cell_type": "markdown",
   "metadata": {},
   "source": [
    "1. school - student's school (binary: 'GP' - Gabriel Pereira or 'MS' - Mousinho da Silveira)\n",
    "2. sex - student's sex (binary: 'F' - female or 'M' - male)\n",
    "3. age - student's age (numeric: from 15 to 22)\n",
    "4. address - student's home address type (binary: 'U' - urban or 'R' - rural)\n",
    "5. famsize - family size (binary: 'LE3' - less or equal to 3 or 'GT3' - greater than 3)\n",
    "6. Pstatus - parent's cohabitation status (binary: 'T' - living together or 'A' - apart)\n",
    "7. Medu - mother's education (numeric):\n",
    "<ul>\n",
    "    <li>0 - none</li>\n",
    "    <li>1 - primary education (4th grade)</li>\n",
    "    <li>3 - secondary education </li>\n",
    "    <li>4 - higher education</li>\n",
    "</ul>\n",
    "8. Fedu - father's education (numeric):\n",
    "<ul>\n",
    "    <li>0 - none</li>\n",
    "    <li>1 - primary education (4th grade)</li>\n",
    "    <li>3 - secondary education </li>\n",
    "    <li>4 - higher education</li>\n",
    "</ul>\n",
    "9. Mjob - mother's job (nominal): \n",
    "<ul>\n",
    "    <li>'teacher'</li>\n",
    "    <li>'health' care related</li>\n",
    "    <li>civil 'services' (e.g. administrative or police)</li>\n",
    "    <li>'at_home'</li>\n",
    "    <li> 'other'</li>\n",
    "</ul>\n",
    "10. Fjob - father's job (nominal): \n",
    "<ul>\n",
    "    <li>'teacher'</li>\n",
    "    <li>'health' care related</li>\n",
    "    <li>civil 'services' (e.g. administrative or police)</li>\n",
    "    <li>'at_home'</li>\n",
    "    <li> 'other'</li>\n",
    "</ul>\n",
    "11. reason - reason to choose this school (nominal: close to 'home', school 'reputation', 'course' preference or 'other')\n",
    "12. guardian - student's guardian (nominal: 'mother', 'father' or 'other')\n",
    "13. traveltime - home to school travel time (numeric: 1 - <15 min., 2 - 15 to 30 min., 3 - 30 min. to 1 hour, or 4 - >1 hour)\n",
    "14. studytime - weekly study time (numeric: 1 - <2 hours, 2 - 2 to 5 hours, 3 - 5 to 10 hours, or 4 - >10 hours)\n",
    "15. failures - number of past class failures (numeric: n if 1<=n<3, else 4)\n",
    "16. schoolsup - extra educational support (binary: yes or no)\n",
    "17. famsup - family educational support (binary: yes or no)\n",
    "18. paid - extra paid classes within the course subject (Math or Portuguese) (binary: yes or no)\n",
    "19. activities - extra-curricular activities (binary: yes or no)\n",
    "20. nursery - attended nursery school (binary: yes or no)\n",
    "21. higher - wants to take higher education (binary: yes or no)\n",
    "22. internet - Internet access at home (binary: yes or no)\n",
    "23. romantic - with a romantic relationship (binary: yes or no)\n",
    "24. famrel - quality of family relationships (numeric: from 1 - very bad to 5 - excellent)\n",
    "25. freetime - free time after school (numeric: from 1 - very low to 5 - very high)\n",
    "26. goout - going out with friends (numeric: from 1 - very low to 5 - very high)\n",
    "27. Dalc - workday alcohol consumption (numeric: from 1 - very low to 5 - very high)\n",
    "28. Walc - weekend alcohol consumption (numeric: from 1 - very low to 5 - very high)\n",
    "29. health - current health status (numeric: from 1 - very bad to 5 - very good)\n",
    "30. absences - number of school absences (numeric: from 0 to 93)\n",
    "31. G1 - first period grade (numeric: from 0 to 20)\n",
    "32. G2 - second period grade (numeric: from 0 to 20)\n",
    "#### Output target\n",
    "33. G3 - final grade (numeric: from 0 to 20)"
   ]
  },
  {
   "cell_type": "code",
   "execution_count": 22,
   "metadata": {},
   "outputs": [],
   "source": [
    "# remove output target and assin it to y\n",
    "y=dataSet['G3']\n",
    "dataSet=dataSet.drop(columns=['G3'])"
   ]
  },
  {
   "cell_type": "markdown",
   "metadata": {},
   "source": [
    "## Preprocessing features\n",
    "In this data set we have 3 different type of features, <b>binary</b> that has true of false, of or like sex column, F or M which show Female of Male. <b>numeric</b> that contents number value and <b>nominal</b> which filed by some string values. About numeric data, no need to do any thing but shoud do data tranfsormation for binary and nominal data. "
   ]
  },
  {
   "cell_type": "code",
   "execution_count": 23,
   "metadata": {},
   "outputs": [],
   "source": [
    "def feature_transfer_label_encoder(fieldName):\n",
    "    before=dataSet.groupby(fieldName).size()\n",
    "    leVar = preprocessing.LabelEncoder()\n",
    "    dataSet[fieldName] =leVar.fit_transform(dataSet[fieldName]) \n",
    "    after=dataSet.groupby(fieldName).size()  \n",
    "    print(fieldName,' :')\n",
    "    print('    -',before.index[0],'->',after.index[0],', Count: ',after[0])\n",
    "    print('    -',before.index[1],'->',after.index[1],', Count: ',after[1])"
   ]
  },
  {
   "cell_type": "code",
   "execution_count": 24,
   "metadata": {},
   "outputs": [
    {
     "name": "stdout",
     "output_type": "stream",
     "text": [
      "sex  :\n",
      "    - F -> 0 , Count:  591\n",
      "    - M -> 1 , Count:  453\n",
      "address  :\n",
      "    - R -> 0 , Count:  285\n",
      "    - U -> 1 , Count:  759\n",
      "school  :\n",
      "    - GP -> 0 , Count:  772\n",
      "    - MS -> 1 , Count:  272\n",
      "famsize  :\n",
      "    - GT3 -> 0 , Count:  738\n",
      "    - LE3 -> 1 , Count:  306\n",
      "Pstatus  :\n",
      "    - A -> 0 , Count:  121\n",
      "    - T -> 1 , Count:  923\n",
      "schoolsup  :\n",
      "    - no -> 0 , Count:  925\n",
      "    - yes -> 1 , Count:  119\n",
      "famsup  :\n",
      "    - no -> 0 , Count:  404\n",
      "    - yes -> 1 , Count:  640\n",
      "paid  :\n",
      "    - no -> 0 , Count:  824\n",
      "    - yes -> 1 , Count:  220\n",
      "activities  :\n",
      "    - no -> 0 , Count:  528\n",
      "    - yes -> 1 , Count:  516\n",
      "nursery  :\n",
      "    - no -> 0 , Count:  209\n",
      "    - yes -> 1 , Count:  835\n",
      "higher  :\n",
      "    - no -> 0 , Count:  89\n",
      "    - yes -> 1 , Count:  955\n",
      "internet  :\n",
      "    - no -> 0 , Count:  217\n",
      "    - yes -> 1 , Count:  827\n",
      "romantic  :\n",
      "    - no -> 0 , Count:  673\n",
      "    - yes -> 1 , Count:  371\n"
     ]
    }
   ],
   "source": [
    "# Convert binary data to 0 and 1\n",
    "binaryFields=['sex','address','school','famsize','Pstatus',   'schoolsup', 'famsup',\n",
    "       'paid', 'activities', 'nursery', 'higher', 'internet', 'romantic']\n",
    "for f in binaryFields:\n",
    "    feature_transfer_label_encoder(f)"
   ]
  },
  {
   "cell_type": "code",
   "execution_count": 25,
   "metadata": {},
   "outputs": [],
   "source": [
    "def feature_transfer_nominal_convertor(fieldName):\n",
    "    dummy_data=pd.get_dummies(dataSet[fieldName], prefix=fieldName)\n",
    "    dummy_data=dummy_data.drop(columns=[fieldName+'_other']) # remove other field from dummy data\n",
    "    res=pd.concat([dataSet, dummy_data], axis=1, sort=False) # concat dummy data with main data set\n",
    "    res=res.drop(columns=[fieldName]) # remove original field from result\n",
    "    return res\n"
   ]
  },
  {
   "cell_type": "code",
   "execution_count": 26,
   "metadata": {},
   "outputs": [],
   "source": [
    "nominalFields=['Mjob', 'Fjob','reason','guardian']\n",
    "for f in nominalFields:\n",
    "    tr=feature_transfer_nominal_convertor(f)\n",
    "    dataSet=tr # fill main data set with converted data"
   ]
  },
  {
   "cell_type": "code",
   "execution_count": 27,
   "metadata": {},
   "outputs": [
    {
     "data": {
      "text/html": [
       "<div>\n",
       "<style scoped>\n",
       "    .dataframe tbody tr th:only-of-type {\n",
       "        vertical-align: middle;\n",
       "    }\n",
       "\n",
       "    .dataframe tbody tr th {\n",
       "        vertical-align: top;\n",
       "    }\n",
       "\n",
       "    .dataframe thead th {\n",
       "        text-align: right;\n",
       "    }\n",
       "</style>\n",
       "<table border=\"1\" class=\"dataframe\">\n",
       "  <thead>\n",
       "    <tr style=\"text-align: right;\">\n",
       "      <th></th>\n",
       "      <th>school</th>\n",
       "      <th>sex</th>\n",
       "      <th>age</th>\n",
       "      <th>address</th>\n",
       "      <th>famsize</th>\n",
       "      <th>Pstatus</th>\n",
       "      <th>Medu</th>\n",
       "      <th>Fedu</th>\n",
       "      <th>traveltime</th>\n",
       "      <th>studytime</th>\n",
       "      <th>...</th>\n",
       "      <th>Mjob_teacher</th>\n",
       "      <th>Fjob_at_home</th>\n",
       "      <th>Fjob_health</th>\n",
       "      <th>Fjob_services</th>\n",
       "      <th>Fjob_teacher</th>\n",
       "      <th>reason_course</th>\n",
       "      <th>reason_home</th>\n",
       "      <th>reason_reputation</th>\n",
       "      <th>guardian_father</th>\n",
       "      <th>guardian_mother</th>\n",
       "    </tr>\n",
       "  </thead>\n",
       "  <tbody>\n",
       "    <tr>\n",
       "      <th>0</th>\n",
       "      <td>0</td>\n",
       "      <td>0</td>\n",
       "      <td>18</td>\n",
       "      <td>1</td>\n",
       "      <td>0</td>\n",
       "      <td>0</td>\n",
       "      <td>4</td>\n",
       "      <td>4</td>\n",
       "      <td>2</td>\n",
       "      <td>2</td>\n",
       "      <td>...</td>\n",
       "      <td>0</td>\n",
       "      <td>0</td>\n",
       "      <td>0</td>\n",
       "      <td>0</td>\n",
       "      <td>1</td>\n",
       "      <td>1</td>\n",
       "      <td>0</td>\n",
       "      <td>0</td>\n",
       "      <td>0</td>\n",
       "      <td>1</td>\n",
       "    </tr>\n",
       "    <tr>\n",
       "      <th>1</th>\n",
       "      <td>0</td>\n",
       "      <td>0</td>\n",
       "      <td>17</td>\n",
       "      <td>1</td>\n",
       "      <td>0</td>\n",
       "      <td>1</td>\n",
       "      <td>1</td>\n",
       "      <td>1</td>\n",
       "      <td>1</td>\n",
       "      <td>2</td>\n",
       "      <td>...</td>\n",
       "      <td>0</td>\n",
       "      <td>0</td>\n",
       "      <td>0</td>\n",
       "      <td>0</td>\n",
       "      <td>0</td>\n",
       "      <td>1</td>\n",
       "      <td>0</td>\n",
       "      <td>0</td>\n",
       "      <td>1</td>\n",
       "      <td>0</td>\n",
       "    </tr>\n",
       "    <tr>\n",
       "      <th>2</th>\n",
       "      <td>0</td>\n",
       "      <td>0</td>\n",
       "      <td>15</td>\n",
       "      <td>1</td>\n",
       "      <td>1</td>\n",
       "      <td>1</td>\n",
       "      <td>1</td>\n",
       "      <td>1</td>\n",
       "      <td>1</td>\n",
       "      <td>2</td>\n",
       "      <td>...</td>\n",
       "      <td>0</td>\n",
       "      <td>0</td>\n",
       "      <td>0</td>\n",
       "      <td>0</td>\n",
       "      <td>0</td>\n",
       "      <td>0</td>\n",
       "      <td>0</td>\n",
       "      <td>0</td>\n",
       "      <td>0</td>\n",
       "      <td>1</td>\n",
       "    </tr>\n",
       "    <tr>\n",
       "      <th>3</th>\n",
       "      <td>0</td>\n",
       "      <td>0</td>\n",
       "      <td>15</td>\n",
       "      <td>1</td>\n",
       "      <td>0</td>\n",
       "      <td>1</td>\n",
       "      <td>4</td>\n",
       "      <td>2</td>\n",
       "      <td>1</td>\n",
       "      <td>3</td>\n",
       "      <td>...</td>\n",
       "      <td>0</td>\n",
       "      <td>0</td>\n",
       "      <td>0</td>\n",
       "      <td>1</td>\n",
       "      <td>0</td>\n",
       "      <td>0</td>\n",
       "      <td>1</td>\n",
       "      <td>0</td>\n",
       "      <td>0</td>\n",
       "      <td>1</td>\n",
       "    </tr>\n",
       "    <tr>\n",
       "      <th>4</th>\n",
       "      <td>0</td>\n",
       "      <td>0</td>\n",
       "      <td>16</td>\n",
       "      <td>1</td>\n",
       "      <td>0</td>\n",
       "      <td>1</td>\n",
       "      <td>3</td>\n",
       "      <td>3</td>\n",
       "      <td>1</td>\n",
       "      <td>2</td>\n",
       "      <td>...</td>\n",
       "      <td>0</td>\n",
       "      <td>0</td>\n",
       "      <td>0</td>\n",
       "      <td>0</td>\n",
       "      <td>0</td>\n",
       "      <td>0</td>\n",
       "      <td>1</td>\n",
       "      <td>0</td>\n",
       "      <td>1</td>\n",
       "      <td>0</td>\n",
       "    </tr>\n",
       "  </tbody>\n",
       "</table>\n",
       "<p>5 rows × 41 columns</p>\n",
       "</div>"
      ],
      "text/plain": [
       "   school  sex  age  address  famsize  Pstatus  Medu  Fedu  traveltime  \\\n",
       "0       0    0   18        1        0        0     4     4           2   \n",
       "1       0    0   17        1        0        1     1     1           1   \n",
       "2       0    0   15        1        1        1     1     1           1   \n",
       "3       0    0   15        1        0        1     4     2           1   \n",
       "4       0    0   16        1        0        1     3     3           1   \n",
       "\n",
       "   studytime  ...  Mjob_teacher  Fjob_at_home  Fjob_health  Fjob_services  \\\n",
       "0          2  ...             0             0            0              0   \n",
       "1          2  ...             0             0            0              0   \n",
       "2          2  ...             0             0            0              0   \n",
       "3          3  ...             0             0            0              1   \n",
       "4          2  ...             0             0            0              0   \n",
       "\n",
       "   Fjob_teacher  reason_course  reason_home  reason_reputation  \\\n",
       "0             1              1            0                  0   \n",
       "1             0              1            0                  0   \n",
       "2             0              0            0                  0   \n",
       "3             0              0            1                  0   \n",
       "4             0              0            1                  0   \n",
       "\n",
       "   guardian_father  guardian_mother  \n",
       "0                0                1  \n",
       "1                1                0  \n",
       "2                0                1  \n",
       "3                0                1  \n",
       "4                1                0  \n",
       "\n",
       "[5 rows x 41 columns]"
      ]
     },
     "execution_count": 27,
     "metadata": {},
     "output_type": "execute_result"
    }
   ],
   "source": [
    "dataSet.head()"
   ]
  },
  {
   "cell_type": "markdown",
   "metadata": {},
   "source": [
    "<hr/>"
   ]
  },
  {
   "cell_type": "code",
   "execution_count": 28,
   "metadata": {},
   "outputs": [],
   "source": [
    "# Split-out validation and test dataset\n",
    "# array=dataSet.values\n",
    "X=dataSet\n",
    "# validation_size=0.20\n",
    "# seed=7\n",
    "# X_train,X_validation,y_train,y_validation=model_selection.train_test_split(\n",
    "#     X,y,test_size=validation_size,random_state=seed)"
   ]
  },
  {
   "cell_type": "code",
   "execution_count": 29,
   "metadata": {},
   "outputs": [
    {
     "name": "stdout",
     "output_type": "stream",
     "text": [
      "(626, 41)\n",
      "(209, 41)\n",
      "(209, 41)\n",
      "(626,)\n",
      "(209,)\n",
      "(209,)\n"
     ]
    }
   ],
   "source": [
    "# print(X_train.shape)\n",
    "# print(X_validation.shape)\n",
    "# print(y_train.shape)\n",
    "# print(y_validation.shape)\n",
    "\n",
    "X_train, X_test, y_train, y_test = model_selection.train_test_split(X, y, test_size=0.2, random_state=1)\n",
    "\n",
    "X_train, X_val, y_train, y_val   = model_selection.train_test_split(X_train, y_train, test_size=0.25, random_state=1)\n",
    "\n",
    "print(X_train.shape)\n",
    "print(X_val.shape)\n",
    "print(X_test.shape)\n",
    "print(y_train.shape)\n",
    "print(y_val.shape)\n",
    "print(y_test.shape)"
   ]
  },
  {
   "cell_type": "code",
   "execution_count": 30,
   "metadata": {},
   "outputs": [],
   "source": [
    "# X_train['G2'].unique()"
   ]
  },
  {
   "cell_type": "code",
   "execution_count": 60,
   "metadata": {},
   "outputs": [
    {
     "data": {
      "image/png": "[encoded data removed]",
      "text/plain": [
       "<Figure size 1080x360 with 9 Axes>"
      ]
     },
     "metadata": {
      "needs_background": "light"
     },
     "output_type": "display_data"
    }
   ],
   "source": [
    "# plot\n",
    "\n",
    "import matplotlib.pyplot as plt \n",
    "\n",
    "fig, ax = plt.subplots(3, 3,figsize=(15,5))\n",
    "xnum=0\n",
    "for i in range(3):\n",
    "    for j in range(3):\n",
    "        ax[i,j].plot(X[X.columns[xnum]], y)\n",
    "        ax[i,j].set_title(X.columns[xnum])\n",
    "        ax[i,j].set_ylabel('G3')\n",
    "        xnum +=1\n",
    "\n",
    "\n",
    "plt.show()"
   ]
  },
  {
   "cell_type": "code",
   "execution_count": 14,
   "metadata": {},
   "outputs": [
    {
     "name": "stdout",
     "output_type": "stream",
     "text": [
      "5.583732057416268\n",
      "0.3444976076555024\n"
     ]
    }
   ],
   "source": [
    "# KNN\n",
    "# Create and fit a nearest-neighbor classifier\n",
    "from sklearn.neighbors import KNeighborsClassifier\n",
    "from sklearn.metrics import mean_squared_error\n",
    "\n",
    "knn = KNeighborsClassifier()\n",
    "knn = knn.fit(X_train, y_train)\n",
    "pred=knn.predict(X_val)\n",
    "knn_error = mean_squared_error(y_val, pred)\n",
    "print(knn_error)\n",
    "print(knn.score(X_test,y_test))"
   ]
  },
  {
   "cell_type": "code",
   "execution_count": 57,
   "metadata": {},
   "outputs": [
    {
     "name": "stdout",
     "output_type": "stream",
     "text": [
      "3.117792390114332\n",
      "0.8228368759326073\n"
     ]
    }
   ],
   "source": [
    "# LinearRegression\n",
    "from sklearn.linear_model import LinearRegression\n",
    "reg = LinearRegression(fit_intercept=True)    # create an object for linear predictors\n",
    "reg = reg.fit(X_train, y_train)    # find best linear predictor (minimize training error)\n",
    "pred = reg.predict(X_val)    # compute predictions of best predictors \n",
    "linreg_error = mean_squared_error(y_val, pred)    # compute training error \n",
    "print(linreg_error)\n",
    "print(reg.score(X_test,y_test))"
   ]
  },
  {
   "cell_type": "code",
   "execution_count": 56,
   "metadata": {},
   "outputs": [
    {
     "name": "stdout",
     "output_type": "stream",
     "text": [
      "3.117792390114332\n",
      "0.8228368759326073\n"
     ]
    }
   ],
   "source": [
    "# LinearRegression + scale\n",
    "from sklearn.linear_model import LinearRegression\n",
    "reg = LinearRegression(fit_intercept=True)    # create an object for linear predictors\n",
    "reg = reg.fit(X_train, y_train)    # find best linear predictor (minimize training error)\n",
    "pred = reg.predict(X_val)    # compute predictions of best predictors \n",
    "linreg_error = mean_squared_error(y_val, pred)    # compute training error \n",
    "print(linreg_error)\n",
    "print(reg.score(X_test,y_test))"
   ]
  },
  {
   "cell_type": "code",
   "execution_count": 66,
   "metadata": {},
   "outputs": [],
   "source": [
    "# LogisticRegression\n",
    "# from sklearn.linear_model import LogisticRegression\n",
    "# log_reg = LogisticRegression(random_state=0,C=1e6,solver='lbfgs', max_iter=100)\n",
    "# log_reg.fit(X_train,y_train)\n",
    "# y_pred = log_reg.predict(X_val)\n",
    "# log_reg_error = mean_squared_error(y_val, pred)\n",
    "# print(log_reg_error)\n",
    "# print(log_reg.score(X_test,y_test))"
   ]
  },
  {
   "cell_type": "code",
   "execution_count": 67,
   "metadata": {},
   "outputs": [],
   "source": [
    "# LogisticRegression + scale\n",
    "# from sklearn.linear_model import LogisticRegression\n",
    "# log_reg = LogisticRegression(random_state=0,C=1e6)\n",
    "# X_train_scale=preprocessing.scale(X_train)\n",
    "# log_reg.fit(X_train_scale,y_train)\n",
    "# y_pred = log_reg.predict(X_val)\n",
    "# log_reg_error = mean_squared_error(y_val, pred)\n",
    "# print(log_reg_error)\n",
    "# print(log_reg.score(X_test,y_test))\n"
   ]
  },
  {
   "cell_type": "code",
   "execution_count": 12,
   "metadata": {},
   "outputs": [],
   "source": [
    "# Test option and evaluation metric\n",
    "scoring = 'accuracy'"
   ]
  },
  {
   "cell_type": "code",
   "execution_count": 80,
   "metadata": {},
   "outputs": [],
   "source": [
    "models=[]\n",
    "# models.append(('LR',LogisticRegression()))\n",
    "# models.append(('REG',LinearRegression()))\n",
    "models.append(('KNN',KNeighborsClassifier()))\n",
    "models.append(('SVM',SVC()))"
   ]
  },
  {
   "cell_type": "code",
   "execution_count": 81,
   "metadata": {},
   "outputs": [
    {
     "name": "stdout",
     "output_type": "stream",
     "text": [
      "KNN: 0.293958 (0.040534)\n",
      "SVM: 0.300358 (0.076193)\n"
     ]
    }
   ],
   "source": [
    "# evaluate each model\n",
    "results=[]\n",
    "names=[]\n",
    "\n",
    "\n",
    "# clf = LogisticRegression(random_state=0).fit(X_train, y_train)\n",
    "# clf.predict(X_validation)\n",
    "\n",
    "# clf.predict_proba(X[:2, :])\n",
    "\n",
    "\n",
    "# clf.score(X_validation, y_validation)\n",
    "\n",
    "for name,model in models:\n",
    "    kfold=model_selection.KFold(n_splits=10,random_state=seed,shuffle=True)\n",
    "    cv_results=model_selection.cross_val_score(model,X_train,y_train,cv=kfold,scoring=scoring)\n",
    "    names.append(name)\n",
    "    msg= \"%s: %f (%f)\" %(name,cv_results.mean(),cv_results.std())\n",
    "    print(msg)"
   ]
  },
  {
   "cell_type": "code",
   "execution_count": null,
   "metadata": {},
   "outputs": [],
   "source": []
  }
 ],
 "metadata": {
  "kernelspec": {
   "display_name": "Python 3",
   "language": "python",
   "name": "python3"
  },
  "language_info": {
   "codemirror_mode": {
    "name": "ipython",
    "version": 3
   },
   "file_extension": ".py",
   "mimetype": "text/x-python",
   "name": "python",
   "nbconvert_exporter": "python",
   "pygments_lexer": "ipython3",
   "version": "3.7.6"
  }
 },
 "nbformat": 4,
 "nbformat_minor": 4
}
