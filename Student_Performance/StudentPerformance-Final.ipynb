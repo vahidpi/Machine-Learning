{
 "cells": [
  {
   "cell_type": "markdown",
   "metadata": {},
   "source": [
    "<h1>Student Perject </h1>\n",
    "<h2>CS-EJ3211 - Machine Learning with Python D, 07.09.2020-11.12.2020</h2>\n"
   ]
  },
  {
   "cell_type": "markdown",
   "metadata": {},
   "source": [
    "<h1>Vahid Piroozbakht</h1>"
   ]
  },
  {
   "cell_type": "markdown",
   "metadata": {},
   "source": [
    "<h2> Dataset Name : “Student Performance Data Set”.</h2>\n",
    "\n",
    "Source : UCI Machine Learning Repository (https://archive.ics.uci.edu/ml/datasets/Student+Performance)\n",
    "\n",
    "<h2> 1. Introduction:</h2>\n",
    "This data approach student achievement in secondary education of two Portuguese schools. The data attributes include student grades, demographic, social and school related features) and it was collected by using school reports and questionnaires. Two datasets are provided regarding the performance in two distinct subjects: Mathematics (mat) and Portuguese language (por). In [Cortez and Silva, 2008], the two datasets were modeled under binary/five-level classification and regression tasks. Important note: the target attribute G3 has a strong correlation with attributes G2 and G1. This occurs because G3 is the final year grade (issued at the 3rd period), while G1 and G2 correspond to the 1st and 2nd period grades. It is more difficult to predict G3 without G2 and G1, but such prediction is much more useful (<a href='http://www3.dsi.uminho.pt/pcortez/student.pdf'>see paper source for more details</a>)."
   ]
  },
  {
   "cell_type": "code",
   "execution_count": 1,
   "metadata": {},
   "outputs": [],
   "source": [
    "# import libraries\n",
    "import numpy as np\n",
    "import matplotlib\n",
    "import pandas as pd\n",
    "import sklearn\n",
    "import matplotlib.pyplot as plt "
   ]
  },
  {
   "cell_type": "code",
   "execution_count": 2,
   "metadata": {},
   "outputs": [],
   "source": [
    "from sklearn import model_selection\n",
    "from sklearn import preprocessing\n",
    "from sklearn.linear_model import LogisticRegression\n",
    "from sklearn.neighbors import KNeighborsClassifier\n",
    "from sklearn.metrics import mean_squared_error\n",
    "from sklearn.linear_model import LinearRegression\n",
    "from sklearn.svm import SVC "
   ]
  },
  {
   "cell_type": "markdown",
   "metadata": {},
   "source": [
    "<h2>2. Problem Formulation: </h2>\n",
    "In this problem we have some information (features) per each student (data point) and the target of problem is G3 which is final point of one course (Mathematics or Portuguese language).\n",
    "The first step after reading data from 2 files (student-mat.csv and student-por.csv) and combine them, is doing some process (pre process) on features, that will explain later. after it will start to train the models to be ready fro prediction the student performance."
   ]
  },
  {
   "cell_type": "code",
   "execution_count": 3,
   "metadata": {},
   "outputs": [
    {
     "data": {
      "text/html": [
       "<div>\n",
       "<style scoped>\n",
       "    .dataframe tbody tr th:only-of-type {\n",
       "        vertical-align: middle;\n",
       "    }\n",
       "\n",
       "    .dataframe tbody tr th {\n",
       "        vertical-align: top;\n",
       "    }\n",
       "\n",
       "    .dataframe thead th {\n",
       "        text-align: right;\n",
       "    }\n",
       "</style>\n",
       "<table border=\"1\" class=\"dataframe\">\n",
       "  <thead>\n",
       "    <tr style=\"text-align: right;\">\n",
       "      <th></th>\n",
       "      <th>school</th>\n",
       "      <th>sex</th>\n",
       "      <th>age</th>\n",
       "      <th>address</th>\n",
       "      <th>famsize</th>\n",
       "      <th>Pstatus</th>\n",
       "      <th>Medu</th>\n",
       "      <th>Fedu</th>\n",
       "      <th>Mjob</th>\n",
       "      <th>Fjob</th>\n",
       "      <th>...</th>\n",
       "      <th>famrel</th>\n",
       "      <th>freetime</th>\n",
       "      <th>goout</th>\n",
       "      <th>Dalc</th>\n",
       "      <th>Walc</th>\n",
       "      <th>health</th>\n",
       "      <th>absences</th>\n",
       "      <th>G1</th>\n",
       "      <th>G2</th>\n",
       "      <th>G3</th>\n",
       "    </tr>\n",
       "  </thead>\n",
       "  <tbody>\n",
       "    <tr>\n",
       "      <th>0</th>\n",
       "      <td>GP</td>\n",
       "      <td>F</td>\n",
       "      <td>18</td>\n",
       "      <td>U</td>\n",
       "      <td>GT3</td>\n",
       "      <td>A</td>\n",
       "      <td>4</td>\n",
       "      <td>4</td>\n",
       "      <td>at_home</td>\n",
       "      <td>teacher</td>\n",
       "      <td>...</td>\n",
       "      <td>4</td>\n",
       "      <td>3</td>\n",
       "      <td>4</td>\n",
       "      <td>1</td>\n",
       "      <td>1</td>\n",
       "      <td>3</td>\n",
       "      <td>6</td>\n",
       "      <td>5</td>\n",
       "      <td>6</td>\n",
       "      <td>6</td>\n",
       "    </tr>\n",
       "    <tr>\n",
       "      <th>1</th>\n",
       "      <td>GP</td>\n",
       "      <td>F</td>\n",
       "      <td>17</td>\n",
       "      <td>U</td>\n",
       "      <td>GT3</td>\n",
       "      <td>T</td>\n",
       "      <td>1</td>\n",
       "      <td>1</td>\n",
       "      <td>at_home</td>\n",
       "      <td>other</td>\n",
       "      <td>...</td>\n",
       "      <td>5</td>\n",
       "      <td>3</td>\n",
       "      <td>3</td>\n",
       "      <td>1</td>\n",
       "      <td>1</td>\n",
       "      <td>3</td>\n",
       "      <td>4</td>\n",
       "      <td>5</td>\n",
       "      <td>5</td>\n",
       "      <td>6</td>\n",
       "    </tr>\n",
       "    <tr>\n",
       "      <th>2</th>\n",
       "      <td>GP</td>\n",
       "      <td>F</td>\n",
       "      <td>15</td>\n",
       "      <td>U</td>\n",
       "      <td>LE3</td>\n",
       "      <td>T</td>\n",
       "      <td>1</td>\n",
       "      <td>1</td>\n",
       "      <td>at_home</td>\n",
       "      <td>other</td>\n",
       "      <td>...</td>\n",
       "      <td>4</td>\n",
       "      <td>3</td>\n",
       "      <td>2</td>\n",
       "      <td>2</td>\n",
       "      <td>3</td>\n",
       "      <td>3</td>\n",
       "      <td>10</td>\n",
       "      <td>7</td>\n",
       "      <td>8</td>\n",
       "      <td>10</td>\n",
       "    </tr>\n",
       "    <tr>\n",
       "      <th>3</th>\n",
       "      <td>GP</td>\n",
       "      <td>F</td>\n",
       "      <td>15</td>\n",
       "      <td>U</td>\n",
       "      <td>GT3</td>\n",
       "      <td>T</td>\n",
       "      <td>4</td>\n",
       "      <td>2</td>\n",
       "      <td>health</td>\n",
       "      <td>services</td>\n",
       "      <td>...</td>\n",
       "      <td>3</td>\n",
       "      <td>2</td>\n",
       "      <td>2</td>\n",
       "      <td>1</td>\n",
       "      <td>1</td>\n",
       "      <td>5</td>\n",
       "      <td>2</td>\n",
       "      <td>15</td>\n",
       "      <td>14</td>\n",
       "      <td>15</td>\n",
       "    </tr>\n",
       "    <tr>\n",
       "      <th>4</th>\n",
       "      <td>GP</td>\n",
       "      <td>F</td>\n",
       "      <td>16</td>\n",
       "      <td>U</td>\n",
       "      <td>GT3</td>\n",
       "      <td>T</td>\n",
       "      <td>3</td>\n",
       "      <td>3</td>\n",
       "      <td>other</td>\n",
       "      <td>other</td>\n",
       "      <td>...</td>\n",
       "      <td>4</td>\n",
       "      <td>3</td>\n",
       "      <td>2</td>\n",
       "      <td>1</td>\n",
       "      <td>2</td>\n",
       "      <td>5</td>\n",
       "      <td>4</td>\n",
       "      <td>6</td>\n",
       "      <td>10</td>\n",
       "      <td>10</td>\n",
       "    </tr>\n",
       "  </tbody>\n",
       "</table>\n",
       "<p>5 rows × 33 columns</p>\n",
       "</div>"
      ],
      "text/plain": [
       "  school sex  age address famsize Pstatus  Medu  Fedu     Mjob      Fjob  ...  \\\n",
       "0     GP   F   18       U     GT3       A     4     4  at_home   teacher  ...   \n",
       "1     GP   F   17       U     GT3       T     1     1  at_home     other  ...   \n",
       "2     GP   F   15       U     LE3       T     1     1  at_home     other  ...   \n",
       "3     GP   F   15       U     GT3       T     4     2   health  services  ...   \n",
       "4     GP   F   16       U     GT3       T     3     3    other     other  ...   \n",
       "\n",
       "  famrel freetime  goout  Dalc  Walc health absences  G1  G2  G3  \n",
       "0      4        3      4     1     1      3        6   5   6   6  \n",
       "1      5        3      3     1     1      3        4   5   5   6  \n",
       "2      4        3      2     2     3      3       10   7   8  10  \n",
       "3      3        2      2     1     1      5        2  15  14  15  \n",
       "4      4        3      2     1     2      5        4   6  10  10  \n",
       "\n",
       "[5 rows x 33 columns]"
      ]
     },
     "execution_count": 3,
     "metadata": {},
     "output_type": "execute_result"
    }
   ],
   "source": [
    "# Load Dataset\n",
    "url = \"data/\"\n",
    "matDS=pd.read_csv(url+'student-mat.csv',sep=';')\n",
    "porDS=pd.read_csv(url+'student-por.csv',sep=';')\n",
    "# Merging two datasets \n",
    "dataSet=pd.concat([matDS,porDS])\n",
    "dataSet.head()"
   ]
  },
  {
   "cell_type": "markdown",
   "metadata": {},
   "source": [
    "<h3>2.1. Features:</h3>"
   ]
  },
  {
   "cell_type": "code",
   "execution_count": 4,
   "metadata": {},
   "outputs": [
    {
     "data": {
      "text/plain": [
       "Index(['school', 'sex', 'age', 'address', 'famsize', 'Pstatus', 'Medu', 'Fedu',\n",
       "       'Mjob', 'Fjob', 'reason', 'guardian', 'traveltime', 'studytime',\n",
       "       'failures', 'schoolsup', 'famsup', 'paid', 'activities', 'nursery',\n",
       "       'higher', 'internet', 'romantic', 'famrel', 'freetime', 'goout', 'Dalc',\n",
       "       'Walc', 'health', 'absences', 'G1', 'G2', 'G3'],\n",
       "      dtype='object')"
      ]
     },
     "execution_count": 4,
     "metadata": {},
     "output_type": "execute_result"
    }
   ],
   "source": [
    "dataSet.columns"
   ]
  },
  {
   "cell_type": "markdown",
   "metadata": {},
   "source": [
    "1. school - student's school (binary: 'GP' - Gabriel Pereira or 'MS' - Mousinho da Silveira)\n",
    "2. sex - student's sex (binary: 'F' - female or 'M' - male)\n",
    "3. age - student's age (numeric: from 15 to 22)\n",
    "4. address - student's home address type (binary: 'U' - urban or 'R' - rural)\n",
    "5. famsize - family size (binary: 'LE3' - less or equal to 3 or 'GT3' - greater than 3)\n",
    "6. Pstatus - parent's cohabitation status (binary: 'T' - living together or 'A' - apart)\n",
    "7. Medu - mother's education (numeric):\n",
    "<ul>\n",
    "    <li>0 - none</li>\n",
    "    <li>1 - primary education (4th grade)</li>\n",
    "    <li>3 - secondary education </li>\n",
    "    <li>4 - higher education</li>\n",
    "</ul>\n",
    "8. Fedu - father's education (numeric):\n",
    "<ul>\n",
    "    <li>0 - none</li>\n",
    "    <li>1 - primary education (4th grade)</li>\n",
    "    <li>3 - secondary education </li>\n",
    "    <li>4 - higher education</li>\n",
    "</ul>\n",
    "9. Mjob - mother's job (nominal): \n",
    "<ul>\n",
    "    <li>'teacher'</li>\n",
    "    <li>'health' care related</li>\n",
    "    <li>civil 'services' (e.g. administrative or police)</li>\n",
    "    <li>'at_home'</li>\n",
    "    <li> 'other'</li>\n",
    "</ul>\n",
    "10. Fjob - father's job (nominal): \n",
    "<ul>\n",
    "    <li>'teacher'</li>\n",
    "    <li>'health' care related</li>\n",
    "    <li>civil 'services' (e.g. administrative or police)</li>\n",
    "    <li>'at_home'</li>\n",
    "    <li> 'other'</li>\n",
    "</ul>\n",
    "11. reason - reason to choose this school (nominal: close to 'home', school 'reputation', 'course' preference or 'other')\n",
    "12. guardian - student's guardian (nominal: 'mother', 'father' or 'other')\n",
    "13. traveltime - home to school travel time (numeric: 1 - <15 min., 2 - 15 to 30 min., 3 - 30 min. to 1 hour, or 4 - >1 hour)\n",
    "14. studytime - weekly study time (numeric: 1 - <2 hours, 2 - 2 to 5 hours, 3 - 5 to 10 hours, or 4 - >10 hours)\n",
    "15. failures - number of past class failures (numeric: n if 1<=n<3, else 4)\n",
    "16. schoolsup - extra educational support (binary: yes or no)\n",
    "17. famsup - family educational support (binary: yes or no)\n",
    "18. paid - extra paid classes within the course subject (Math or Portuguese) (binary: yes or no)\n",
    "19. activities - extra-curricular activities (binary: yes or no)\n",
    "20. nursery - attended nursery school (binary: yes or no)\n",
    "21. higher - wants to take higher education (binary: yes or no)\n",
    "22. internet - Internet access at home (binary: yes or no)\n",
    "23. romantic - with a romantic relationship (binary: yes or no)\n",
    "24. famrel - quality of family relationships (numeric: from 1 - very bad to 5 - excellent)\n",
    "25. freetime - free time after school (numeric: from 1 - very low to 5 - very high)\n",
    "26. goout - going out with friends (numeric: from 1 - very low to 5 - very high)\n",
    "27. Dalc - workday alcohol consumption (numeric: from 1 - very low to 5 - very high)\n",
    "28. Walc - weekend alcohol consumption (numeric: from 1 - very low to 5 - very high)\n",
    "29. health - current health status (numeric: from 1 - very bad to 5 - very good)\n",
    "30. absences - number of school absences (numeric: from 0 to 93)\n",
    "31. G1 - first period grade (numeric: from 0 to 20)\n",
    "32. G2 - second period grade (numeric: from 0 to 20)\n",
    "#### Output target\n",
    "33. G3 - final grade (numeric: from 0 to 20)"
   ]
  },
  {
   "cell_type": "code",
   "execution_count": 5,
   "metadata": {},
   "outputs": [],
   "source": [
    "# remove output target and assin it to y\n",
    "y=dataSet['G3']\n",
    "dataSet=dataSet.drop(columns=['G3'])\n",
    "X=dataSet"
   ]
  },
  {
   "cell_type": "markdown",
   "metadata": {},
   "source": [
    "Here is one example of data (features) and the target (G3), Final point."
   ]
  },
  {
   "cell_type": "code",
   "execution_count": 6,
   "metadata": {},
   "outputs": [
    {
     "data": {
      "image/png": "[encoded data removed]",
      "text/plain": [
       "<Figure size 432x288 with 1 Axes>"
      ]
     },
     "metadata": {
      "needs_background": "light"
     },
     "output_type": "display_data"
    }
   ],
   "source": [
    "# G1, G2 and G3\n",
    "plt.plot(y[1],X.G1[1])\n",
    "plt.plot(y[1],X.G2[1])\n",
    "plt.title(\"G1, G2 and G3\")\n",
    "plt.xlabel(\"Midterm point G1 and G2\")\n",
    "plt.ylabel(\"G3 - Final point\")\n",
    "plt.legend(['G1','G2'])\n",
    "plt.show()"
   ]
  },
  {
   "cell_type": "markdown",
   "metadata": {},
   "source": [
    "<h3>2.2. Pre processing features:</h3>\n",
    "In this data set we have 3 different type of features, <b>binary</b> that has true of false, of or like sex column, F or M which show Female of Male. <b>numeric</b> that contents number value and <b>nominal</b> which filed by some string values. About numeric data, no need to do any thing but should do data transformation for binary and nominal data. <br><br>\n",
    "Here the features (columns) are divided by there type (Binary,Number and Nominal). "
   ]
  },
  {
   "cell_type": "code",
   "execution_count": 7,
   "metadata": {},
   "outputs": [],
   "source": [
    "nominalFields=['Mjob', 'Fjob','reason','guardian']\n",
    "intFields=['age', 'Medu', 'Fedu', 'traveltime', 'studytime', 'failures', 'famrel',\n",
    "       'freetime', 'goout', 'Dalc', 'Walc', 'health', 'absences', 'G1', 'G2']\n",
    "binaryFields=['sex','address','school','famsize','Pstatus',   'schoolsup', 'famsup',\n",
    "       'paid', 'activities', 'nursery', 'higher', 'internet', 'romantic']"
   ]
  },
  {
   "cell_type": "markdown",
   "metadata": {},
   "source": [
    "<h3>2.3. Transferring binary features:</h3>\n",
    "Binary features like <i>school</i> or <i>activities</i> have only 2 values, yes/no or GP/MS etc. Should those values change to 0/1 to be usable in models. The <b>feature_transfer_label_encoder</b> function will get the feature name and transfer the values to zero and one."
   ]
  },
  {
   "cell_type": "code",
   "execution_count": 8,
   "metadata": {},
   "outputs": [],
   "source": [
    "def feature_transfer_label_encoder(fieldName,dataSet):\n",
    "    before=dataSet.groupby(fieldName).size()\n",
    "    leVar = preprocessing.LabelEncoder()\n",
    "    dataSet[fieldName] =leVar.fit_transform(dataSet[fieldName]) \n",
    "    after=dataSet.groupby(fieldName).size()  \n",
    "    print(fieldName,' :')\n",
    "    print('    -',before.index[0],'->',after.index[0],', Count: ',after[0])\n",
    "    print('    -',before.index[1],'->',after.index[1],', Count: ',after[1])"
   ]
  },
  {
   "cell_type": "markdown",
   "metadata": {},
   "source": [
    "We call the <i>feature_transfer_label_encoder</i> function for all binary features that are in the <i>binaryFields</i> variable. and will see the summary of changes per each binary feature."
   ]
  },
  {
   "cell_type": "code",
   "execution_count": 9,
   "metadata": {},
   "outputs": [
    {
     "name": "stdout",
     "output_type": "stream",
     "text": [
      "sex  :\n",
      "    - F -> 0 , Count:  591\n",
      "    - M -> 1 , Count:  453\n",
      "address  :\n",
      "    - R -> 0 , Count:  285\n",
      "    - U -> 1 , Count:  759\n",
      "school  :\n",
      "    - GP -> 0 , Count:  772\n",
      "    - MS -> 1 , Count:  272\n",
      "famsize  :\n",
      "    - GT3 -> 0 , Count:  738\n",
      "    - LE3 -> 1 , Count:  306\n",
      "Pstatus  :\n",
      "    - A -> 0 , Count:  121\n",
      "    - T -> 1 , Count:  923\n",
      "schoolsup  :\n",
      "    - no -> 0 , Count:  925\n",
      "    - yes -> 1 , Count:  119\n",
      "famsup  :\n",
      "    - no -> 0 , Count:  404\n",
      "    - yes -> 1 , Count:  640\n",
      "paid  :\n",
      "    - no -> 0 , Count:  824\n",
      "    - yes -> 1 , Count:  220\n",
      "activities  :\n",
      "    - no -> 0 , Count:  528\n",
      "    - yes -> 1 , Count:  516\n",
      "nursery  :\n",
      "    - no -> 0 , Count:  209\n",
      "    - yes -> 1 , Count:  835\n",
      "higher  :\n",
      "    - no -> 0 , Count:  89\n",
      "    - yes -> 1 , Count:  955\n",
      "internet  :\n",
      "    - no -> 0 , Count:  217\n",
      "    - yes -> 1 , Count:  827\n",
      "romantic  :\n",
      "    - no -> 0 , Count:  673\n",
      "    - yes -> 1 , Count:  371\n"
     ]
    }
   ],
   "source": [
    "# Convert binary data to 0 and 1\n",
    "for f in binaryFields:\n",
    "    feature_transfer_label_encoder(f,X)"
   ]
  },
  {
   "cell_type": "markdown",
   "metadata": {},
   "source": [
    "<h3>2.4. Transferring nominal features:</h3>\n",
    "Nominal features like <i>Mjob</i> or <i>Fjob</i> have some values like 'teacher', 'at_home' etc that are listed above, those values should change to dummy data in separate columns. The <b>feature_transfer_nominal_converter</b> function will get the feature name and transfer the values to dummy columns."
   ]
  },
  {
   "cell_type": "code",
   "execution_count": 10,
   "metadata": {},
   "outputs": [],
   "source": [
    "def feature_transfer_nominal_converter(fieldName,dataSet):\n",
    "    dummy_data=pd.get_dummies(dataSet[fieldName], prefix=fieldName)\n",
    "    dummy_data=dummy_data.drop(columns=[fieldName+'_other']) # remove other field from dummy data\n",
    "    res=pd.concat([dataSet, dummy_data], axis=1, sort=False) # concat dummy data with main data set\n",
    "    res=res.drop(columns=[fieldName]) # remove original field from result\n",
    "    return res"
   ]
  },
  {
   "cell_type": "code",
   "execution_count": 11,
   "metadata": {},
   "outputs": [],
   "source": [
    "# Convert nominal data to dummy\n",
    "for f in nominalFields:\n",
    "    tr=feature_transfer_nominal_converter(f,X)\n",
    "    X=tr # fill main data set with converted data"
   ]
  },
  {
   "cell_type": "markdown",
   "metadata": {},
   "source": [
    "So far our data (features) are ready and we go to define and teach the model"
   ]
  },
  {
   "cell_type": "markdown",
   "metadata": {},
   "source": [
    "<hr/>"
   ]
  },
  {
   "cell_type": "markdown",
   "metadata": {},
   "source": [
    "<h2>3. Method:</h2>\n",
    "In this project we are using different machine learning algorithms to train data and then will test it. for this purpose first we divide the data points to 2 different sub sets(train and test)"
   ]
  },
  {
   "cell_type": "code",
   "execution_count": 12,
   "metadata": {},
   "outputs": [],
   "source": [
    "# Split-out validation dataset\n",
    "X_train,X_test,y_train,y_test=model_selection.train_test_split(\n",
    "    X,y,test_size=0.20,random_state=7)"
   ]
  },
  {
   "cell_type": "markdown",
   "metadata": {},
   "source": [
    "<h3>3.1. LinearRegression:</h3>"
   ]
  },
  {
   "cell_type": "code",
   "execution_count": 13,
   "metadata": {},
   "outputs": [
    {
     "name": "stdout",
     "output_type": "stream",
     "text": [
      "training error:  2.1266587449414676\n",
      "validation error:  3.5036622410469334\n",
      "Score:  0.7724470452520792\n"
     ]
    }
   ],
   "source": [
    "reg = LinearRegression(fit_intercept=True)    # create an object for linear predictors\n",
    "reg = reg.fit(X_train, y_train)    # find best linear predictor (minimize training error)\n",
    "pred = reg.predict(X_train)    # compute predictions of best predictors \n",
    "tr_reg_error = mean_squared_error(y_train, pred)    # compute training error \n",
    "print(\"training error: \",tr_reg_error)\n",
    "\n",
    "pred = reg.predict(X_test)    # compute predictions of validation set\n",
    "val_reg_error = mean_squared_error(y_test, pred)    # compute validation error \n",
    "print(\"validation error: \",val_reg_error)\n",
    "print(\"Score: \",reg.score(X_test,y_test))"
   ]
  },
  {
   "cell_type": "markdown",
   "metadata": {},
   "source": [
    "<h3>3.2. KNeighborsClassifier: </h3>"
   ]
  },
  {
   "cell_type": "code",
   "execution_count": 14,
   "metadata": {},
   "outputs": [
    {
     "name": "stdout",
     "output_type": "stream",
     "text": [
      "training error:  3.0395209580838323\n",
      "validation error:  4.023923444976076\n",
      "Score:  0.3444976076555024\n"
     ]
    }
   ],
   "source": [
    "# KNN\n",
    "knn = KNeighborsClassifier()\n",
    "knn = knn.fit(X_train, y_train)\n",
    "pred= knn.predict(X_train)\n",
    "tr_knn_error = mean_squared_error(y_train, pred)    # compute training error \n",
    "print(\"training error: \",tr_knn_error)\n",
    "\n",
    "pred = knn.predict(X_test)    # compute predictions of validation set\n",
    "val_knn_error = mean_squared_error(y_test, pred)    # compute validation error \n",
    "print(\"validation error: \",val_knn_error)\n",
    "print(\"Score: \",knn.score(X_test,y_test))"
   ]
  },
  {
   "cell_type": "markdown",
   "metadata": {},
   "source": [
    "<h3>3.3. SVM:</h3>"
   ]
  },
  {
   "cell_type": "code",
   "execution_count": 15,
   "metadata": {},
   "outputs": [
    {
     "name": "stdout",
     "output_type": "stream",
     "text": [
      "training error:  3.864670658682635\n",
      "validation error:  5.631578947368421\n",
      "Score:  0.3492822966507177\n"
     ]
    }
   ],
   "source": [
    "# SVM\n",
    "svm=SVC()\n",
    "svm=svm.fit(X_train, y_train)\n",
    "pred= svm.predict(X_train)\n",
    "tr_svm_error = mean_squared_error(y_train, pred)    # compute training error \n",
    "print(\"training error: \",tr_svm_error)\n",
    "\n",
    "pred = svm.predict(X_test)    # compute predictions of validation set\n",
    "val_svm_error = mean_squared_error(y_test, pred)    # compute validation error \n",
    "print(\"validation error: \",val_svm_error)\n",
    "print(\"Score: \",svm.score(X_test,y_test))"
   ]
  },
  {
   "cell_type": "markdown",
   "metadata": {},
   "source": [
    "<h2>4. Results:</h2>\n",
    "<table>\n",
    "    <tr>\n",
    "        <th>Method</th>\n",
    "        <th>Accuracy (%)</th>\n",
    "        <th>Training Error</th>\n",
    "        <th>Validation Error</th>\n",
    "    </tr>\n",
    "    <tr>\n",
    "        <th>LinearRegression</th>\n",
    "        <th>77.2</th>\n",
    "        <th>2.12</th>\n",
    "        <th>3.5</th>\n",
    "    </tr>\n",
    "    <tr>\n",
    "        <th>KNeighborsClassifier</th>\n",
    "        <th>34.4</th>\n",
    "        <th>3.03</th>\n",
    "        <th>4.02</th>\n",
    "    </tr>\n",
    "    <tr>\n",
    "        <th>SVM</th>\n",
    "        <th>34.9</th>\n",
    "        <th>3.86</th>\n",
    "        <th>5.63</th>\n",
    "    </tr>\n",
    "</table>"
   ]
  },
  {
   "cell_type": "markdown",
   "metadata": {},
   "source": [
    "<h2>5. Conclusion:</h2>\n",
    "In this study 3 algorithms of ML were used. according to the results, seems using some algorithms only is not enough. the other important point is choosing best algorithm for a particular problem and also preparing the data and feature engineering is other important factor."
   ]
  }
 ],
 "metadata": {
  "kernelspec": {
   "display_name": "Python 3 (ipykernel)",
   "language": "python",
   "name": "python3"
  },
  "language_info": {
   "codemirror_mode": {
    "name": "ipython",
    "version": 3
   },
   "file_extension": ".py",
   "mimetype": "text/x-python",
   "name": "python",
   "nbconvert_exporter": "python",
   "pygments_lexer": "ipython3",
   "version": "3.9.13"
  }
 },
 "nbformat": 4,
 "nbformat_minor": 4
}
