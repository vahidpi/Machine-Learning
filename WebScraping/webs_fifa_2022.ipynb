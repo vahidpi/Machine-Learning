{
 "cells": [
  {
   "cell_type": "code",
   "execution_count": 1,
   "id": "85ee7f4b",
   "metadata": {},
   "outputs": [],
   "source": [
    "import requests"
   ]
  },
  {
   "cell_type": "code",
   "execution_count": 2,
   "id": "92d6e21b",
   "metadata": {},
   "outputs": [],
   "source": [
    "from bs4 import BeautifulSoup"
   ]
  },
  {
   "cell_type": "code",
   "execution_count": 3,
   "id": "6cdb3c52",
   "metadata": {},
   "outputs": [],
   "source": [
    "url=\"https://www.sportingnews.com/au/soccer/news/fifa-world-cup-schedule-2022-match-dates-times-team-fixtures/rikum04od4igad8n0o8yanoo\""
   ]
  },
  {
   "cell_type": "code",
   "execution_count": 4,
   "id": "9c134e5b",
   "metadata": {},
   "outputs": [],
   "source": [
    "rawText=result=requests.get(url)"
   ]
  },
  {
   "cell_type": "code",
   "execution_count": 12,
   "id": "f4237359",
   "metadata": {},
   "outputs": [],
   "source": [
    "doc=BeautifulSoup(rawText.text,\"html.parser\")"
   ]
  },
  {
   "cell_type": "code",
   "execution_count": 13,
   "id": "5c4d2d0a",
   "metadata": {},
   "outputs": [],
   "source": [
    "table_tags=doc.find_all(\"table\")"
   ]
  },
  {
   "cell_type": "code",
   "execution_count": 136,
   "id": "0adda131",
   "metadata": {},
   "outputs": [],
   "source": [
    "tableContainsTarget=[]\n",
    "for table in table_tags:\n",
    "    if table.find_all(['strong'],text=\"Stadium\"):\n",
    "        tableContainsTarget.append(table)"
   ]
  },
  {
   "cell_type": "code",
   "execution_count": 129,
   "id": "9a4e3697",
   "metadata": {},
   "outputs": [],
   "source": [
    "# tableRowsContaiensTarget = tableContainsStadium[0].find_all('tr')"
   ]
  },
  {
   "cell_type": "code",
   "execution_count": 130,
   "id": "4e4233c1",
   "metadata": {},
   "outputs": [],
   "source": [
    "def getTargetColumnIndex(tableRowsContaiensTarget):\n",
    "    targetColumnIndex=0\n",
    "    for tr in tableRowsContaiensTarget: \n",
    "        if tr.find_all(\"strong\", text=\"Stadium\"):\n",
    "            tds=tr.find_all(\"td\")\n",
    "            for td in tds:\n",
    "                targetColumnIndex+=1\n",
    "                if td.find_all(\"strong\", text=\"Stadium\"): \n",
    "                    return targetColumnIndex\n",
    "    return -1"
   ]
  },
  {
   "cell_type": "code",
   "execution_count": 131,
   "id": "e7310305",
   "metadata": {},
   "outputs": [],
   "source": [
    "def fetchTargetFromRow(tableRowsContaiensTarget):\n",
    "    indexTargetColumn = getTargetColumnIndex(tableRowsContaiensTarget)\n",
    "    targetList=[]\n",
    "    for tr in tableRowsContaiensTarget:\n",
    "        tds=tr.find_all(\"td\")\n",
    "        if tds[indexTargetColumn-1].text.strip() != \"\":\n",
    "            targetList.append(tds[indexTargetColumn-1].text)\n",
    "    return targetList[1:]"
   ]
  },
  {
   "cell_type": "code",
   "execution_count": 153,
   "id": "d7211b34",
   "metadata": {},
   "outputs": [],
   "source": [
    "outList=set([])\n",
    "for tbl in tableContainsTarget:\n",
    "    for target in fetchTargetFromRow(tbl.find_all('tr')):\n",
    "        outList.add(target)"
   ]
  },
  {
   "cell_type": "code",
   "execution_count": 154,
   "id": "92b2608a",
   "metadata": {},
   "outputs": [
    {
     "data": {
      "text/plain": [
       "{'Ahmad Bin Ali',\n",
       " 'Al Bayt',\n",
       " 'Al Janoub',\n",
       " 'Al Thumama',\n",
       " 'Education City',\n",
       " \"Khalifa Int'l\",\n",
       " 'Lusail',\n",
       " 'Stadium 974'}"
      ]
     },
     "execution_count": 154,
     "metadata": {},
     "output_type": "execute_result"
    }
   ],
   "source": [
    "outList"
   ]
  },
  {
   "cell_type": "code",
   "execution_count": null,
   "id": "712b458d",
   "metadata": {},
   "outputs": [],
   "source": []
  },
  {
   "cell_type": "code",
   "execution_count": null,
   "id": "0a96cfed",
   "metadata": {},
   "outputs": [],
   "source": []
  }
 ],
 "metadata": {
  "kernelspec": {
   "display_name": "Python 3 (ipykernel)",
   "language": "python",
   "name": "python3"
  },
  "language_info": {
   "codemirror_mode": {
    "name": "ipython",
    "version": 3
   },
   "file_extension": ".py",
   "mimetype": "text/x-python",
   "name": "python",
   "nbconvert_exporter": "python",
   "pygments_lexer": "ipython3",
   "version": "3.9.13"
  }
 },
 "nbformat": 4,
 "nbformat_minor": 5
}
